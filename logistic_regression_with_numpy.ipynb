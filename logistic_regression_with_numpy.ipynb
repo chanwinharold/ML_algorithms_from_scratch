{
 "cells": [
  {
   "cell_type": "code",
   "id": "initial_id",
   "metadata": {
    "collapsed": true,
    "ExecuteTime": {
     "end_time": "2025-08-29T12:37:59.620056Z",
     "start_time": "2025-08-29T12:37:59.617482Z"
    }
   },
   "source": [
    "import numpy as np\n",
    "import matplotlib.pyplot as plt\n",
    "import pandas as pd"
   ],
   "outputs": [],
   "execution_count": 87
  },
  {
   "metadata": {},
   "cell_type": "markdown",
   "source": "## Dataset",
   "id": "5e21652397e2d354"
  },
  {
   "metadata": {
    "ExecuteTime": {
     "end_time": "2025-08-29T12:37:59.683209Z",
     "start_time": "2025-08-29T12:37:59.668280Z"
    }
   },
   "cell_type": "code",
   "source": [
    "data = pd.read_csv(\"./datasets/Breast_cancer_data.csv\")\n",
    "data.head(20)"
   ],
   "id": "d063f6f1a75334ea",
   "outputs": [
    {
     "data": {
      "text/plain": [
       "    mean_radius  mean_texture  mean_perimeter  mean_area  mean_smoothness  \\\n",
       "0         17.99         10.38          122.80     1001.0          0.11840   \n",
       "1         20.57         17.77          132.90     1326.0          0.08474   \n",
       "2         19.69         21.25          130.00     1203.0          0.10960   \n",
       "3         11.42         20.38           77.58      386.1          0.14250   \n",
       "4         20.29         14.34          135.10     1297.0          0.10030   \n",
       "5         12.45         15.70           82.57      477.1          0.12780   \n",
       "6         18.25         19.98          119.60     1040.0          0.09463   \n",
       "7         13.71         20.83           90.20      577.9          0.11890   \n",
       "8         13.00         21.82           87.50      519.8          0.12730   \n",
       "9         12.46         24.04           83.97      475.9          0.11860   \n",
       "10        16.02         23.24          102.70      797.8          0.08206   \n",
       "11        15.78         17.89          103.60      781.0          0.09710   \n",
       "12        19.17         24.80          132.40     1123.0          0.09740   \n",
       "13        15.85         23.95          103.70      782.7          0.08401   \n",
       "14        13.73         22.61           93.60      578.3          0.11310   \n",
       "15        14.54         27.54           96.73      658.8          0.11390   \n",
       "16        14.68         20.13           94.74      684.5          0.09867   \n",
       "17        16.13         20.68          108.10      798.8          0.11700   \n",
       "18        19.81         22.15          130.00     1260.0          0.09831   \n",
       "19        13.54         14.36           87.46      566.3          0.09779   \n",
       "\n",
       "    diagnosis  \n",
       "0           0  \n",
       "1           0  \n",
       "2           0  \n",
       "3           0  \n",
       "4           0  \n",
       "5           0  \n",
       "6           0  \n",
       "7           0  \n",
       "8           0  \n",
       "9           0  \n",
       "10          0  \n",
       "11          0  \n",
       "12          0  \n",
       "13          0  \n",
       "14          0  \n",
       "15          0  \n",
       "16          0  \n",
       "17          0  \n",
       "18          0  \n",
       "19          1  "
      ],
      "text/html": [
       "<div>\n",
       "<style scoped>\n",
       "    .dataframe tbody tr th:only-of-type {\n",
       "        vertical-align: middle;\n",
       "    }\n",
       "\n",
       "    .dataframe tbody tr th {\n",
       "        vertical-align: top;\n",
       "    }\n",
       "\n",
       "    .dataframe thead th {\n",
       "        text-align: right;\n",
       "    }\n",
       "</style>\n",
       "<table border=\"1\" class=\"dataframe\">\n",
       "  <thead>\n",
       "    <tr style=\"text-align: right;\">\n",
       "      <th></th>\n",
       "      <th>mean_radius</th>\n",
       "      <th>mean_texture</th>\n",
       "      <th>mean_perimeter</th>\n",
       "      <th>mean_area</th>\n",
       "      <th>mean_smoothness</th>\n",
       "      <th>diagnosis</th>\n",
       "    </tr>\n",
       "  </thead>\n",
       "  <tbody>\n",
       "    <tr>\n",
       "      <th>0</th>\n",
       "      <td>17.99</td>\n",
       "      <td>10.38</td>\n",
       "      <td>122.80</td>\n",
       "      <td>1001.0</td>\n",
       "      <td>0.11840</td>\n",
       "      <td>0</td>\n",
       "    </tr>\n",
       "    <tr>\n",
       "      <th>1</th>\n",
       "      <td>20.57</td>\n",
       "      <td>17.77</td>\n",
       "      <td>132.90</td>\n",
       "      <td>1326.0</td>\n",
       "      <td>0.08474</td>\n",
       "      <td>0</td>\n",
       "    </tr>\n",
       "    <tr>\n",
       "      <th>2</th>\n",
       "      <td>19.69</td>\n",
       "      <td>21.25</td>\n",
       "      <td>130.00</td>\n",
       "      <td>1203.0</td>\n",
       "      <td>0.10960</td>\n",
       "      <td>0</td>\n",
       "    </tr>\n",
       "    <tr>\n",
       "      <th>3</th>\n",
       "      <td>11.42</td>\n",
       "      <td>20.38</td>\n",
       "      <td>77.58</td>\n",
       "      <td>386.1</td>\n",
       "      <td>0.14250</td>\n",
       "      <td>0</td>\n",
       "    </tr>\n",
       "    <tr>\n",
       "      <th>4</th>\n",
       "      <td>20.29</td>\n",
       "      <td>14.34</td>\n",
       "      <td>135.10</td>\n",
       "      <td>1297.0</td>\n",
       "      <td>0.10030</td>\n",
       "      <td>0</td>\n",
       "    </tr>\n",
       "    <tr>\n",
       "      <th>5</th>\n",
       "      <td>12.45</td>\n",
       "      <td>15.70</td>\n",
       "      <td>82.57</td>\n",
       "      <td>477.1</td>\n",
       "      <td>0.12780</td>\n",
       "      <td>0</td>\n",
       "    </tr>\n",
       "    <tr>\n",
       "      <th>6</th>\n",
       "      <td>18.25</td>\n",
       "      <td>19.98</td>\n",
       "      <td>119.60</td>\n",
       "      <td>1040.0</td>\n",
       "      <td>0.09463</td>\n",
       "      <td>0</td>\n",
       "    </tr>\n",
       "    <tr>\n",
       "      <th>7</th>\n",
       "      <td>13.71</td>\n",
       "      <td>20.83</td>\n",
       "      <td>90.20</td>\n",
       "      <td>577.9</td>\n",
       "      <td>0.11890</td>\n",
       "      <td>0</td>\n",
       "    </tr>\n",
       "    <tr>\n",
       "      <th>8</th>\n",
       "      <td>13.00</td>\n",
       "      <td>21.82</td>\n",
       "      <td>87.50</td>\n",
       "      <td>519.8</td>\n",
       "      <td>0.12730</td>\n",
       "      <td>0</td>\n",
       "    </tr>\n",
       "    <tr>\n",
       "      <th>9</th>\n",
       "      <td>12.46</td>\n",
       "      <td>24.04</td>\n",
       "      <td>83.97</td>\n",
       "      <td>475.9</td>\n",
       "      <td>0.11860</td>\n",
       "      <td>0</td>\n",
       "    </tr>\n",
       "    <tr>\n",
       "      <th>10</th>\n",
       "      <td>16.02</td>\n",
       "      <td>23.24</td>\n",
       "      <td>102.70</td>\n",
       "      <td>797.8</td>\n",
       "      <td>0.08206</td>\n",
       "      <td>0</td>\n",
       "    </tr>\n",
       "    <tr>\n",
       "      <th>11</th>\n",
       "      <td>15.78</td>\n",
       "      <td>17.89</td>\n",
       "      <td>103.60</td>\n",
       "      <td>781.0</td>\n",
       "      <td>0.09710</td>\n",
       "      <td>0</td>\n",
       "    </tr>\n",
       "    <tr>\n",
       "      <th>12</th>\n",
       "      <td>19.17</td>\n",
       "      <td>24.80</td>\n",
       "      <td>132.40</td>\n",
       "      <td>1123.0</td>\n",
       "      <td>0.09740</td>\n",
       "      <td>0</td>\n",
       "    </tr>\n",
       "    <tr>\n",
       "      <th>13</th>\n",
       "      <td>15.85</td>\n",
       "      <td>23.95</td>\n",
       "      <td>103.70</td>\n",
       "      <td>782.7</td>\n",
       "      <td>0.08401</td>\n",
       "      <td>0</td>\n",
       "    </tr>\n",
       "    <tr>\n",
       "      <th>14</th>\n",
       "      <td>13.73</td>\n",
       "      <td>22.61</td>\n",
       "      <td>93.60</td>\n",
       "      <td>578.3</td>\n",
       "      <td>0.11310</td>\n",
       "      <td>0</td>\n",
       "    </tr>\n",
       "    <tr>\n",
       "      <th>15</th>\n",
       "      <td>14.54</td>\n",
       "      <td>27.54</td>\n",
       "      <td>96.73</td>\n",
       "      <td>658.8</td>\n",
       "      <td>0.11390</td>\n",
       "      <td>0</td>\n",
       "    </tr>\n",
       "    <tr>\n",
       "      <th>16</th>\n",
       "      <td>14.68</td>\n",
       "      <td>20.13</td>\n",
       "      <td>94.74</td>\n",
       "      <td>684.5</td>\n",
       "      <td>0.09867</td>\n",
       "      <td>0</td>\n",
       "    </tr>\n",
       "    <tr>\n",
       "      <th>17</th>\n",
       "      <td>16.13</td>\n",
       "      <td>20.68</td>\n",
       "      <td>108.10</td>\n",
       "      <td>798.8</td>\n",
       "      <td>0.11700</td>\n",
       "      <td>0</td>\n",
       "    </tr>\n",
       "    <tr>\n",
       "      <th>18</th>\n",
       "      <td>19.81</td>\n",
       "      <td>22.15</td>\n",
       "      <td>130.00</td>\n",
       "      <td>1260.0</td>\n",
       "      <td>0.09831</td>\n",
       "      <td>0</td>\n",
       "    </tr>\n",
       "    <tr>\n",
       "      <th>19</th>\n",
       "      <td>13.54</td>\n",
       "      <td>14.36</td>\n",
       "      <td>87.46</td>\n",
       "      <td>566.3</td>\n",
       "      <td>0.09779</td>\n",
       "      <td>1</td>\n",
       "    </tr>\n",
       "  </tbody>\n",
       "</table>\n",
       "</div>"
      ]
     },
     "execution_count": 88,
     "metadata": {},
     "output_type": "execute_result"
    }
   ],
   "execution_count": 88
  },
  {
   "metadata": {
    "ExecuteTime": {
     "end_time": "2025-08-29T12:37:59.744800Z",
     "start_time": "2025-08-29T12:37:59.742717Z"
    }
   },
   "cell_type": "code",
   "source": [
    "x = data[[\"mean_radius\", \"mean_texture\", \"mean_area\"]]\n",
    "y = data.diagnosis"
   ],
   "id": "fdc64d664382110b",
   "outputs": [],
   "execution_count": 89
  },
  {
   "metadata": {
    "ExecuteTime": {
     "end_time": "2025-08-29T12:37:59.788Z",
     "start_time": "2025-08-29T12:37:59.785380Z"
    }
   },
   "cell_type": "code",
   "source": [
    "x = np.array(x)\n",
    "y = np.array(y)"
   ],
   "id": "765f9403e01b008e",
   "outputs": [],
   "execution_count": 90
  },
  {
   "metadata": {
    "ExecuteTime": {
     "end_time": "2025-08-29T12:37:59.817481Z",
     "start_time": "2025-08-29T12:37:59.814798Z"
    }
   },
   "cell_type": "code",
   "source": [
    "print(x.shape)\n",
    "y = y.reshape((y.shape[0], 1))\n",
    "print(y.shape)"
   ],
   "id": "e6fe1ce6d209e809",
   "outputs": [
    {
     "name": "stdout",
     "output_type": "stream",
     "text": [
      "(569, 3)\n",
      "(569, 1)\n"
     ]
    }
   ],
   "execution_count": 91
  },
  {
   "metadata": {
    "ExecuteTime": {
     "end_time": "2025-08-29T12:37:59.879507Z",
     "start_time": "2025-08-29T12:37:59.857974Z"
    }
   },
   "cell_type": "code",
   "source": [
    "from plotly import express as px\n",
    "fig = px.scatter_3d(x=x[:, 0], y=x[:, 1], z=x[:, 2])\n",
    "fig.show()"
   ],
   "id": "fcb29e277051b5ba",
   "outputs": [
    {
     "data": {
      "application/vnd.plotly.v1+json": {
       "data": [
        {
         "hovertemplate": "x=%{x}<br>y=%{y}<br>z=%{z}<extra></extra>",
         "legendgroup": "",
         "marker": {
          "color": "#636efa",
          "symbol": "circle"
         },
         "mode": "markers",
         "name": "",
         "scene": "scene",
         "showlegend": false,
         "x": {
          "dtype": "f8",
          "bdata": "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"
         },
         "y": {
          "dtype": "f8",
          "bdata": "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"
         },
         "z": {
          "dtype": "f8",
          "bdata": "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"
         },
         "type": "scatter3d"
        }
       ],
       "layout": {
        "template": {
         "data": {
          "histogram2dcontour": [
           {
            "type": "histogram2dcontour",
            "colorbar": {
             "outlinewidth": 0,
             "ticks": ""
            },
            "colorscale": [
             [
              0.0,
              "#0d0887"
             ],
             [
              0.1111111111111111,
              "#46039f"
             ],
             [
              0.2222222222222222,
              "#7201a8"
             ],
             [
              0.3333333333333333,
              "#9c179e"
             ],
             [
              0.4444444444444444,
              "#bd3786"
             ],
             [
              0.5555555555555556,
              "#d8576b"
             ],
             [
              0.6666666666666666,
              "#ed7953"
             ],
             [
              0.7777777777777778,
              "#fb9f3a"
             ],
             [
              0.8888888888888888,
              "#fdca26"
             ],
             [
              1.0,
              "#f0f921"
             ]
            ]
           }
          ],
          "choropleth": [
           {
            "type": "choropleth",
            "colorbar": {
             "outlinewidth": 0,
             "ticks": ""
            }
           }
          ],
          "histogram2d": [
           {
            "type": "histogram2d",
            "colorbar": {
             "outlinewidth": 0,
             "ticks": ""
            },
            "colorscale": [
             [
              0.0,
              "#0d0887"
             ],
             [
              0.1111111111111111,
              "#46039f"
             ],
             [
              0.2222222222222222,
              "#7201a8"
             ],
             [
              0.3333333333333333,
              "#9c179e"
             ],
             [
              0.4444444444444444,
              "#bd3786"
             ],
             [
              0.5555555555555556,
              "#d8576b"
             ],
             [
              0.6666666666666666,
              "#ed7953"
             ],
             [
              0.7777777777777778,
              "#fb9f3a"
             ],
             [
              0.8888888888888888,
              "#fdca26"
             ],
             [
              1.0,
              "#f0f921"
             ]
            ]
           }
          ],
          "heatmap": [
           {
            "type": "heatmap",
            "colorbar": {
             "outlinewidth": 0,
             "ticks": ""
            },
            "colorscale": [
             [
              0.0,
              "#0d0887"
             ],
             [
              0.1111111111111111,
              "#46039f"
             ],
             [
              0.2222222222222222,
              "#7201a8"
             ],
             [
              0.3333333333333333,
              "#9c179e"
             ],
             [
              0.4444444444444444,
              "#bd3786"
             ],
             [
              0.5555555555555556,
              "#d8576b"
             ],
             [
              0.6666666666666666,
              "#ed7953"
             ],
             [
              0.7777777777777778,
              "#fb9f3a"
             ],
             [
              0.8888888888888888,
              "#fdca26"
             ],
             [
              1.0,
              "#f0f921"
             ]
            ]
           }
          ],
          "contourcarpet": [
           {
            "type": "contourcarpet",
            "colorbar": {
             "outlinewidth": 0,
             "ticks": ""
            }
           }
          ],
          "contour": [
           {
            "type": "contour",
            "colorbar": {
             "outlinewidth": 0,
             "ticks": ""
            },
            "colorscale": [
             [
              0.0,
              "#0d0887"
             ],
             [
              0.1111111111111111,
              "#46039f"
             ],
             [
              0.2222222222222222,
              "#7201a8"
             ],
             [
              0.3333333333333333,
              "#9c179e"
             ],
             [
              0.4444444444444444,
              "#bd3786"
             ],
             [
              0.5555555555555556,
              "#d8576b"
             ],
             [
              0.6666666666666666,
              "#ed7953"
             ],
             [
              0.7777777777777778,
              "#fb9f3a"
             ],
             [
              0.8888888888888888,
              "#fdca26"
             ],
             [
              1.0,
              "#f0f921"
             ]
            ]
           }
          ],
          "surface": [
           {
            "type": "surface",
            "colorbar": {
             "outlinewidth": 0,
             "ticks": ""
            },
            "colorscale": [
             [
              0.0,
              "#0d0887"
             ],
             [
              0.1111111111111111,
              "#46039f"
             ],
             [
              0.2222222222222222,
              "#7201a8"
             ],
             [
              0.3333333333333333,
              "#9c179e"
             ],
             [
              0.4444444444444444,
              "#bd3786"
             ],
             [
              0.5555555555555556,
              "#d8576b"
             ],
             [
              0.6666666666666666,
              "#ed7953"
             ],
             [
              0.7777777777777778,
              "#fb9f3a"
             ],
             [
              0.8888888888888888,
              "#fdca26"
             ],
             [
              1.0,
              "#f0f921"
             ]
            ]
           }
          ],
          "mesh3d": [
           {
            "type": "mesh3d",
            "colorbar": {
             "outlinewidth": 0,
             "ticks": ""
            }
           }
          ],
          "scatter": [
           {
            "fillpattern": {
             "fillmode": "overlay",
             "size": 10,
             "solidity": 0.2
            },
            "type": "scatter"
           }
          ],
          "parcoords": [
           {
            "type": "parcoords",
            "line": {
             "colorbar": {
              "outlinewidth": 0,
              "ticks": ""
             }
            }
           }
          ],
          "scatterpolargl": [
           {
            "type": "scatterpolargl",
            "marker": {
             "colorbar": {
              "outlinewidth": 0,
              "ticks": ""
             }
            }
           }
          ],
          "bar": [
           {
            "error_x": {
             "color": "#2a3f5f"
            },
            "error_y": {
             "color": "#2a3f5f"
            },
            "marker": {
             "line": {
              "color": "#E5ECF6",
              "width": 0.5
             },
             "pattern": {
              "fillmode": "overlay",
              "size": 10,
              "solidity": 0.2
             }
            },
            "type": "bar"
           }
          ],
          "scattergeo": [
           {
            "type": "scattergeo",
            "marker": {
             "colorbar": {
              "outlinewidth": 0,
              "ticks": ""
             }
            }
           }
          ],
          "scatterpolar": [
           {
            "type": "scatterpolar",
            "marker": {
             "colorbar": {
              "outlinewidth": 0,
              "ticks": ""
             }
            }
           }
          ],
          "histogram": [
           {
            "marker": {
             "pattern": {
              "fillmode": "overlay",
              "size": 10,
              "solidity": 0.2
             }
            },
            "type": "histogram"
           }
          ],
          "scattergl": [
           {
            "type": "scattergl",
            "marker": {
             "colorbar": {
              "outlinewidth": 0,
              "ticks": ""
             }
            }
           }
          ],
          "scatter3d": [
           {
            "type": "scatter3d",
            "line": {
             "colorbar": {
              "outlinewidth": 0,
              "ticks": ""
             }
            },
            "marker": {
             "colorbar": {
              "outlinewidth": 0,
              "ticks": ""
             }
            }
           }
          ],
          "scattermap": [
           {
            "type": "scattermap",
            "marker": {
             "colorbar": {
              "outlinewidth": 0,
              "ticks": ""
             }
            }
           }
          ],
          "scattermapbox": [
           {
            "type": "scattermapbox",
            "marker": {
             "colorbar": {
              "outlinewidth": 0,
              "ticks": ""
             }
            }
           }
          ],
          "scatterternary": [
           {
            "type": "scatterternary",
            "marker": {
             "colorbar": {
              "outlinewidth": 0,
              "ticks": ""
             }
            }
           }
          ],
          "scattercarpet": [
           {
            "type": "scattercarpet",
            "marker": {
             "colorbar": {
              "outlinewidth": 0,
              "ticks": ""
             }
            }
           }
          ],
          "carpet": [
           {
            "aaxis": {
             "endlinecolor": "#2a3f5f",
             "gridcolor": "white",
             "linecolor": "white",
             "minorgridcolor": "white",
             "startlinecolor": "#2a3f5f"
            },
            "baxis": {
             "endlinecolor": "#2a3f5f",
             "gridcolor": "white",
             "linecolor": "white",
             "minorgridcolor": "white",
             "startlinecolor": "#2a3f5f"
            },
            "type": "carpet"
           }
          ],
          "table": [
           {
            "cells": {
             "fill": {
              "color": "#EBF0F8"
             },
             "line": {
              "color": "white"
             }
            },
            "header": {
             "fill": {
              "color": "#C8D4E3"
             },
             "line": {
              "color": "white"
             }
            },
            "type": "table"
           }
          ],
          "barpolar": [
           {
            "marker": {
             "line": {
              "color": "#E5ECF6",
              "width": 0.5
             },
             "pattern": {
              "fillmode": "overlay",
              "size": 10,
              "solidity": 0.2
             }
            },
            "type": "barpolar"
           }
          ],
          "pie": [
           {
            "automargin": true,
            "type": "pie"
           }
          ]
         },
         "layout": {
          "autotypenumbers": "strict",
          "colorway": [
           "#636efa",
           "#EF553B",
           "#00cc96",
           "#ab63fa",
           "#FFA15A",
           "#19d3f3",
           "#FF6692",
           "#B6E880",
           "#FF97FF",
           "#FECB52"
          ],
          "font": {
           "color": "#2a3f5f"
          },
          "hovermode": "closest",
          "hoverlabel": {
           "align": "left"
          },
          "paper_bgcolor": "white",
          "plot_bgcolor": "#E5ECF6",
          "polar": {
           "bgcolor": "#E5ECF6",
           "angularaxis": {
            "gridcolor": "white",
            "linecolor": "white",
            "ticks": ""
           },
           "radialaxis": {
            "gridcolor": "white",
            "linecolor": "white",
            "ticks": ""
           }
          },
          "ternary": {
           "bgcolor": "#E5ECF6",
           "aaxis": {
            "gridcolor": "white",
            "linecolor": "white",
            "ticks": ""
           },
           "baxis": {
            "gridcolor": "white",
            "linecolor": "white",
            "ticks": ""
           },
           "caxis": {
            "gridcolor": "white",
            "linecolor": "white",
            "ticks": ""
           }
          },
          "coloraxis": {
           "colorbar": {
            "outlinewidth": 0,
            "ticks": ""
           }
          },
          "colorscale": {
           "sequential": [
            [
             0.0,
             "#0d0887"
            ],
            [
             0.1111111111111111,
             "#46039f"
            ],
            [
             0.2222222222222222,
             "#7201a8"
            ],
            [
             0.3333333333333333,
             "#9c179e"
            ],
            [
             0.4444444444444444,
             "#bd3786"
            ],
            [
             0.5555555555555556,
             "#d8576b"
            ],
            [
             0.6666666666666666,
             "#ed7953"
            ],
            [
             0.7777777777777778,
             "#fb9f3a"
            ],
            [
             0.8888888888888888,
             "#fdca26"
            ],
            [
             1.0,
             "#f0f921"
            ]
           ],
           "sequentialminus": [
            [
             0.0,
             "#0d0887"
            ],
            [
             0.1111111111111111,
             "#46039f"
            ],
            [
             0.2222222222222222,
             "#7201a8"
            ],
            [
             0.3333333333333333,
             "#9c179e"
            ],
            [
             0.4444444444444444,
             "#bd3786"
            ],
            [
             0.5555555555555556,
             "#d8576b"
            ],
            [
             0.6666666666666666,
             "#ed7953"
            ],
            [
             0.7777777777777778,
             "#fb9f3a"
            ],
            [
             0.8888888888888888,
             "#fdca26"
            ],
            [
             1.0,
             "#f0f921"
            ]
           ],
           "diverging": [
            [
             0,
             "#8e0152"
            ],
            [
             0.1,
             "#c51b7d"
            ],
            [
             0.2,
             "#de77ae"
            ],
            [
             0.3,
             "#f1b6da"
            ],
            [
             0.4,
             "#fde0ef"
            ],
            [
             0.5,
             "#f7f7f7"
            ],
            [
             0.6,
             "#e6f5d0"
            ],
            [
             0.7,
             "#b8e186"
            ],
            [
             0.8,
             "#7fbc41"
            ],
            [
             0.9,
             "#4d9221"
            ],
            [
             1,
             "#276419"
            ]
           ]
          },
          "xaxis": {
           "gridcolor": "white",
           "linecolor": "white",
           "ticks": "",
           "title": {
            "standoff": 15
           },
           "zerolinecolor": "white",
           "automargin": true,
           "zerolinewidth": 2
          },
          "yaxis": {
           "gridcolor": "white",
           "linecolor": "white",
           "ticks": "",
           "title": {
            "standoff": 15
           },
           "zerolinecolor": "white",
           "automargin": true,
           "zerolinewidth": 2
          },
          "scene": {
           "xaxis": {
            "backgroundcolor": "#E5ECF6",
            "gridcolor": "white",
            "linecolor": "white",
            "showbackground": true,
            "ticks": "",
            "zerolinecolor": "white",
            "gridwidth": 2
           },
           "yaxis": {
            "backgroundcolor": "#E5ECF6",
            "gridcolor": "white",
            "linecolor": "white",
            "showbackground": true,
            "ticks": "",
            "zerolinecolor": "white",
            "gridwidth": 2
           },
           "zaxis": {
            "backgroundcolor": "#E5ECF6",
            "gridcolor": "white",
            "linecolor": "white",
            "showbackground": true,
            "ticks": "",
            "zerolinecolor": "white",
            "gridwidth": 2
           }
          },
          "shapedefaults": {
           "line": {
            "color": "#2a3f5f"
           }
          },
          "annotationdefaults": {
           "arrowcolor": "#2a3f5f",
           "arrowhead": 0,
           "arrowwidth": 1
          },
          "geo": {
           "bgcolor": "white",
           "landcolor": "#E5ECF6",
           "subunitcolor": "white",
           "showland": true,
           "showlakes": true,
           "lakecolor": "white"
          },
          "title": {
           "x": 0.05
          },
          "mapbox": {
           "style": "light"
          }
         }
        },
        "scene": {
         "domain": {
          "x": [
           0.0,
           1.0
          ],
          "y": [
           0.0,
           1.0
          ]
         },
         "xaxis": {
          "title": {
           "text": "x"
          }
         },
         "yaxis": {
          "title": {
           "text": "y"
          }
         },
         "zaxis": {
          "title": {
           "text": "z"
          }
         }
        },
        "legend": {
         "tracegroupgap": 0
        },
        "margin": {
         "t": 60
        }
       },
       "config": {
        "plotlyServerURL": "https://plot.ly"
       }
      }
     },
     "metadata": {},
     "output_type": "display_data"
    }
   ],
   "execution_count": 92
  },
  {
   "metadata": {
    "ExecuteTime": {
     "end_time": "2025-08-29T12:37:59.933958Z",
     "start_time": "2025-08-29T12:37:59.927211Z"
    }
   },
   "cell_type": "code",
   "source": "x = (x - x.mean()) / x.std()",
   "id": "bcacda8faea85abe",
   "outputs": [],
   "execution_count": 93
  },
  {
   "metadata": {
    "ExecuteTime": {
     "end_time": "2025-08-29T12:37:59.996369Z",
     "start_time": "2025-08-29T12:37:59.989612Z"
    }
   },
   "cell_type": "code",
   "source": "x[:5, ]",
   "id": "b1061ba0f3a746fd",
   "outputs": [
    {
     "data": {
      "text/plain": [
       "array([[-0.58258292, -0.6035503 ,  2.12584665],\n",
       "       [-0.57547439, -0.58318907,  3.02130002],\n",
       "       [-0.57789901, -0.57360083,  2.68240536],\n",
       "       [-0.60068485, -0.57599789,  0.43164889],\n",
       "       [-0.57624586, -0.59263955,  2.94139802]])"
      ]
     },
     "execution_count": 94,
     "metadata": {},
     "output_type": "execute_result"
    }
   ],
   "execution_count": 94
  },
  {
   "metadata": {
    "ExecuteTime": {
     "end_time": "2025-08-29T12:38:00.083788Z",
     "start_time": "2025-08-29T12:38:00.081125Z"
    }
   },
   "cell_type": "code",
   "source": "X = np.hstack((x, np.ones((x.shape[0], 1))))",
   "id": "4a9ac96a26e82c97",
   "outputs": [],
   "execution_count": 95
  },
  {
   "metadata": {
    "ExecuteTime": {
     "end_time": "2025-08-29T12:38:00.132780Z",
     "start_time": "2025-08-29T12:38:00.129261Z"
    }
   },
   "cell_type": "code",
   "source": "X[:5, ]",
   "id": "288c99584ccfd509",
   "outputs": [
    {
     "data": {
      "text/plain": [
       "array([[-0.58258292, -0.6035503 ,  2.12584665,  1.        ],\n",
       "       [-0.57547439, -0.58318907,  3.02130002,  1.        ],\n",
       "       [-0.57789901, -0.57360083,  2.68240536,  1.        ],\n",
       "       [-0.60068485, -0.57599789,  0.43164889,  1.        ],\n",
       "       [-0.57624586, -0.59263955,  2.94139802,  1.        ]])"
      ]
     },
     "execution_count": 96,
     "metadata": {},
     "output_type": "execute_result"
    }
   ],
   "execution_count": 96
  },
  {
   "metadata": {
    "ExecuteTime": {
     "end_time": "2025-08-29T12:38:00.216825Z",
     "start_time": "2025-08-29T12:38:00.211970Z"
    }
   },
   "cell_type": "code",
   "source": [
    "theta = np.random.randn(X.shape[1], 1)\n",
    "theta"
   ],
   "id": "b7b9ca6148fd9941",
   "outputs": [
    {
     "data": {
      "text/plain": [
       "array([[1.08807177],\n",
       "       [0.30290618],\n",
       "       [0.87508648],\n",
       "       [1.30852414]])"
      ]
     },
     "execution_count": 97,
     "metadata": {},
     "output_type": "execute_result"
    }
   ],
   "execution_count": 97
  },
  {
   "metadata": {},
   "cell_type": "markdown",
   "source": "## Modèle",
   "id": "20212790ea1f5af1"
  },
  {
   "metadata": {
    "ExecuteTime": {
     "end_time": "2025-08-29T12:38:00.270896Z",
     "start_time": "2025-08-29T12:38:00.269012Z"
    }
   },
   "cell_type": "code",
   "source": [
    "def model(X_, theta_):\n",
    "    return X_.dot(theta_)"
   ],
   "id": "f4de59f4c2b9fc55",
   "outputs": [],
   "execution_count": 98
  },
  {
   "metadata": {
    "ExecuteTime": {
     "end_time": "2025-08-29T12:38:00.328068Z",
     "start_time": "2025-08-29T12:38:00.322040Z"
    }
   },
   "cell_type": "code",
   "source": "model(X, theta)[:5, ]",
   "id": "376506dd4c1bea6d",
   "outputs": [
    {
     "data": {
      "text/plain": [
       "array([[2.35211267],\n",
       "       [3.14961393],\n",
       "       [2.85331798],\n",
       "       [0.8581927 ],\n",
       "       [3.07599076]])"
      ]
     },
     "execution_count": 99,
     "metadata": {},
     "output_type": "execute_result"
    }
   ],
   "execution_count": 99
  },
  {
   "metadata": {},
   "cell_type": "markdown",
   "source": "# Fonction coût",
   "id": "9f7aa408807ed858"
  },
  {
   "metadata": {
    "ExecuteTime": {
     "end_time": "2025-08-29T12:38:00.443493Z",
     "start_time": "2025-08-29T12:38:00.441037Z"
    }
   },
   "cell_type": "code",
   "source": [
    "def logistic_function(model_):\n",
    "    return 1 / (1 + np.exp(-model_))"
   ],
   "id": "73a3b94e982f7cfa",
   "outputs": [],
   "execution_count": 100
  },
  {
   "metadata": {
    "ExecuteTime": {
     "end_time": "2025-08-29T12:48:29.784680Z",
     "start_time": "2025-08-29T12:48:29.780992Z"
    }
   },
   "cell_type": "code",
   "source": [
    "def cost_function(X_, theta_, y_):\n",
    "    m = len(y_)\n",
    "    Y_ = logistic_function(model(X_, theta_))\n",
    "    return (1/m) * np.sum( (-y_ * np.log(Y_)) - ((1-y_) * np.log(1-Y_)) )"
   ],
   "id": "7f01e18a2c6fcdd6",
   "outputs": [],
   "execution_count": 107
  },
  {
   "metadata": {
    "ExecuteTime": {
     "end_time": "2025-08-29T12:48:32.054102Z",
     "start_time": "2025-08-29T12:48:32.047420Z"
    }
   },
   "cell_type": "code",
   "source": "cost_function(X, theta, y)",
   "id": "6e37229283671144",
   "outputs": [
    {
     "data": {
      "text/plain": [
       "np.float64(1.1008604368644392)"
      ]
     },
     "execution_count": 108,
     "metadata": {},
     "output_type": "execute_result"
    }
   ],
   "execution_count": 108
  },
  {
   "metadata": {},
   "cell_type": "markdown",
   "source": "# Gradient & Descente de gradient",
   "id": "461404c037fc345d"
  },
  {
   "metadata": {
    "ExecuteTime": {
     "end_time": "2025-08-29T13:02:01.272028Z",
     "start_time": "2025-08-29T13:02:01.252953Z"
    }
   },
   "cell_type": "code",
   "source": [
    "def grad(X_, theta_, y_):\n",
    "    m = len(y_)\n",
    "    Y_ = logistic_function(model(X_, theta_))\n",
    "    return (1/m) * X_.transpose().dot(Y_ - y_)"
   ],
   "id": "369e0604ab7b422b",
   "outputs": [],
   "execution_count": 109
  },
  {
   "metadata": {
    "ExecuteTime": {
     "end_time": "2025-08-29T13:04:38.913486Z",
     "start_time": "2025-08-29T13:04:38.910064Z"
    }
   },
   "cell_type": "code",
   "source": [
    "def descent_grad(X_, theta_, y_, learning_rate, n_iterations):\n",
    "    cost_history_ = np.zeros(n_iterations)\n",
    "    for i in range(0, n_iterations):\n",
    "        theta_ = theta_ - (learning_rate * grad(X_, theta_, y_))\n",
    "        cost_history_[i] = cost_function(X_, theta_, y_)\n",
    "    return theta_, cost_history_"
   ],
   "id": "8d12e0e0fb6668fb",
   "outputs": [],
   "execution_count": 110
  },
  {
   "metadata": {},
   "cell_type": "markdown",
   "source": "# Entrainement du modèle",
   "id": "2b3e0f721ea0382"
  },
  {
   "metadata": {
    "ExecuteTime": {
     "end_time": "2025-08-29T13:12:00.254365Z",
     "start_time": "2025-08-29T13:11:59.822621Z"
    }
   },
   "cell_type": "code",
   "source": [
    "for lr in [0.1, 0.01, 0.001]:\n",
    "    _, cost_history = descent_grad(X, theta, y, learning_rate=lr, n_iterations=5000)\n",
    "    plt.plot(range(5000), cost_history)\n",
    "plt.show()"
   ],
   "id": "a4306b9453e09e91",
   "outputs": [
    {
     "data": {
      "text/plain": [
       "<Figure size 640x480 with 1 Axes>"
      ],
      "image/png": "[encoded data removed]"
     },
     "metadata": {},
     "output_type": "display_data"
    }
   ],
   "execution_count": 118
  },
  {
   "metadata": {
    "ExecuteTime": {
     "end_time": "2025-08-29T13:12:42.379425Z",
     "start_time": "2025-08-29T13:12:42.346057Z"
    }
   },
   "cell_type": "code",
   "source": [
    "theta_final, _ = descent_grad(X, theta, y, learning_rate=0.01, n_iterations=1000)\n",
    "theta_final"
   ],
   "id": "adcd28a47c475da9",
   "outputs": [
    {
     "data": {
      "text/plain": [
       "array([[ 0.74904448],\n",
       "       [-0.02313272],\n",
       "       [-0.99048133],\n",
       "       [ 1.83641368]])"
      ]
     },
     "execution_count": 120,
     "metadata": {},
     "output_type": "execute_result"
    }
   ],
   "execution_count": 120
  },
  {
   "metadata": {
    "ExecuteTime": {
     "end_time": "2025-08-29T13:35:19.961472Z",
     "start_time": "2025-08-29T13:35:19.957483Z"
    }
   },
   "cell_type": "code",
   "source": [
    "predictions = logistic_function(model(X, theta_final))\n",
    "predictions[:5, ]"
   ],
   "id": "407c4f28e32b4947",
   "outputs": [
    {
     "data": {
      "text/plain": [
       "array([[0.33367357],\n",
       "       [0.1716906 ],\n",
       "       [0.22442522],\n",
       "       [0.72556938],\n",
       "       [0.18318582]])"
      ]
     },
     "execution_count": 152,
     "metadata": {},
     "output_type": "execute_result"
    }
   ],
   "execution_count": 152
  },
  {
   "metadata": {
    "ExecuteTime": {
     "end_time": "2025-08-29T13:35:20.362926Z",
     "start_time": "2025-08-29T13:35:20.361013Z"
    }
   },
   "cell_type": "code",
   "source": [
    "def decision(value):\n",
    "    if value >= 0.5:\n",
    "        return 1\n",
    "    if value < 0.5:\n",
    "        return 0"
   ],
   "id": "947e9a2fa2d53f89",
   "outputs": [],
   "execution_count": 153
  },
  {
   "metadata": {
    "ExecuteTime": {
     "end_time": "2025-08-29T13:35:20.787785Z",
     "start_time": "2025-08-29T13:35:20.784468Z"
    }
   },
   "cell_type": "code",
   "source": "predictions.shape",
   "id": "1343c4a9f5f3dc67",
   "outputs": [
    {
     "data": {
      "text/plain": [
       "(569, 1)"
      ]
     },
     "execution_count": 154,
     "metadata": {},
     "output_type": "execute_result"
    }
   ],
   "execution_count": 154
  },
  {
   "metadata": {
    "ExecuteTime": {
     "end_time": "2025-08-29T13:35:21.185570Z",
     "start_time": "2025-08-29T13:35:21.183248Z"
    }
   },
   "cell_type": "code",
   "source": "predictions = np.hstack((predictions, np.zeros(predictions.shape)))",
   "id": "41f1ea7fc75ff243",
   "outputs": [],
   "execution_count": 155
  },
  {
   "metadata": {
    "ExecuteTime": {
     "end_time": "2025-08-29T13:35:23.771016Z",
     "start_time": "2025-08-29T13:35:23.767688Z"
    }
   },
   "cell_type": "code",
   "source": "predictions[:5, ]",
   "id": "e40c1cdef4197f06",
   "outputs": [
    {
     "data": {
      "text/plain": [
       "array([[0.33367357, 0.        ],\n",
       "       [0.1716906 , 0.        ],\n",
       "       [0.22442522, 0.        ],\n",
       "       [0.72556938, 0.        ],\n",
       "       [0.18318582, 0.        ]])"
      ]
     },
     "execution_count": 156,
     "metadata": {},
     "output_type": "execute_result"
    }
   ],
   "execution_count": 156
  },
  {
   "metadata": {
    "ExecuteTime": {
     "end_time": "2025-08-29T13:35:24.228845Z",
     "start_time": "2025-08-29T13:35:24.225561Z"
    }
   },
   "cell_type": "code",
   "source": [
    "for i in range(predictions.shape[0]):\n",
    "    predictions[i, 1] = decision(predictions[i, 0])"
   ],
   "id": "6a9a1fb295faf3b6",
   "outputs": [],
   "execution_count": 157
  },
  {
   "metadata": {
    "ExecuteTime": {
     "end_time": "2025-08-29T13:35:34.929727Z",
     "start_time": "2025-08-29T13:35:34.925260Z"
    }
   },
   "cell_type": "code",
   "source": "predictions",
   "id": "156180420897ca7a",
   "outputs": [
    {
     "data": {
      "text/plain": [
       "array([[0.33367357, 0.        ],\n",
       "       [0.1716906 , 0.        ],\n",
       "       [0.22442522, 0.        ],\n",
       "       ...,\n",
       "       [0.42418003, 0.        ],\n",
       "       [0.19656585, 0.        ],\n",
       "       [0.82115033, 1.        ]], shape=(569, 2))"
      ]
     },
     "execution_count": 159,
     "metadata": {},
     "output_type": "execute_result"
    }
   ],
   "execution_count": 159
  },
  {
   "metadata": {
    "ExecuteTime": {
     "end_time": "2025-08-29T13:51:10.691984Z",
     "start_time": "2025-08-29T13:51:10.662361Z"
    }
   },
   "cell_type": "code",
   "source": [
    "fig = px.scatter_3d(x=x[:, 0], y=x[:, 1], z=x[:, 2], color=predictions[:, 1], labels={'x':'x1','y':'x2','z':'x3'})\n",
    "fig.show()"
   ],
   "id": "50de3161f85b8424",
   "outputs": [
    {
     "data": {
      "application/vnd.plotly.v1+json": {
       "data": [
        {
         "hovertemplate": "x1=%{x}<br>x2=%{y}<br>x3=%{z}<br>color=%{marker.color}<extra></extra>",
         "legendgroup": "",
         "marker": {
          "color": {
           "dtype": "f8",
           "bdata": "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"
          },
          "coloraxis": "coloraxis",
          "symbol": "circle"
         },
         "mode": "markers",
         "name": "",
         "scene": "scene",
         "showlegend": false,
         "x": {
          "dtype": "f8",
          "bdata": "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"
         },
         "y": {
          "dtype": "f8",
          "bdata": "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"
         },
         "z": {
          "dtype": "f8",
          "bdata": "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"
         },
         "type": "scatter3d"
        }
       ],
       "layout": {
        "template": {
         "data": {
          "histogram2dcontour": [
           {
            "type": "histogram2dcontour",
            "colorbar": {
             "outlinewidth": 0,
             "ticks": ""
            },
            "colorscale": [
             [
              0.0,
              "#0d0887"
             ],
             [
              0.1111111111111111,
              "#46039f"
             ],
             [
              0.2222222222222222,
              "#7201a8"
             ],
             [
              0.3333333333333333,
              "#9c179e"
             ],
             [
              0.4444444444444444,
              "#bd3786"
             ],
             [
              0.5555555555555556,
              "#d8576b"
             ],
             [
              0.6666666666666666,
              "#ed7953"
             ],
             [
              0.7777777777777778,
              "#fb9f3a"
             ],
             [
              0.8888888888888888,
              "#fdca26"
             ],
             [
              1.0,
              "#f0f921"
             ]
            ]
           }
          ],
          "choropleth": [
           {
            "type": "choropleth",
            "colorbar": {
             "outlinewidth": 0,
             "ticks": ""
            }
           }
          ],
          "histogram2d": [
           {
            "type": "histogram2d",
            "colorbar": {
             "outlinewidth": 0,
             "ticks": ""
            },
            "colorscale": [
             [
              0.0,
              "#0d0887"
             ],
             [
              0.1111111111111111,
              "#46039f"
             ],
             [
              0.2222222222222222,
              "#7201a8"
             ],
             [
              0.3333333333333333,
              "#9c179e"
             ],
             [
              0.4444444444444444,
              "#bd3786"
             ],
             [
              0.5555555555555556,
              "#d8576b"
             ],
             [
              0.6666666666666666,
              "#ed7953"
             ],
             [
              0.7777777777777778,
              "#fb9f3a"
             ],
             [
              0.8888888888888888,
              "#fdca26"
             ],
             [
              1.0,
              "#f0f921"
             ]
            ]
           }
          ],
          "heatmap": [
           {
            "type": "heatmap",
            "colorbar": {
             "outlinewidth": 0,
             "ticks": ""
            },
            "colorscale": [
             [
              0.0,
              "#0d0887"
             ],
             [
              0.1111111111111111,
              "#46039f"
             ],
             [
              0.2222222222222222,
              "#7201a8"
             ],
             [
              0.3333333333333333,
              "#9c179e"
             ],
             [
              0.4444444444444444,
              "#bd3786"
             ],
             [
              0.5555555555555556,
              "#d8576b"
             ],
             [
              0.6666666666666666,
              "#ed7953"
             ],
             [
              0.7777777777777778,
              "#fb9f3a"
             ],
             [
              0.8888888888888888,
              "#fdca26"
             ],
             [
              1.0,
              "#f0f921"
             ]
            ]
           }
          ],
          "contourcarpet": [
           {
            "type": "contourcarpet",
            "colorbar": {
             "outlinewidth": 0,
             "ticks": ""
            }
           }
          ],
          "contour": [
           {
            "type": "contour",
            "colorbar": {
             "outlinewidth": 0,
             "ticks": ""
            },
            "colorscale": [
             [
              0.0,
              "#0d0887"
             ],
             [
              0.1111111111111111,
              "#46039f"
             ],
             [
              0.2222222222222222,
              "#7201a8"
             ],
             [
              0.3333333333333333,
              "#9c179e"
             ],
             [
              0.4444444444444444,
              "#bd3786"
             ],
             [
              0.5555555555555556,
              "#d8576b"
             ],
             [
              0.6666666666666666,
              "#ed7953"
             ],
             [
              0.7777777777777778,
              "#fb9f3a"
             ],
             [
              0.8888888888888888,
              "#fdca26"
             ],
             [
              1.0,
              "#f0f921"
             ]
            ]
           }
          ],
          "surface": [
           {
            "type": "surface",
            "colorbar": {
             "outlinewidth": 0,
             "ticks": ""
            },
            "colorscale": [
             [
              0.0,
              "#0d0887"
             ],
             [
              0.1111111111111111,
              "#46039f"
             ],
             [
              0.2222222222222222,
              "#7201a8"
             ],
             [
              0.3333333333333333,
              "#9c179e"
             ],
             [
              0.4444444444444444,
              "#bd3786"
             ],
             [
              0.5555555555555556,
              "#d8576b"
             ],
             [
              0.6666666666666666,
              "#ed7953"
             ],
             [
              0.7777777777777778,
              "#fb9f3a"
             ],
             [
              0.8888888888888888,
              "#fdca26"
             ],
             [
              1.0,
              "#f0f921"
             ]
            ]
           }
          ],
          "mesh3d": [
           {
            "type": "mesh3d",
            "colorbar": {
             "outlinewidth": 0,
             "ticks": ""
            }
           }
          ],
          "scatter": [
           {
            "fillpattern": {
             "fillmode": "overlay",
             "size": 10,
             "solidity": 0.2
            },
            "type": "scatter"
           }
          ],
          "parcoords": [
           {
            "type": "parcoords",
            "line": {
             "colorbar": {
              "outlinewidth": 0,
              "ticks": ""
             }
            }
           }
          ],
          "scatterpolargl": [
           {
            "type": "scatterpolargl",
            "marker": {
             "colorbar": {
              "outlinewidth": 0,
              "ticks": ""
             }
            }
           }
          ],
          "bar": [
           {
            "error_x": {
             "color": "#2a3f5f"
            },
            "error_y": {
             "color": "#2a3f5f"
            },
            "marker": {
             "line": {
              "color": "#E5ECF6",
              "width": 0.5
             },
             "pattern": {
              "fillmode": "overlay",
              "size": 10,
              "solidity": 0.2
             }
            },
            "type": "bar"
           }
          ],
          "scattergeo": [
           {
            "type": "scattergeo",
            "marker": {
             "colorbar": {
              "outlinewidth": 0,
              "ticks": ""
             }
            }
           }
          ],
          "scatterpolar": [
           {
            "type": "scatterpolar",
            "marker": {
             "colorbar": {
              "outlinewidth": 0,
              "ticks": ""
             }
            }
           }
          ],
          "histogram": [
           {
            "marker": {
             "pattern": {
              "fillmode": "overlay",
              "size": 10,
              "solidity": 0.2
             }
            },
            "type": "histogram"
           }
          ],
          "scattergl": [
           {
            "type": "scattergl",
            "marker": {
             "colorbar": {
              "outlinewidth": 0,
              "ticks": ""
             }
            }
           }
          ],
          "scatter3d": [
           {
            "type": "scatter3d",
            "line": {
             "colorbar": {
              "outlinewidth": 0,
              "ticks": ""
             }
            },
            "marker": {
             "colorbar": {
              "outlinewidth": 0,
              "ticks": ""
             }
            }
           }
          ],
          "scattermap": [
           {
            "type": "scattermap",
            "marker": {
             "colorbar": {
              "outlinewidth": 0,
              "ticks": ""
             }
            }
           }
          ],
          "scattermapbox": [
           {
            "type": "scattermapbox",
            "marker": {
             "colorbar": {
              "outlinewidth": 0,
              "ticks": ""
             }
            }
           }
          ],
          "scatterternary": [
           {
            "type": "scatterternary",
            "marker": {
             "colorbar": {
              "outlinewidth": 0,
              "ticks": ""
             }
            }
           }
          ],
          "scattercarpet": [
           {
            "type": "scattercarpet",
            "marker": {
             "colorbar": {
              "outlinewidth": 0,
              "ticks": ""
             }
            }
           }
          ],
          "carpet": [
           {
            "aaxis": {
             "endlinecolor": "#2a3f5f",
             "gridcolor": "white",
             "linecolor": "white",
             "minorgridcolor": "white",
             "startlinecolor": "#2a3f5f"
            },
            "baxis": {
             "endlinecolor": "#2a3f5f",
             "gridcolor": "white",
             "linecolor": "white",
             "minorgridcolor": "white",
             "startlinecolor": "#2a3f5f"
            },
            "type": "carpet"
           }
          ],
          "table": [
           {
            "cells": {
             "fill": {
              "color": "#EBF0F8"
             },
             "line": {
              "color": "white"
             }
            },
            "header": {
             "fill": {
              "color": "#C8D4E3"
             },
             "line": {
              "color": "white"
             }
            },
            "type": "table"
           }
          ],
          "barpolar": [
           {
            "marker": {
             "line": {
              "color": "#E5ECF6",
              "width": 0.5
             },
             "pattern": {
              "fillmode": "overlay",
              "size": 10,
              "solidity": 0.2
             }
            },
            "type": "barpolar"
           }
          ],
          "pie": [
           {
            "automargin": true,
            "type": "pie"
           }
          ]
         },
         "layout": {
          "autotypenumbers": "strict",
          "colorway": [
           "#636efa",
           "#EF553B",
           "#00cc96",
           "#ab63fa",
           "#FFA15A",
           "#19d3f3",
           "#FF6692",
           "#B6E880",
           "#FF97FF",
           "#FECB52"
          ],
          "font": {
           "color": "#2a3f5f"
          },
          "hovermode": "closest",
          "hoverlabel": {
           "align": "left"
          },
          "paper_bgcolor": "white",
          "plot_bgcolor": "#E5ECF6",
          "polar": {
           "bgcolor": "#E5ECF6",
           "angularaxis": {
            "gridcolor": "white",
            "linecolor": "white",
            "ticks": ""
           },
           "radialaxis": {
            "gridcolor": "white",
            "linecolor": "white",
            "ticks": ""
           }
          },
          "ternary": {
           "bgcolor": "#E5ECF6",
           "aaxis": {
            "gridcolor": "white",
            "linecolor": "white",
            "ticks": ""
           },
           "baxis": {
            "gridcolor": "white",
            "linecolor": "white",
            "ticks": ""
           },
           "caxis": {
            "gridcolor": "white",
            "linecolor": "white",
            "ticks": ""
           }
          },
          "coloraxis": {
           "colorbar": {
            "outlinewidth": 0,
            "ticks": ""
           }
          },
          "colorscale": {
           "sequential": [
            [
             0.0,
             "#0d0887"
            ],
            [
             0.1111111111111111,
             "#46039f"
            ],
            [
             0.2222222222222222,
             "#7201a8"
            ],
            [
             0.3333333333333333,
             "#9c179e"
            ],
            [
             0.4444444444444444,
             "#bd3786"
            ],
            [
             0.5555555555555556,
             "#d8576b"
            ],
            [
             0.6666666666666666,
             "#ed7953"
            ],
            [
             0.7777777777777778,
             "#fb9f3a"
            ],
            [
             0.8888888888888888,
             "#fdca26"
            ],
            [
             1.0,
             "#f0f921"
            ]
           ],
           "sequentialminus": [
            [
             0.0,
             "#0d0887"
            ],
            [
             0.1111111111111111,
             "#46039f"
            ],
            [
             0.2222222222222222,
             "#7201a8"
            ],
            [
             0.3333333333333333,
             "#9c179e"
            ],
            [
             0.4444444444444444,
             "#bd3786"
            ],
            [
             0.5555555555555556,
             "#d8576b"
            ],
            [
             0.6666666666666666,
             "#ed7953"
            ],
            [
             0.7777777777777778,
             "#fb9f3a"
            ],
            [
             0.8888888888888888,
             "#fdca26"
            ],
            [
             1.0,
             "#f0f921"
            ]
           ],
           "diverging": [
            [
             0,
             "#8e0152"
            ],
            [
             0.1,
             "#c51b7d"
            ],
            [
             0.2,
             "#de77ae"
            ],
            [
             0.3,
             "#f1b6da"
            ],
            [
             0.4,
             "#fde0ef"
            ],
            [
             0.5,
             "#f7f7f7"
            ],
            [
             0.6,
             "#e6f5d0"
            ],
            [
             0.7,
             "#b8e186"
            ],
            [
             0.8,
             "#7fbc41"
            ],
            [
             0.9,
             "#4d9221"
            ],
            [
             1,
             "#276419"
            ]
           ]
          },
          "xaxis": {
           "gridcolor": "white",
           "linecolor": "white",
           "ticks": "",
           "title": {
            "standoff": 15
           },
           "zerolinecolor": "white",
           "automargin": true,
           "zerolinewidth": 2
          },
          "yaxis": {
           "gridcolor": "white",
           "linecolor": "white",
           "ticks": "",
           "title": {
            "standoff": 15
           },
           "zerolinecolor": "white",
           "automargin": true,
           "zerolinewidth": 2
          },
          "scene": {
           "xaxis": {
            "backgroundcolor": "#E5ECF6",
            "gridcolor": "white",
            "linecolor": "white",
            "showbackground": true,
            "ticks": "",
            "zerolinecolor": "white",
            "gridwidth": 2
           },
           "yaxis": {
            "backgroundcolor": "#E5ECF6",
            "gridcolor": "white",
            "linecolor": "white",
            "showbackground": true,
            "ticks": "",
            "zerolinecolor": "white",
            "gridwidth": 2
           },
           "zaxis": {
            "backgroundcolor": "#E5ECF6",
            "gridcolor": "white",
            "linecolor": "white",
            "showbackground": true,
            "ticks": "",
            "zerolinecolor": "white",
            "gridwidth": 2
           }
          },
          "shapedefaults": {
           "line": {
            "color": "#2a3f5f"
           }
          },
          "annotationdefaults": {
           "arrowcolor": "#2a3f5f",
           "arrowhead": 0,
           "arrowwidth": 1
          },
          "geo": {
           "bgcolor": "white",
           "landcolor": "#E5ECF6",
           "subunitcolor": "white",
           "showland": true,
           "showlakes": true,
           "lakecolor": "white"
          },
          "title": {
           "x": 0.05
          },
          "mapbox": {
           "style": "light"
          }
         }
        },
        "scene": {
         "domain": {
          "x": [
           0.0,
           1.0
          ],
          "y": [
           0.0,
           1.0
          ]
         },
         "xaxis": {
          "title": {
           "text": "x1"
          }
         },
         "yaxis": {
          "title": {
           "text": "x2"
          }
         },
         "zaxis": {
          "title": {
           "text": "x3"
          }
         }
        },
        "coloraxis": {
         "colorbar": {
          "title": {
           "text": "color"
          }
         },
         "colorscale": [
          [
           0.0,
           "#0d0887"
          ],
          [
           0.1111111111111111,
           "#46039f"
          ],
          [
           0.2222222222222222,
           "#7201a8"
          ],
          [
           0.3333333333333333,
           "#9c179e"
          ],
          [
           0.4444444444444444,
           "#bd3786"
          ],
          [
           0.5555555555555556,
           "#d8576b"
          ],
          [
           0.6666666666666666,
           "#ed7953"
          ],
          [
           0.7777777777777778,
           "#fb9f3a"
          ],
          [
           0.8888888888888888,
           "#fdca26"
          ],
          [
           1.0,
           "#f0f921"
          ]
         ]
        },
        "legend": {
         "tracegroupgap": 0
        },
        "margin": {
         "t": 60
        }
       },
       "config": {
        "plotlyServerURL": "https://plot.ly"
       }
      }
     },
     "metadata": {},
     "output_type": "display_data"
    }
   ],
   "execution_count": 164
  }
 ],
 "metadata": {
  "kernelspec": {
   "display_name": "Python 3",
   "language": "python",
   "name": "python3"
  },
  "language_info": {
   "codemirror_mode": {
    "name": "ipython",
    "version": 2
   },
   "file_extension": ".py",
   "mimetype": "text/x-python",
   "name": "python",
   "nbconvert_exporter": "python",
   "pygments_lexer": "ipython2",
   "version": "2.7.6"
  }
 },
 "nbformat": 4,
 "nbformat_minor": 5
}

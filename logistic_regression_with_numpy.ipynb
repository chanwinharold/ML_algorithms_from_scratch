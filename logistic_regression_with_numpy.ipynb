{
 "cells": [
  {
   "cell_type": "code",
   "id": "initial_id",
   "metadata": {
    "collapsed": true,
    "ExecuteTime": {
     "end_time": "2025-09-04T20:18:01.821481Z",
     "start_time": "2025-09-04T20:18:00.801139Z"
    }
   },
   "source": [
    "import numpy as np\n",
    "import matplotlib.pyplot as plt\n",
    "import pandas as pd\n",
    "from sklearn.preprocessing import StandardScaler"
   ],
   "outputs": [],
   "execution_count": 1
  },
  {
   "metadata": {},
   "cell_type": "markdown",
   "source": "## Dataset",
   "id": "5e21652397e2d354"
  },
  {
   "metadata": {
    "ExecuteTime": {
     "end_time": "2025-09-04T20:18:03.765421Z",
     "start_time": "2025-09-04T20:18:03.745342Z"
    }
   },
   "cell_type": "code",
   "source": [
    "data = pd.read_csv(\"./datasets/Breast_cancer_data.csv\")\n",
    "data.head(20)"
   ],
   "id": "d063f6f1a75334ea",
   "outputs": [
    {
     "data": {
      "text/plain": [
       "    mean_radius  mean_texture  mean_perimeter  mean_area  mean_smoothness  \\\n",
       "0         17.99         10.38          122.80     1001.0          0.11840   \n",
       "1         20.57         17.77          132.90     1326.0          0.08474   \n",
       "2         19.69         21.25          130.00     1203.0          0.10960   \n",
       "3         11.42         20.38           77.58      386.1          0.14250   \n",
       "4         20.29         14.34          135.10     1297.0          0.10030   \n",
       "5         12.45         15.70           82.57      477.1          0.12780   \n",
       "6         18.25         19.98          119.60     1040.0          0.09463   \n",
       "7         13.71         20.83           90.20      577.9          0.11890   \n",
       "8         13.00         21.82           87.50      519.8          0.12730   \n",
       "9         12.46         24.04           83.97      475.9          0.11860   \n",
       "10        16.02         23.24          102.70      797.8          0.08206   \n",
       "11        15.78         17.89          103.60      781.0          0.09710   \n",
       "12        19.17         24.80          132.40     1123.0          0.09740   \n",
       "13        15.85         23.95          103.70      782.7          0.08401   \n",
       "14        13.73         22.61           93.60      578.3          0.11310   \n",
       "15        14.54         27.54           96.73      658.8          0.11390   \n",
       "16        14.68         20.13           94.74      684.5          0.09867   \n",
       "17        16.13         20.68          108.10      798.8          0.11700   \n",
       "18        19.81         22.15          130.00     1260.0          0.09831   \n",
       "19        13.54         14.36           87.46      566.3          0.09779   \n",
       "\n",
       "    diagnosis  \n",
       "0           0  \n",
       "1           0  \n",
       "2           0  \n",
       "3           0  \n",
       "4           0  \n",
       "5           0  \n",
       "6           0  \n",
       "7           0  \n",
       "8           0  \n",
       "9           0  \n",
       "10          0  \n",
       "11          0  \n",
       "12          0  \n",
       "13          0  \n",
       "14          0  \n",
       "15          0  \n",
       "16          0  \n",
       "17          0  \n",
       "18          0  \n",
       "19          1  "
      ],
      "text/html": [
       "<div>\n",
       "<style scoped>\n",
       "    .dataframe tbody tr th:only-of-type {\n",
       "        vertical-align: middle;\n",
       "    }\n",
       "\n",
       "    .dataframe tbody tr th {\n",
       "        vertical-align: top;\n",
       "    }\n",
       "\n",
       "    .dataframe thead th {\n",
       "        text-align: right;\n",
       "    }\n",
       "</style>\n",
       "<table border=\"1\" class=\"dataframe\">\n",
       "  <thead>\n",
       "    <tr style=\"text-align: right;\">\n",
       "      <th></th>\n",
       "      <th>mean_radius</th>\n",
       "      <th>mean_texture</th>\n",
       "      <th>mean_perimeter</th>\n",
       "      <th>mean_area</th>\n",
       "      <th>mean_smoothness</th>\n",
       "      <th>diagnosis</th>\n",
       "    </tr>\n",
       "  </thead>\n",
       "  <tbody>\n",
       "    <tr>\n",
       "      <th>0</th>\n",
       "      <td>17.99</td>\n",
       "      <td>10.38</td>\n",
       "      <td>122.80</td>\n",
       "      <td>1001.0</td>\n",
       "      <td>0.11840</td>\n",
       "      <td>0</td>\n",
       "    </tr>\n",
       "    <tr>\n",
       "      <th>1</th>\n",
       "      <td>20.57</td>\n",
       "      <td>17.77</td>\n",
       "      <td>132.90</td>\n",
       "      <td>1326.0</td>\n",
       "      <td>0.08474</td>\n",
       "      <td>0</td>\n",
       "    </tr>\n",
       "    <tr>\n",
       "      <th>2</th>\n",
       "      <td>19.69</td>\n",
       "      <td>21.25</td>\n",
       "      <td>130.00</td>\n",
       "      <td>1203.0</td>\n",
       "      <td>0.10960</td>\n",
       "      <td>0</td>\n",
       "    </tr>\n",
       "    <tr>\n",
       "      <th>3</th>\n",
       "      <td>11.42</td>\n",
       "      <td>20.38</td>\n",
       "      <td>77.58</td>\n",
       "      <td>386.1</td>\n",
       "      <td>0.14250</td>\n",
       "      <td>0</td>\n",
       "    </tr>\n",
       "    <tr>\n",
       "      <th>4</th>\n",
       "      <td>20.29</td>\n",
       "      <td>14.34</td>\n",
       "      <td>135.10</td>\n",
       "      <td>1297.0</td>\n",
       "      <td>0.10030</td>\n",
       "      <td>0</td>\n",
       "    </tr>\n",
       "    <tr>\n",
       "      <th>5</th>\n",
       "      <td>12.45</td>\n",
       "      <td>15.70</td>\n",
       "      <td>82.57</td>\n",
       "      <td>477.1</td>\n",
       "      <td>0.12780</td>\n",
       "      <td>0</td>\n",
       "    </tr>\n",
       "    <tr>\n",
       "      <th>6</th>\n",
       "      <td>18.25</td>\n",
       "      <td>19.98</td>\n",
       "      <td>119.60</td>\n",
       "      <td>1040.0</td>\n",
       "      <td>0.09463</td>\n",
       "      <td>0</td>\n",
       "    </tr>\n",
       "    <tr>\n",
       "      <th>7</th>\n",
       "      <td>13.71</td>\n",
       "      <td>20.83</td>\n",
       "      <td>90.20</td>\n",
       "      <td>577.9</td>\n",
       "      <td>0.11890</td>\n",
       "      <td>0</td>\n",
       "    </tr>\n",
       "    <tr>\n",
       "      <th>8</th>\n",
       "      <td>13.00</td>\n",
       "      <td>21.82</td>\n",
       "      <td>87.50</td>\n",
       "      <td>519.8</td>\n",
       "      <td>0.12730</td>\n",
       "      <td>0</td>\n",
       "    </tr>\n",
       "    <tr>\n",
       "      <th>9</th>\n",
       "      <td>12.46</td>\n",
       "      <td>24.04</td>\n",
       "      <td>83.97</td>\n",
       "      <td>475.9</td>\n",
       "      <td>0.11860</td>\n",
       "      <td>0</td>\n",
       "    </tr>\n",
       "    <tr>\n",
       "      <th>10</th>\n",
       "      <td>16.02</td>\n",
       "      <td>23.24</td>\n",
       "      <td>102.70</td>\n",
       "      <td>797.8</td>\n",
       "      <td>0.08206</td>\n",
       "      <td>0</td>\n",
       "    </tr>\n",
       "    <tr>\n",
       "      <th>11</th>\n",
       "      <td>15.78</td>\n",
       "      <td>17.89</td>\n",
       "      <td>103.60</td>\n",
       "      <td>781.0</td>\n",
       "      <td>0.09710</td>\n",
       "      <td>0</td>\n",
       "    </tr>\n",
       "    <tr>\n",
       "      <th>12</th>\n",
       "      <td>19.17</td>\n",
       "      <td>24.80</td>\n",
       "      <td>132.40</td>\n",
       "      <td>1123.0</td>\n",
       "      <td>0.09740</td>\n",
       "      <td>0</td>\n",
       "    </tr>\n",
       "    <tr>\n",
       "      <th>13</th>\n",
       "      <td>15.85</td>\n",
       "      <td>23.95</td>\n",
       "      <td>103.70</td>\n",
       "      <td>782.7</td>\n",
       "      <td>0.08401</td>\n",
       "      <td>0</td>\n",
       "    </tr>\n",
       "    <tr>\n",
       "      <th>14</th>\n",
       "      <td>13.73</td>\n",
       "      <td>22.61</td>\n",
       "      <td>93.60</td>\n",
       "      <td>578.3</td>\n",
       "      <td>0.11310</td>\n",
       "      <td>0</td>\n",
       "    </tr>\n",
       "    <tr>\n",
       "      <th>15</th>\n",
       "      <td>14.54</td>\n",
       "      <td>27.54</td>\n",
       "      <td>96.73</td>\n",
       "      <td>658.8</td>\n",
       "      <td>0.11390</td>\n",
       "      <td>0</td>\n",
       "    </tr>\n",
       "    <tr>\n",
       "      <th>16</th>\n",
       "      <td>14.68</td>\n",
       "      <td>20.13</td>\n",
       "      <td>94.74</td>\n",
       "      <td>684.5</td>\n",
       "      <td>0.09867</td>\n",
       "      <td>0</td>\n",
       "    </tr>\n",
       "    <tr>\n",
       "      <th>17</th>\n",
       "      <td>16.13</td>\n",
       "      <td>20.68</td>\n",
       "      <td>108.10</td>\n",
       "      <td>798.8</td>\n",
       "      <td>0.11700</td>\n",
       "      <td>0</td>\n",
       "    </tr>\n",
       "    <tr>\n",
       "      <th>18</th>\n",
       "      <td>19.81</td>\n",
       "      <td>22.15</td>\n",
       "      <td>130.00</td>\n",
       "      <td>1260.0</td>\n",
       "      <td>0.09831</td>\n",
       "      <td>0</td>\n",
       "    </tr>\n",
       "    <tr>\n",
       "      <th>19</th>\n",
       "      <td>13.54</td>\n",
       "      <td>14.36</td>\n",
       "      <td>87.46</td>\n",
       "      <td>566.3</td>\n",
       "      <td>0.09779</td>\n",
       "      <td>1</td>\n",
       "    </tr>\n",
       "  </tbody>\n",
       "</table>\n",
       "</div>"
      ]
     },
     "execution_count": 2,
     "metadata": {},
     "output_type": "execute_result"
    }
   ],
   "execution_count": 2
  },
  {
   "metadata": {
    "ExecuteTime": {
     "end_time": "2025-09-04T20:18:07.101086Z",
     "start_time": "2025-09-04T20:18:07.094801Z"
    }
   },
   "cell_type": "code",
   "source": [
    "x = data[[\"mean_radius\", \"mean_texture\", \"mean_area\"]]\n",
    "y = data.diagnosis"
   ],
   "id": "fdc64d664382110b",
   "outputs": [],
   "execution_count": 3
  },
  {
   "metadata": {
    "ExecuteTime": {
     "end_time": "2025-09-04T20:18:08.732627Z",
     "start_time": "2025-09-04T20:18:08.729731Z"
    }
   },
   "cell_type": "code",
   "source": [
    "x = np.array(x)\n",
    "y = np.array(y)"
   ],
   "id": "765f9403e01b008e",
   "outputs": [],
   "execution_count": 4
  },
  {
   "metadata": {
    "ExecuteTime": {
     "end_time": "2025-09-04T20:18:11.867647Z",
     "start_time": "2025-09-04T20:18:11.864386Z"
    }
   },
   "cell_type": "code",
   "source": [
    "print(x.shape)\n",
    "y = y.reshape((y.shape[0], 1))\n",
    "print(y.shape)"
   ],
   "id": "e6fe1ce6d209e809",
   "outputs": [
    {
     "name": "stdout",
     "output_type": "stream",
     "text": [
      "(569, 3)\n",
      "(569, 1)\n"
     ]
    }
   ],
   "execution_count": 5
  },
  {
   "metadata": {
    "ExecuteTime": {
     "end_time": "2025-09-04T20:18:42.098208Z",
     "start_time": "2025-09-04T20:18:41.879258Z"
    }
   },
   "cell_type": "code",
   "source": [
    "from plotly import express as px\n",
    "fig = px.scatter_3d(x=x[:, 0], y=x[:, 1], z=x[:, 2])\n",
    "fig.show()"
   ],
   "id": "fcb29e277051b5ba",
   "outputs": [
    {
     "data": {
      "application/vnd.plotly.v1+json": {
       "data": [
        {
         "hovertemplate": "x=%{x}<br>y=%{y}<br>z=%{z}<extra></extra>",
         "legendgroup": "",
         "marker": {
          "color": "#636efa",
          "symbol": "circle"
         },
         "mode": "markers",
         "name": "",
         "scene": "scene",
         "showlegend": false,
         "x": {
          "dtype": "f8",
          "bdata": "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"
         },
         "y": {
          "dtype": "f8",
          "bdata": "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"
         },
         "z": {
          "dtype": "f8",
          "bdata": "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"
         },
         "type": "scatter3d"
        }
       ],
       "layout": {
        "template": {
         "data": {
          "histogram2dcontour": [
           {
            "type": "histogram2dcontour",
            "colorbar": {
             "outlinewidth": 0,
             "ticks": ""
            },
            "colorscale": [
             [
              0.0,
              "#0d0887"
             ],
             [
              0.1111111111111111,
              "#46039f"
             ],
             [
              0.2222222222222222,
              "#7201a8"
             ],
             [
              0.3333333333333333,
              "#9c179e"
             ],
             [
              0.4444444444444444,
              "#bd3786"
             ],
             [
              0.5555555555555556,
              "#d8576b"
             ],
             [
              0.6666666666666666,
              "#ed7953"
             ],
             [
              0.7777777777777778,
              "#fb9f3a"
             ],
             [
              0.8888888888888888,
              "#fdca26"
             ],
             [
              1.0,
              "#f0f921"
             ]
            ]
           }
          ],
          "choropleth": [
           {
            "type": "choropleth",
            "colorbar": {
             "outlinewidth": 0,
             "ticks": ""
            }
           }
          ],
          "histogram2d": [
           {
            "type": "histogram2d",
            "colorbar": {
             "outlinewidth": 0,
             "ticks": ""
            },
            "colorscale": [
             [
              0.0,
              "#0d0887"
             ],
             [
              0.1111111111111111,
              "#46039f"
             ],
             [
              0.2222222222222222,
              "#7201a8"
             ],
             [
              0.3333333333333333,
              "#9c179e"
             ],
             [
              0.4444444444444444,
              "#bd3786"
             ],
             [
              0.5555555555555556,
              "#d8576b"
             ],
             [
              0.6666666666666666,
              "#ed7953"
             ],
             [
              0.7777777777777778,
              "#fb9f3a"
             ],
             [
              0.8888888888888888,
              "#fdca26"
             ],
             [
              1.0,
              "#f0f921"
             ]
            ]
           }
          ],
          "heatmap": [
           {
            "type": "heatmap",
            "colorbar": {
             "outlinewidth": 0,
             "ticks": ""
            },
            "colorscale": [
             [
              0.0,
              "#0d0887"
             ],
             [
              0.1111111111111111,
              "#46039f"
             ],
             [
              0.2222222222222222,
              "#7201a8"
             ],
             [
              0.3333333333333333,
              "#9c179e"
             ],
             [
              0.4444444444444444,
              "#bd3786"
             ],
             [
              0.5555555555555556,
              "#d8576b"
             ],
             [
              0.6666666666666666,
              "#ed7953"
             ],
             [
              0.7777777777777778,
              "#fb9f3a"
             ],
             [
              0.8888888888888888,
              "#fdca26"
             ],
             [
              1.0,
              "#f0f921"
             ]
            ]
           }
          ],
          "contourcarpet": [
           {
            "type": "contourcarpet",
            "colorbar": {
             "outlinewidth": 0,
             "ticks": ""
            }
           }
          ],
          "contour": [
           {
            "type": "contour",
            "colorbar": {
             "outlinewidth": 0,
             "ticks": ""
            },
            "colorscale": [
             [
              0.0,
              "#0d0887"
             ],
             [
              0.1111111111111111,
              "#46039f"
             ],
             [
              0.2222222222222222,
              "#7201a8"
             ],
             [
              0.3333333333333333,
              "#9c179e"
             ],
             [
              0.4444444444444444,
              "#bd3786"
             ],
             [
              0.5555555555555556,
              "#d8576b"
             ],
             [
              0.6666666666666666,
              "#ed7953"
             ],
             [
              0.7777777777777778,
              "#fb9f3a"
             ],
             [
              0.8888888888888888,
              "#fdca26"
             ],
             [
              1.0,
              "#f0f921"
             ]
            ]
           }
          ],
          "surface": [
           {
            "type": "surface",
            "colorbar": {
             "outlinewidth": 0,
             "ticks": ""
            },
            "colorscale": [
             [
              0.0,
              "#0d0887"
             ],
             [
              0.1111111111111111,
              "#46039f"
             ],
             [
              0.2222222222222222,
              "#7201a8"
             ],
             [
              0.3333333333333333,
              "#9c179e"
             ],
             [
              0.4444444444444444,
              "#bd3786"
             ],
             [
              0.5555555555555556,
              "#d8576b"
             ],
             [
              0.6666666666666666,
              "#ed7953"
             ],
             [
              0.7777777777777778,
              "#fb9f3a"
             ],
             [
              0.8888888888888888,
              "#fdca26"
             ],
             [
              1.0,
              "#f0f921"
             ]
            ]
           }
          ],
          "mesh3d": [
           {
            "type": "mesh3d",
            "colorbar": {
             "outlinewidth": 0,
             "ticks": ""
            }
           }
          ],
          "scatter": [
           {
            "marker": {
             "line": {
              "color": "#283442"
             }
            },
            "type": "scatter"
           }
          ],
          "parcoords": [
           {
            "type": "parcoords",
            "line": {
             "colorbar": {
              "outlinewidth": 0,
              "ticks": ""
             }
            }
           }
          ],
          "scatterpolargl": [
           {
            "type": "scatterpolargl",
            "marker": {
             "colorbar": {
              "outlinewidth": 0,
              "ticks": ""
             }
            }
           }
          ],
          "bar": [
           {
            "error_x": {
             "color": "#f2f5fa"
            },
            "error_y": {
             "color": "#f2f5fa"
            },
            "marker": {
             "line": {
              "color": "rgb(17,17,17)",
              "width": 0.5
             },
             "pattern": {
              "fillmode": "overlay",
              "size": 10,
              "solidity": 0.2
             }
            },
            "type": "bar"
           }
          ],
          "scattergeo": [
           {
            "type": "scattergeo",
            "marker": {
             "colorbar": {
              "outlinewidth": 0,
              "ticks": ""
             }
            }
           }
          ],
          "scatterpolar": [
           {
            "type": "scatterpolar",
            "marker": {
             "colorbar": {
              "outlinewidth": 0,
              "ticks": ""
             }
            }
           }
          ],
          "histogram": [
           {
            "marker": {
             "pattern": {
              "fillmode": "overlay",
              "size": 10,
              "solidity": 0.2
             }
            },
            "type": "histogram"
           }
          ],
          "scattergl": [
           {
            "marker": {
             "line": {
              "color": "#283442"
             }
            },
            "type": "scattergl"
           }
          ],
          "scatter3d": [
           {
            "type": "scatter3d",
            "line": {
             "colorbar": {
              "outlinewidth": 0,
              "ticks": ""
             }
            },
            "marker": {
             "colorbar": {
              "outlinewidth": 0,
              "ticks": ""
             }
            }
           }
          ],
          "scattermap": [
           {
            "type": "scattermap",
            "marker": {
             "colorbar": {
              "outlinewidth": 0,
              "ticks": ""
             }
            }
           }
          ],
          "scattermapbox": [
           {
            "type": "scattermapbox",
            "marker": {
             "colorbar": {
              "outlinewidth": 0,
              "ticks": ""
             }
            }
           }
          ],
          "scatterternary": [
           {
            "type": "scatterternary",
            "marker": {
             "colorbar": {
              "outlinewidth": 0,
              "ticks": ""
             }
            }
           }
          ],
          "scattercarpet": [
           {
            "type": "scattercarpet",
            "marker": {
             "colorbar": {
              "outlinewidth": 0,
              "ticks": ""
             }
            }
           }
          ],
          "carpet": [
           {
            "aaxis": {
             "endlinecolor": "#A2B1C6",
             "gridcolor": "#506784",
             "linecolor": "#506784",
             "minorgridcolor": "#506784",
             "startlinecolor": "#A2B1C6"
            },
            "baxis": {
             "endlinecolor": "#A2B1C6",
             "gridcolor": "#506784",
             "linecolor": "#506784",
             "minorgridcolor": "#506784",
             "startlinecolor": "#A2B1C6"
            },
            "type": "carpet"
           }
          ],
          "table": [
           {
            "cells": {
             "fill": {
              "color": "#506784"
             },
             "line": {
              "color": "rgb(17,17,17)"
             }
            },
            "header": {
             "fill": {
              "color": "#2a3f5f"
             },
             "line": {
              "color": "rgb(17,17,17)"
             }
            },
            "type": "table"
           }
          ],
          "barpolar": [
           {
            "marker": {
             "line": {
              "color": "rgb(17,17,17)",
              "width": 0.5
             },
             "pattern": {
              "fillmode": "overlay",
              "size": 10,
              "solidity": 0.2
             }
            },
            "type": "barpolar"
           }
          ],
          "pie": [
           {
            "automargin": true,
            "type": "pie"
           }
          ]
         },
         "layout": {
          "autotypenumbers": "strict",
          "colorway": [
           "#636efa",
           "#EF553B",
           "#00cc96",
           "#ab63fa",
           "#FFA15A",
           "#19d3f3",
           "#FF6692",
           "#B6E880",
           "#FF97FF",
           "#FECB52"
          ],
          "font": {
           "color": "#f2f5fa"
          },
          "hovermode": "closest",
          "hoverlabel": {
           "align": "left"
          },
          "paper_bgcolor": "rgb(17,17,17)",
          "plot_bgcolor": "rgb(17,17,17)",
          "polar": {
           "bgcolor": "rgb(17,17,17)",
           "angularaxis": {
            "gridcolor": "#506784",
            "linecolor": "#506784",
            "ticks": ""
           },
           "radialaxis": {
            "gridcolor": "#506784",
            "linecolor": "#506784",
            "ticks": ""
           }
          },
          "ternary": {
           "bgcolor": "rgb(17,17,17)",
           "aaxis": {
            "gridcolor": "#506784",
            "linecolor": "#506784",
            "ticks": ""
           },
           "baxis": {
            "gridcolor": "#506784",
            "linecolor": "#506784",
            "ticks": ""
           },
           "caxis": {
            "gridcolor": "#506784",
            "linecolor": "#506784",
            "ticks": ""
           }
          },
          "coloraxis": {
           "colorbar": {
            "outlinewidth": 0,
            "ticks": ""
           }
          },
          "colorscale": {
           "sequential": [
            [
             0.0,
             "#0d0887"
            ],
            [
             0.1111111111111111,
             "#46039f"
            ],
            [
             0.2222222222222222,
             "#7201a8"
            ],
            [
             0.3333333333333333,
             "#9c179e"
            ],
            [
             0.4444444444444444,
             "#bd3786"
            ],
            [
             0.5555555555555556,
             "#d8576b"
            ],
            [
             0.6666666666666666,
             "#ed7953"
            ],
            [
             0.7777777777777778,
             "#fb9f3a"
            ],
            [
             0.8888888888888888,
             "#fdca26"
            ],
            [
             1.0,
             "#f0f921"
            ]
           ],
           "sequentialminus": [
            [
             0.0,
             "#0d0887"
            ],
            [
             0.1111111111111111,
             "#46039f"
            ],
            [
             0.2222222222222222,
             "#7201a8"
            ],
            [
             0.3333333333333333,
             "#9c179e"
            ],
            [
             0.4444444444444444,
             "#bd3786"
            ],
            [
             0.5555555555555556,
             "#d8576b"
            ],
            [
             0.6666666666666666,
             "#ed7953"
            ],
            [
             0.7777777777777778,
             "#fb9f3a"
            ],
            [
             0.8888888888888888,
             "#fdca26"
            ],
            [
             1.0,
             "#f0f921"
            ]
           ],
           "diverging": [
            [
             0,
             "#8e0152"
            ],
            [
             0.1,
             "#c51b7d"
            ],
            [
             0.2,
             "#de77ae"
            ],
            [
             0.3,
             "#f1b6da"
            ],
            [
             0.4,
             "#fde0ef"
            ],
            [
             0.5,
             "#f7f7f7"
            ],
            [
             0.6,
             "#e6f5d0"
            ],
            [
             0.7,
             "#b8e186"
            ],
            [
             0.8,
             "#7fbc41"
            ],
            [
             0.9,
             "#4d9221"
            ],
            [
             1,
             "#276419"
            ]
           ]
          },
          "xaxis": {
           "gridcolor": "#283442",
           "linecolor": "#506784",
           "ticks": "",
           "title": {
            "standoff": 15
           },
           "zerolinecolor": "#283442",
           "automargin": true,
           "zerolinewidth": 2
          },
          "yaxis": {
           "gridcolor": "#283442",
           "linecolor": "#506784",
           "ticks": "",
           "title": {
            "standoff": 15
           },
           "zerolinecolor": "#283442",
           "automargin": true,
           "zerolinewidth": 2
          },
          "scene": {
           "xaxis": {
            "backgroundcolor": "rgb(17,17,17)",
            "gridcolor": "#506784",
            "linecolor": "#506784",
            "showbackground": true,
            "ticks": "",
            "zerolinecolor": "#C8D4E3",
            "gridwidth": 2
           },
           "yaxis": {
            "backgroundcolor": "rgb(17,17,17)",
            "gridcolor": "#506784",
            "linecolor": "#506784",
            "showbackground": true,
            "ticks": "",
            "zerolinecolor": "#C8D4E3",
            "gridwidth": 2
           },
           "zaxis": {
            "backgroundcolor": "rgb(17,17,17)",
            "gridcolor": "#506784",
            "linecolor": "#506784",
            "showbackground": true,
            "ticks": "",
            "zerolinecolor": "#C8D4E3",
            "gridwidth": 2
           }
          },
          "shapedefaults": {
           "line": {
            "color": "#f2f5fa"
           }
          },
          "annotationdefaults": {
           "arrowcolor": "#f2f5fa",
           "arrowhead": 0,
           "arrowwidth": 1
          },
          "geo": {
           "bgcolor": "rgb(17,17,17)",
           "landcolor": "rgb(17,17,17)",
           "subunitcolor": "#506784",
           "showland": true,
           "showlakes": true,
           "lakecolor": "rgb(17,17,17)"
          },
          "title": {
           "x": 0.05
          },
          "updatemenudefaults": {
           "bgcolor": "#506784",
           "borderwidth": 0
          },
          "sliderdefaults": {
           "bgcolor": "#C8D4E3",
           "borderwidth": 1,
           "bordercolor": "rgb(17,17,17)",
           "tickwidth": 0
          },
          "mapbox": {
           "style": "dark"
          }
         }
        },
        "scene": {
         "domain": {
          "x": [
           0.0,
           1.0
          ],
          "y": [
           0.0,
           1.0
          ]
         },
         "xaxis": {
          "title": {
           "text": "x"
          }
         },
         "yaxis": {
          "title": {
           "text": "y"
          }
         },
         "zaxis": {
          "title": {
           "text": "z"
          }
         }
        },
        "legend": {
         "tracegroupgap": 0
        },
        "margin": {
         "t": 60
        }
       },
       "config": {
        "plotlyServerURL": "https://plot.ly"
       }
      }
     },
     "metadata": {},
     "output_type": "display_data"
    }
   ],
   "execution_count": 6
  },
  {
   "metadata": {
    "ExecuteTime": {
     "end_time": "2025-09-04T20:19:44.595222Z",
     "start_time": "2025-09-04T20:19:44.592318Z"
    }
   },
   "cell_type": "code",
   "source": [
    "normalisation = StandardScaler()\n",
    "x = normalisation.fit_transform(x)"
   ],
   "id": "bcacda8faea85abe",
   "outputs": [],
   "execution_count": 7
  },
  {
   "metadata": {
    "ExecuteTime": {
     "end_time": "2025-09-04T20:53:42.873069Z",
     "start_time": "2025-09-04T20:53:42.841943Z"
    }
   },
   "cell_type": "code",
   "source": [
    "class LogisticRegression:\n",
    "    def __init__(self, x_):\n",
    "        _, n = x_.shape\n",
    "        self.theta_ = np.random.rand(n+1, 1)\n",
    "\n",
    "    def predict(self, x_):\n",
    "        m, _ = x_.shape\n",
    "        X_ = np.hstack((x_, np.ones((m, 1)) ))\n",
    "        return X_ @ self.theta_\n",
    "\n",
    "    def logistic_function(self, x_):\n",
    "        return 1 / (1 + np.exp(-self.predict(x_)))\n",
    "\n",
    "    def cost_function(self, x_, y_):\n",
    "        m, _ = x_.shape\n",
    "        return (1/m) * np.sum(-y_ * np.log(self.logistic_function(x_)) - (1 - y_) * np.log(1 - self.logistic_function(x_)) )\n",
    "\n",
    "    def fit(self, x_, y_, learning_rate=0.01, n_iterations=1000):\n",
    "        m, _ = x_.shape\n",
    "        X_ = np.hstack((x_, np.ones((m, 1)) ))\n",
    "        cost_history_ = np.zeros(n_iterations)\n",
    "\n",
    "        for i in range(0, n_iterations):\n",
    "            self.theta_ = self.theta_ - ( (learning_rate/m) * X_.transpose() @ (self.logistic_function(x_) - y_) )\n",
    "            cost_history_[i] = self.cost_function(x_, y_)\n",
    "        return cost_history_"
   ],
   "id": "4a9ac96a26e82c97",
   "outputs": [],
   "execution_count": 9
  },
  {
   "metadata": {
    "ExecuteTime": {
     "end_time": "2025-09-04T20:56:30.884283Z",
     "start_time": "2025-09-04T20:56:30.836521Z"
    }
   },
   "cell_type": "code",
   "source": [
    "logistic_reg = LogisticRegression(x)\n",
    "J_history = logistic_reg.fit(x, y, learning_rate=0.05)"
   ],
   "id": "27e49786543be3ba",
   "outputs": [],
   "execution_count": 12
  },
  {
   "metadata": {
    "ExecuteTime": {
     "end_time": "2025-09-04T20:56:32.390503Z",
     "start_time": "2025-09-04T20:56:32.321232Z"
    }
   },
   "cell_type": "code",
   "source": [
    "plt.plot(J_history)\n",
    "plt.show()"
   ],
   "id": "a272adfb9584a6ce",
   "outputs": [
    {
     "data": {
      "text/plain": [
       "<Figure size 640x480 with 1 Axes>"
      ],
      "image/png": "[encoded data removed]"
     },
     "metadata": {},
     "output_type": "display_data"
    }
   ],
   "execution_count": 13
  },
  {
   "metadata": {
    "ExecuteTime": {
     "end_time": "2025-09-04T20:58:56.825655Z",
     "start_time": "2025-09-04T20:58:56.821283Z"
    }
   },
   "cell_type": "code",
   "source": "y_pred = logistic_reg.predict(x)",
   "id": "22c8fce77fdf7e90",
   "outputs": [],
   "execution_count": 14
  },
  {
   "metadata": {
    "ExecuteTime": {
     "end_time": "2025-09-04T20:58:58.123309Z",
     "start_time": "2025-09-04T20:58:58.119504Z"
    }
   },
   "cell_type": "code",
   "source": "logistic_reg.theta_",
   "id": "f09f6b02449c1490",
   "outputs": [
    {
     "data": {
      "text/plain": [
       "array([[-1.86060254],\n",
       "       [-0.85323618],\n",
       "       [-1.56846953],\n",
       "       [ 0.56851136]])"
      ]
     },
     "execution_count": 15,
     "metadata": {},
     "output_type": "execute_result"
    }
   ],
   "execution_count": 15
  }
 ],
 "metadata": {
  "kernelspec": {
   "display_name": "Python 3",
   "language": "python",
   "name": "python3"
  },
  "language_info": {
   "codemirror_mode": {
    "name": "ipython",
    "version": 2
   },
   "file_extension": ".py",
   "mimetype": "text/x-python",
   "name": "python",
   "nbconvert_exporter": "python",
   "pygments_lexer": "ipython2",
   "version": "2.7.6"
  }
 },
 "nbformat": 4,
 "nbformat_minor": 5
}

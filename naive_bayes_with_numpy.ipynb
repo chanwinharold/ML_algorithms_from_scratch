{
 "cells": [
  {
   "metadata": {
    "ExecuteTime": {
     "end_time": "2025-08-28T18:31:39.483716Z",
     "start_time": "2025-08-28T18:31:39.435199Z"
    }
   },
   "cell_type": "code",
   "source": [
    "import numpy as np\n",
    "import pandas as pd\n",
    "import matplotlib.pyplot as plt\n",
    "import seaborn as sns"
   ],
   "id": "edaa4a6975011189",
   "outputs": [],
   "execution_count": 27
  },
  {
   "metadata": {
    "ExecuteTime": {
     "end_time": "2025-08-28T20:22:02.415590Z",
     "start_time": "2025-08-28T20:22:02.411766Z"
    }
   },
   "cell_type": "code",
   "source": [
    "# features: [Feature1, Feature2]\n",
    "X = np.array([\n",
    "    [\"soleil\", \"chaud\"],\n",
    "    [\"pluie\",  \"froid\"],\n",
    "    [\"soleil\", \"froid\"],\n",
    "    [\"pluie\",  \"chaud\"]\n",
    "])\n",
    "\n",
    "# classes\n",
    "y = np.array([\"oui\", \"non\", \"oui\", \"non\"])\n"
   ],
   "id": "7227449a7acc77e4",
   "outputs": [],
   "execution_count": 31
  },
  {
   "metadata": {
    "ExecuteTime": {
     "end_time": "2025-08-28T20:27:19.384909Z",
     "start_time": "2025-08-28T20:27:19.375013Z"
    }
   },
   "cell_type": "code",
   "source": "X",
   "id": "6e51ec4273eca87",
   "outputs": [
    {
     "data": {
      "text/plain": [
       "array([['soleil', 'chaud'],\n",
       "       ['pluie', 'froid'],\n",
       "       ['soleil', 'froid'],\n",
       "       ['pluie', 'chaud']], dtype='<U6')"
      ]
     },
     "execution_count": 32,
     "metadata": {},
     "output_type": "execute_result"
    }
   ],
   "execution_count": 32
  },
  {
   "metadata": {
    "ExecuteTime": {
     "end_time": "2025-08-28T20:27:27.764192Z",
     "start_time": "2025-08-28T20:27:27.761007Z"
    }
   },
   "cell_type": "code",
   "source": "y",
   "id": "5481fba38478b165",
   "outputs": [
    {
     "data": {
      "text/plain": [
       "array(['oui', 'non', 'oui', 'non'], dtype='<U3')"
      ]
     },
     "execution_count": 33,
     "metadata": {},
     "output_type": "execute_result"
    }
   ],
   "execution_count": 33
  },
  {
   "metadata": {
    "ExecuteTime": {
     "end_time": "2025-08-28T20:30:42.872277Z",
     "start_time": "2025-08-28T20:30:42.863966Z"
    }
   },
   "cell_type": "code",
   "source": [
    "from collections import defaultdict\n",
    "\n",
    "# 1. Probabilités des classes P(y)\n",
    "classes, counts = np.unique(y, return_counts=True)\n",
    "class_priors = {c: count / len(y) for c, count in zip(classes, counts)}\n",
    "\n",
    "# 2. Probabilités conditionnelles P(x|y)\n",
    "cond_probs = defaultdict(lambda: defaultdict(dict))\n",
    "\n",
    "for c in classes:\n",
    "    # sous-ensemble des lignes où la classe = c\n",
    "    X_c = X[y == c]\n",
    "    n_samples_c = len(X_c)\n",
    "\n",
    "    # pour chaque colonne (feature)\n",
    "    for j in range(X.shape[1]):\n",
    "        values, val_counts = np.unique(X_c[:, j], return_counts=True)\n",
    "        for v, vc in zip(values, val_counts):\n",
    "            cond_probs[c][j][v] = vc / n_samples_c\n"
   ],
   "id": "76b6672908d974bc",
   "outputs": [],
   "execution_count": 34
  },
  {
   "metadata": {
    "ExecuteTime": {
     "end_time": "2025-08-28T20:31:18.897412Z",
     "start_time": "2025-08-28T20:31:18.894448Z"
    }
   },
   "cell_type": "code",
   "source": [
    "def predict(x):\n",
    "    scores = {}\n",
    "    for c in classes:\n",
    "        # log P(y)\n",
    "        score = np.log(class_priors[c])\n",
    "        # log P(x_i|y)\n",
    "        for j, v in enumerate(x):\n",
    "            if v in cond_probs[c][j]:\n",
    "                score += np.log(cond_probs[c][j][v])\n",
    "            else:\n",
    "                # si valeur jamais vue -> proba = 0 (à améliorer avec lissage)\n",
    "                score += -np.inf\n",
    "        scores[c] = score\n",
    "    # renvoie la classe avec le meilleur score\n",
    "    return max(scores, key=scores.get)\n",
    "\n",
    "# Exemple de prédiction\n",
    "print(predict([\"soleil\", \"froid\"]))  # devrait donner \"oui\"\n",
    "print(predict([\"pluie\", \"froid\"]))   # devrait donner \"non\"\n"
   ],
   "id": "14a33ef28492d993",
   "outputs": [
    {
     "name": "stdout",
     "output_type": "stream",
     "text": [
      "oui\n",
      "non\n"
     ]
    }
   ],
   "execution_count": 36
  }
 ],
 "metadata": {
  "kernelspec": {
   "display_name": "Python 3",
   "language": "python",
   "name": "python3"
  },
  "language_info": {
   "codemirror_mode": {
    "name": "ipython",
    "version": 2
   },
   "file_extension": ".py",
   "mimetype": "text/x-python",
   "name": "python",
   "nbconvert_exporter": "python",
   "pygments_lexer": "ipython2",
   "version": "2.7.6"
  }
 },
 "nbformat": 4,
 "nbformat_minor": 5
}

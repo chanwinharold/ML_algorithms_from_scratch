{
 "cells": [
  {
   "cell_type": "code",
   "id": "initial_id",
   "metadata": {
    "collapsed": true,
    "ExecuteTime": {
     "end_time": "2025-09-06T17:23:28.820657Z",
     "start_time": "2025-09-06T17:23:28.814830Z"
    }
   },
   "source": [
    "import numpy as np\n",
    "import matplotlib.pyplot as plt\n",
    "import pandas as pd\n",
    "from sklearn.datasets import load_iris\n",
    "from sklearn.preprocessing import StandardScaler"
   ],
   "outputs": [],
   "execution_count": 51
  },
  {
   "metadata": {
    "ExecuteTime": {
     "end_time": "2025-09-06T17:23:28.849907Z",
     "start_time": "2025-09-06T17:23:28.833604Z"
    }
   },
   "cell_type": "code",
   "source": [
    "data = load_iris()\n",
    "data = pd.DataFrame(np.concatenate([data.data, data.target.reshape(-1, 1)], axis=1),\n",
    "                    columns=data.feature_names + ['target'])\n",
    "data = data[data.loc[:, 'target'] < 2]"
   ],
   "id": "a02e8b10c981911e",
   "outputs": [],
   "execution_count": 52
  },
  {
   "metadata": {
    "ExecuteTime": {
     "end_time": "2025-09-06T17:23:29.032633Z",
     "start_time": "2025-09-06T17:23:28.893121Z"
    }
   },
   "cell_type": "code",
   "source": [
    "plt.scatter(data[data['target']==0].iloc[:, 0], data[data['target']==0].iloc[:, 2])\n",
    "plt.scatter(data[data['target']==1].iloc[:, 0], data[data['target']==1].iloc[:, 2])\n",
    "plt.show()"
   ],
   "id": "78cf0cf801d65507",
   "outputs": [
    {
     "data": {
      "text/plain": [
       "<Figure size 640x480 with 1 Axes>"
      ],
      "image/png": "[encoded data removed]"
     },
     "metadata": {},
     "output_type": "display_data"
    }
   ],
   "execution_count": 53
  },
  {
   "metadata": {
    "ExecuteTime": {
     "end_time": "2025-09-06T17:23:29.134184Z",
     "start_time": "2025-09-06T17:23:29.106702Z"
    }
   },
   "cell_type": "code",
   "source": "data.head()",
   "id": "3ea08d58edc439fa",
   "outputs": [
    {
     "data": {
      "text/plain": [
       "   sepal length (cm)  sepal width (cm)  petal length (cm)  petal width (cm)  \\\n",
       "0                5.1               3.5                1.4               0.2   \n",
       "1                4.9               3.0                1.4               0.2   \n",
       "2                4.7               3.2                1.3               0.2   \n",
       "3                4.6               3.1                1.5               0.2   \n",
       "4                5.0               3.6                1.4               0.2   \n",
       "\n",
       "   target  \n",
       "0     0.0  \n",
       "1     0.0  \n",
       "2     0.0  \n",
       "3     0.0  \n",
       "4     0.0  "
      ],
      "text/html": [
       "<div>\n",
       "<style scoped>\n",
       "    .dataframe tbody tr th:only-of-type {\n",
       "        vertical-align: middle;\n",
       "    }\n",
       "\n",
       "    .dataframe tbody tr th {\n",
       "        vertical-align: top;\n",
       "    }\n",
       "\n",
       "    .dataframe thead th {\n",
       "        text-align: right;\n",
       "    }\n",
       "</style>\n",
       "<table border=\"1\" class=\"dataframe\">\n",
       "  <thead>\n",
       "    <tr style=\"text-align: right;\">\n",
       "      <th></th>\n",
       "      <th>sepal length (cm)</th>\n",
       "      <th>sepal width (cm)</th>\n",
       "      <th>petal length (cm)</th>\n",
       "      <th>petal width (cm)</th>\n",
       "      <th>target</th>\n",
       "    </tr>\n",
       "  </thead>\n",
       "  <tbody>\n",
       "    <tr>\n",
       "      <th>0</th>\n",
       "      <td>5.1</td>\n",
       "      <td>3.5</td>\n",
       "      <td>1.4</td>\n",
       "      <td>0.2</td>\n",
       "      <td>0.0</td>\n",
       "    </tr>\n",
       "    <tr>\n",
       "      <th>1</th>\n",
       "      <td>4.9</td>\n",
       "      <td>3.0</td>\n",
       "      <td>1.4</td>\n",
       "      <td>0.2</td>\n",
       "      <td>0.0</td>\n",
       "    </tr>\n",
       "    <tr>\n",
       "      <th>2</th>\n",
       "      <td>4.7</td>\n",
       "      <td>3.2</td>\n",
       "      <td>1.3</td>\n",
       "      <td>0.2</td>\n",
       "      <td>0.0</td>\n",
       "    </tr>\n",
       "    <tr>\n",
       "      <th>3</th>\n",
       "      <td>4.6</td>\n",
       "      <td>3.1</td>\n",
       "      <td>1.5</td>\n",
       "      <td>0.2</td>\n",
       "      <td>0.0</td>\n",
       "    </tr>\n",
       "    <tr>\n",
       "      <th>4</th>\n",
       "      <td>5.0</td>\n",
       "      <td>3.6</td>\n",
       "      <td>1.4</td>\n",
       "      <td>0.2</td>\n",
       "      <td>0.0</td>\n",
       "    </tr>\n",
       "  </tbody>\n",
       "</table>\n",
       "</div>"
      ]
     },
     "execution_count": 54,
     "metadata": {},
     "output_type": "execute_result"
    }
   ],
   "execution_count": 54
  },
  {
   "metadata": {
    "ExecuteTime": {
     "end_time": "2025-09-06T17:23:29.281962Z",
     "start_time": "2025-09-06T17:23:29.273774Z"
    }
   },
   "cell_type": "code",
   "source": [
    "x = np.array(data.iloc[:, [0, 2]])\n",
    "y = np.array(data.loc[:, 'target']).reshape(-1, 1)"
   ],
   "id": "e79437b88314f5c0",
   "outputs": [],
   "execution_count": 55
  },
  {
   "metadata": {
    "ExecuteTime": {
     "end_time": "2025-09-06T17:23:29.317907Z",
     "start_time": "2025-09-06T17:23:29.311056Z"
    }
   },
   "cell_type": "code",
   "source": [
    "print(x.shape)\n",
    "print(y.shape)"
   ],
   "id": "b69091b49be44966",
   "outputs": [
    {
     "name": "stdout",
     "output_type": "stream",
     "text": [
      "(100, 2)\n",
      "(100, 1)\n"
     ]
    }
   ],
   "execution_count": 56
  },
  {
   "metadata": {
    "ExecuteTime": {
     "end_time": "2025-09-06T17:23:29.513405Z",
     "start_time": "2025-09-06T17:23:29.504061Z"
    }
   },
   "cell_type": "code",
   "source": [
    "normalisation = StandardScaler()\n",
    "x = normalisation.fit_transform(x)"
   ],
   "id": "3e80c3a366122958",
   "outputs": [],
   "execution_count": 57
  },
  {
   "metadata": {},
   "cell_type": "markdown",
   "source": "# Implémentation du SVM",
   "id": "743a64d5cfbe2d43"
  },
  {
   "metadata": {
    "ExecuteTime": {
     "end_time": "2025-09-06T17:23:29.636711Z",
     "start_time": "2025-09-06T17:23:29.624064Z"
    }
   },
   "cell_type": "code",
   "source": [
    "class SVMClassifier:\n",
    "\n",
    "    def __init__(self, x_, c_):\n",
    "        _, n = x_.shape\n",
    "        self.theta_ = np.random.rand(n+1, 1)\n",
    "        self.c_ = c_\n",
    "\n",
    "    def predict(self, x_):\n",
    "        m, n = x_.shape\n",
    "        X_ = np.hstack(( np.ones((m, 1)), x_ ))\n",
    "        return np.where((X_ @ self.theta_) >= 0, 1, -1)\n",
    "\n",
    "    def cost_function(self, x_, yi):\n",
    "        m, n = x_.shape\n",
    "        y_ = np.copy(yi); y_[y_==0] = -1\n",
    "        X_ = np.hstack(( np.ones((m, 1)), x_ ))\n",
    "        return (0.5 * np.linalg.norm(self.theta_**2)) + (self.c_ * (1/m) * np.sum(np.maximum( (1 - y_ * (X_ @ self.theta_)), 0 )))\n",
    "\n",
    "    def fit(self, x_, yi, learning_rate=0.01, n_iterations=1000):\n",
    "        m, n = x_.shape\n",
    "        y_ = np.copy(yi); y_[y_==0] = -1\n",
    "        X_ = np.hstack(( np.ones((m, 1)), x_ ))\n",
    "        cost_history = np.zeros(n_iterations)\n",
    "\n",
    "        for i in range(0, n_iterations):\n",
    "\n",
    "            margins = 1 - y_ * (X_ @ self.theta_)\n",
    "            indicator = (margins > 0).astype(int)\n",
    "            grad = self.theta_ - (self.c_/m) * (X_.T @ (y_ * indicator))\n",
    "\n",
    "            self.theta_ = self.theta_ - learning_rate * grad\n",
    "            cost_history[i] = self.cost_function(x_, y_)\n",
    "\n",
    "        return cost_history"
   ],
   "id": "be518e2087d1023f",
   "outputs": [],
   "execution_count": 58
  },
  {
   "metadata": {
    "ExecuteTime": {
     "end_time": "2025-09-06T17:23:29.804630Z",
     "start_time": "2025-09-06T17:23:29.716706Z"
    }
   },
   "cell_type": "code",
   "source": [
    "svm = SVMClassifier(x_=x, c_=12)\n",
    "j_hist = svm.fit(x, y)"
   ],
   "id": "221c704455137d19",
   "outputs": [],
   "execution_count": 59
  },
  {
   "metadata": {
    "ExecuteTime": {
     "end_time": "2025-09-06T17:23:29.981804Z",
     "start_time": "2025-09-06T17:23:29.820693Z"
    }
   },
   "cell_type": "code",
   "source": [
    "plt.plot(j_hist)\n",
    "plt.show()"
   ],
   "id": "8719ed1e94ad75fd",
   "outputs": [
    {
     "data": {
      "text/plain": [
       "<Figure size 640x480 with 1 Axes>"
      ],
      "image/png": "[encoded data removed]"
     },
     "metadata": {},
     "output_type": "display_data"
    }
   ],
   "execution_count": 60
  },
  {
   "metadata": {},
   "cell_type": "markdown",
   "source": [
    "f(x) = a.x1 + b.x2 + c\n",
    "\n",
    "donc x2 = (1/b) * (-a.x1 - c)"
   ],
   "id": "78dccf82d9b76545"
  },
  {
   "metadata": {
    "ExecuteTime": {
     "end_time": "2025-09-06T17:23:30.228310Z",
     "start_time": "2025-09-06T17:23:30.025592Z"
    }
   },
   "cell_type": "code",
   "source": [
    "plt.scatter(x[:, 0], x[:, 1], c=y)\n",
    "\n",
    "x_line = np.arange(-3, 3, 0.1)\n",
    "a, b, c = svm.theta_\n",
    "y_line = (- a - b * x_line) / c\n",
    "\n",
    "plt.plot(x_line, y_line, c='r')\n",
    "\n",
    "plt.show()"
   ],
   "id": "ae6825c39bb903ff",
   "outputs": [
    {
     "data": {
      "text/plain": [
       "<Figure size 640x480 with 1 Axes>"
      ],
      "image/png": "[encoded data removed]"
     },
     "metadata": {},
     "output_type": "display_data"
    }
   ],
   "execution_count": 61
  }
 ],
 "metadata": {
  "kernelspec": {
   "display_name": "Python 3",
   "language": "python",
   "name": "python3"
  },
  "language_info": {
   "codemirror_mode": {
    "name": "ipython",
    "version": 2
   },
   "file_extension": ".py",
   "mimetype": "text/x-python",
   "name": "python",
   "nbconvert_exporter": "python",
   "pygments_lexer": "ipython2",
   "version": "2.7.6"
  }
 },
 "nbformat": 4,
 "nbformat_minor": 5
}

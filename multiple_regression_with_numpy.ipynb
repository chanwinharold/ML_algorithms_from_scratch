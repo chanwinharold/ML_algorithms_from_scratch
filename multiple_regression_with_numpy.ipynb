{
 "cells": [
  {
   "metadata": {
    "ExecuteTime": {
     "end_time": "2025-09-04T14:09:19.693614Z",
     "start_time": "2025-09-04T14:09:19.687459Z"
    }
   },
   "cell_type": "code",
   "source": [
    "import numpy as np\n",
    "from sklearn.datasets import make_regression\n",
    "import matplotlib.pyplot as plt"
   ],
   "id": "1cb8aeb4792b227",
   "outputs": [],
   "execution_count": 58
  },
  {
   "metadata": {},
   "cell_type": "markdown",
   "source": "# Dataset",
   "id": "5febc7ee6e688ca2"
  },
  {
   "metadata": {
    "ExecuteTime": {
     "end_time": "2025-09-04T14:09:19.750870Z",
     "start_time": "2025-09-04T14:09:19.743853Z"
    }
   },
   "cell_type": "code",
   "source": [
    "x, y = make_regression(n_samples=100, n_features=2, noise=10)\n",
    "x1 = x[:, 0]\n",
    "x2 = x[:, 1]"
   ],
   "id": "c2e937074d270948",
   "outputs": [],
   "execution_count": 59
  },
  {
   "metadata": {
    "ExecuteTime": {
     "end_time": "2025-09-04T14:09:19.891858Z",
     "start_time": "2025-09-04T14:09:19.806675Z"
    }
   },
   "cell_type": "code",
   "source": [
    "import plotly.express as px\n",
    "fig = px.scatter_3d(x=x1, y=x2, z=y, labels={\"x\": \"X1\", \"y\": \"X2\", \"z\": \"Y\"})\n",
    "fig.show()"
   ],
   "id": "5687bc9b944e7c36",
   "outputs": [
    {
     "data": {
      "application/vnd.plotly.v1+json": {
       "data": [
        {
         "hovertemplate": "X1=%{x}<br>X2=%{y}<br>Y=%{z}<extra></extra>",
         "legendgroup": "",
         "marker": {
          "color": "#636efa",
          "symbol": "circle"
         },
         "mode": "markers",
         "name": "",
         "scene": "scene",
         "showlegend": false,
         "x": {
          "dtype": "f8",
          "bdata": "lG243iNv2j9f/pLfzaHwP15UxFLb0vi/FswTJJHtAMDbRXe+o0Ppv1jQEHXrd4u/Dei87bVz0r/t4NleMkjnP5tqrjtWZfS/z5ZX5DvLsz+MwboE42LqvxFXP3dgENW/hX7y/8Yk9T+Psa7l9mrgP2Eua/MDGt8/3XfbTzKmrb8s40tv3DHXv5CzBSPrEr0/H4m1+X+99L9Xi1OBSNnzv+esdkCOReA/Yf8SchxQ3r/TTfBIP3m8v7MVLWTCuvA/RIjwG2gW8T9u3GkvfEnrv+V5eyM7j/u/+tsJQclsyj/LuYAYxIrkP2Hw+Hiwjs4/SSj1Mbgp/T98q1V+3YnpP6Jyp1VW1NW/yX4i3Hwi1T83D9v+SsjmPzDHaVx+XPQ/aJ3Q3x159T/r5F4dYAHaPxqnoHEgB++/SE5a7p9P37+nUMwiosnkP9Ad2+85HfO/LHn6cCAC+79ZKoy6r+n+v7DwcAEtAfi/9ZZID/+O9L9S//2XwR4AQD+3Ac1+ZN0/9hI5t7Tr1b8j88Wo3tcEQJs/rxkT1tu/vWwpSKgM3z+0FfoUUSKHP8hI+doRfuY/as7s8B8F2z/E4BpdosvaP2Pe10vxn8w/ZEZl1gs2/z8DDCwwnrjQv9gpVKdyquE/VKCWYtl44r82q6/GH4COvyfEAS1ERLQ/IYMO2QUYv7/KjoTTh37jP5MNOV6EIvQ/ttmI0BEX3L9offW5H9Lhv3RXGZPYr8U/AqXWkg5+4z+5tuZEE+30v0AX4UJ8S7G/M7kwQGzj5T/LyLvXSiLtv9fF/7bimvY/qYH83RGu7b8hhUoKRMjmP0ryydPkWuA/bTfAHv/U3j/DjXAQnOalv/MuRLAo7vE/G8nRxum01r/zRL5N51vxvw0oFhA/N/M/+0fBMuDmzb/5BITT0cPxP/orJiJuieo/MlAkvjVo5j8jn1iFtjzzv0qRSor0nuc/hPMZNUxU1r9hPdQGYxzTvwhBL5BUge+/TRP0Szno4L/s8znnV9LmP0kzlqKmt6w/SwGrbGGa3r9pZJTwoTviv3jOWZg+9uq/rbeaufLg1b8="
         },
         "y": {
          "dtype": "f8",
          "bdata": "B6mqa89fvr9mXjeVzAz7P34StN5n+uY/Q0NVCYbx878cd6pYTtrtv7AA995kdu2/EW2USziQ4b/V/8LLznviP4okw5CoirU/fJNrVM40zb+T+CIyuMfpvwToEWkXQN+/CZR1jaul0T9NrVH8awz+P6FFMAh7dOu/Dli3v1Pw9j8fMfjU7L3Ev62xUUEO4PW/bf3NI2L097+h/zzsLgXuP7ac02cZ5t6/N2pFZUNzhD/mekyTvRTyP98jUs582+s/8P9AMgLO6z/qlQ6T1DHeP6oxU6SvvOs/iaZp5APH4T/IJvM2uinLv/xXDPl03dM/JaHcpnvw2798181Y5iYAwBF0hhZj2/e/tKQbtkg/8L+inOaF3SPTv/KcvpL6lgTASIfV1fnE7z+a4VRDfMLxP/AAJn0eYJE/SeHGbxAi+j+tV+epKSsDQHqotaqtyKs/zw+jxhfcyj/+Fw+uVCLtvwgA/rzdv+y/yiZA/Nr5z78xR32K24j8P0IDpwS3Gd0/NQkLxRQH+r+0CexZ9OyqP8YKoCvISfg/BhAlJjjqtb8J8lP6cJn3vxXHSKOHP9M/z+QgfobU5r+6XmQpvbzmv3/93RZnPvC/ykiYwH978b+9PIXWfJLAP+v08lGFotC/kQKrQtWR479nGx7HibPVP/1Sn88FmdO/VY0dJk11979R9gTgizj0vzcB25OgMeE/P04hZqbZqL/SPqMEZg7Mv7NA67XcZu+/nqtYZfbq5j/5cXSb8xTQv6RHf7cCT9I/EaovROKIp7+b01bs3dzNP3GbdLyLcPU/OsTu5xWM2L+gKvsBnVrqvy1N4zj3Ed+/s9SBRJd15r/IjBoQx/X3v3hRjnDtjPy/fZGcl3ONA0AYfiXQiGrvP8Hkd611YOM/r1as76zv5D+fqqtp08wGQPmXAAw4kPS/NkbwXZRwqL/IxXsbyzzzv3Kxcjrzz96/ik0CRW9xz7/UVmM429PPP2BWkjaYoP4/b4wLo4NG8r+OmcWdWtDkv0h94PE/88Q/Bn7IOE5r2D/Y5flC6Cb+v8JEB3t2FvM/GJfVfs20w78="
         },
         "z": {
          "dtype": "f8",
          "bdata": "iHQv38+N+r+NbbA3B+1gQL3aVmSgOzDAfeGl8sJAY8CD4fCgXSNWwK7Y9ezq8EvAuYcvmLLBPsAkMv+5UqFPQBevnI/iejXAuOEt/S7HFcBMRgpqp5tTwNZDEMYTgjnA7BwcB47TTkAY6K8EzbZgQFSr2pOivEDA/QBt4LkyVkAoLkL3z8k0wGt6iqhkN0/A8CrIVKpfYcCkzMJO7NgFQIAl9oDKhee/Gn5JuJFGNcCTweZMpbJTQOBH45VZRFJAGl9DYYAwVUAQEV932YTnvxg0uuK7FTDA4oyPchHPRkChK7MZKcY4QO65DtAjlS9AiKRb+2GNS0AqfUxrqW1bwIHR3OJD4lnAWGv3XTuKRsAKFhCjwGgMQEr/bs2QalzAlYGMo31BWkDCiGLMtW5QQB6NYJBMYUTAQz92uk1oVEDUTfwJ6AxkQPSrKMRnMkDAUdsw0LD2QsAC4qeN7rlgwJwp9oK+bFnA/zdswg6vS8BQ3ldyvuJoQKa/bCA5+EpAExhIlkrZXsCsicG2GvVbQAa0IGtwrVlAVNhLeo+cKEDBnVyoPoFRwOokkl7nf0FAFrZLf2BLP8CwnvFiCgokwA4GDn3MDUvAC662lToNMEBQRa/gNC0pQHHHGlri4RdA26OS9OHuUsBg8tJKeGr8P4xWP2qwPCjA9jxMUoruVMCepFEEbVM9wJCjVv+9k1JAuB8lw8dzLsCcVi443Ng8wC4INAVX91DAlZms8/nUUkCIOHTMUepSwJXh+lMTrTlAwsJ/aRMJOUDBL6NEgtw5wMbuZNLbSF5AL9cJKZbgS8BjPuBa22IzwOFiLPgEOCBAjJb9yn4qR8D96NObiRlXwNqo1DCwKlDAjvEB4IiZYECsJjzlkZ0WQMZfRrNfuVVAXoJE1iGLRUAbamIJHmhqQM/iiEcWxkrAbPBIGdY5OUA6b38lK7VfwDIa3oCuaRPAGmX8sFUtMcAca7xD0ZbyPy46BTSTolBA9JWj/Y74UcCoATFEEoMwwPlG2U/3Qh1ACt+4vntYL0DT5nj++FZcwDPR1F5SzEBAS8bzX26uNsA="
         },
         "type": "scatter3d"
        }
       ],
       "layout": {
        "template": {
         "data": {
          "histogram2dcontour": [
           {
            "type": "histogram2dcontour",
            "colorbar": {
             "outlinewidth": 0,
             "ticks": ""
            },
            "colorscale": [
             [
              0.0,
              "#0d0887"
             ],
             [
              0.1111111111111111,
              "#46039f"
             ],
             [
              0.2222222222222222,
              "#7201a8"
             ],
             [
              0.3333333333333333,
              "#9c179e"
             ],
             [
              0.4444444444444444,
              "#bd3786"
             ],
             [
              0.5555555555555556,
              "#d8576b"
             ],
             [
              0.6666666666666666,
              "#ed7953"
             ],
             [
              0.7777777777777778,
              "#fb9f3a"
             ],
             [
              0.8888888888888888,
              "#fdca26"
             ],
             [
              1.0,
              "#f0f921"
             ]
            ]
           }
          ],
          "choropleth": [
           {
            "type": "choropleth",
            "colorbar": {
             "outlinewidth": 0,
             "ticks": ""
            }
           }
          ],
          "histogram2d": [
           {
            "type": "histogram2d",
            "colorbar": {
             "outlinewidth": 0,
             "ticks": ""
            },
            "colorscale": [
             [
              0.0,
              "#0d0887"
             ],
             [
              0.1111111111111111,
              "#46039f"
             ],
             [
              0.2222222222222222,
              "#7201a8"
             ],
             [
              0.3333333333333333,
              "#9c179e"
             ],
             [
              0.4444444444444444,
              "#bd3786"
             ],
             [
              0.5555555555555556,
              "#d8576b"
             ],
             [
              0.6666666666666666,
              "#ed7953"
             ],
             [
              0.7777777777777778,
              "#fb9f3a"
             ],
             [
              0.8888888888888888,
              "#fdca26"
             ],
             [
              1.0,
              "#f0f921"
             ]
            ]
           }
          ],
          "heatmap": [
           {
            "type": "heatmap",
            "colorbar": {
             "outlinewidth": 0,
             "ticks": ""
            },
            "colorscale": [
             [
              0.0,
              "#0d0887"
             ],
             [
              0.1111111111111111,
              "#46039f"
             ],
             [
              0.2222222222222222,
              "#7201a8"
             ],
             [
              0.3333333333333333,
              "#9c179e"
             ],
             [
              0.4444444444444444,
              "#bd3786"
             ],
             [
              0.5555555555555556,
              "#d8576b"
             ],
             [
              0.6666666666666666,
              "#ed7953"
             ],
             [
              0.7777777777777778,
              "#fb9f3a"
             ],
             [
              0.8888888888888888,
              "#fdca26"
             ],
             [
              1.0,
              "#f0f921"
             ]
            ]
           }
          ],
          "contourcarpet": [
           {
            "type": "contourcarpet",
            "colorbar": {
             "outlinewidth": 0,
             "ticks": ""
            }
           }
          ],
          "contour": [
           {
            "type": "contour",
            "colorbar": {
             "outlinewidth": 0,
             "ticks": ""
            },
            "colorscale": [
             [
              0.0,
              "#0d0887"
             ],
             [
              0.1111111111111111,
              "#46039f"
             ],
             [
              0.2222222222222222,
              "#7201a8"
             ],
             [
              0.3333333333333333,
              "#9c179e"
             ],
             [
              0.4444444444444444,
              "#bd3786"
             ],
             [
              0.5555555555555556,
              "#d8576b"
             ],
             [
              0.6666666666666666,
              "#ed7953"
             ],
             [
              0.7777777777777778,
              "#fb9f3a"
             ],
             [
              0.8888888888888888,
              "#fdca26"
             ],
             [
              1.0,
              "#f0f921"
             ]
            ]
           }
          ],
          "surface": [
           {
            "type": "surface",
            "colorbar": {
             "outlinewidth": 0,
             "ticks": ""
            },
            "colorscale": [
             [
              0.0,
              "#0d0887"
             ],
             [
              0.1111111111111111,
              "#46039f"
             ],
             [
              0.2222222222222222,
              "#7201a8"
             ],
             [
              0.3333333333333333,
              "#9c179e"
             ],
             [
              0.4444444444444444,
              "#bd3786"
             ],
             [
              0.5555555555555556,
              "#d8576b"
             ],
             [
              0.6666666666666666,
              "#ed7953"
             ],
             [
              0.7777777777777778,
              "#fb9f3a"
             ],
             [
              0.8888888888888888,
              "#fdca26"
             ],
             [
              1.0,
              "#f0f921"
             ]
            ]
           }
          ],
          "mesh3d": [
           {
            "type": "mesh3d",
            "colorbar": {
             "outlinewidth": 0,
             "ticks": ""
            }
           }
          ],
          "scatter": [
           {
            "marker": {
             "line": {
              "color": "#283442"
             }
            },
            "type": "scatter"
           }
          ],
          "parcoords": [
           {
            "type": "parcoords",
            "line": {
             "colorbar": {
              "outlinewidth": 0,
              "ticks": ""
             }
            }
           }
          ],
          "scatterpolargl": [
           {
            "type": "scatterpolargl",
            "marker": {
             "colorbar": {
              "outlinewidth": 0,
              "ticks": ""
             }
            }
           }
          ],
          "bar": [
           {
            "error_x": {
             "color": "#f2f5fa"
            },
            "error_y": {
             "color": "#f2f5fa"
            },
            "marker": {
             "line": {
              "color": "rgb(17,17,17)",
              "width": 0.5
             },
             "pattern": {
              "fillmode": "overlay",
              "size": 10,
              "solidity": 0.2
             }
            },
            "type": "bar"
           }
          ],
          "scattergeo": [
           {
            "type": "scattergeo",
            "marker": {
             "colorbar": {
              "outlinewidth": 0,
              "ticks": ""
             }
            }
           }
          ],
          "scatterpolar": [
           {
            "type": "scatterpolar",
            "marker": {
             "colorbar": {
              "outlinewidth": 0,
              "ticks": ""
             }
            }
           }
          ],
          "histogram": [
           {
            "marker": {
             "pattern": {
              "fillmode": "overlay",
              "size": 10,
              "solidity": 0.2
             }
            },
            "type": "histogram"
           }
          ],
          "scattergl": [
           {
            "marker": {
             "line": {
              "color": "#283442"
             }
            },
            "type": "scattergl"
           }
          ],
          "scatter3d": [
           {
            "type": "scatter3d",
            "line": {
             "colorbar": {
              "outlinewidth": 0,
              "ticks": ""
             }
            },
            "marker": {
             "colorbar": {
              "outlinewidth": 0,
              "ticks": ""
             }
            }
           }
          ],
          "scattermap": [
           {
            "type": "scattermap",
            "marker": {
             "colorbar": {
              "outlinewidth": 0,
              "ticks": ""
             }
            }
           }
          ],
          "scattermapbox": [
           {
            "type": "scattermapbox",
            "marker": {
             "colorbar": {
              "outlinewidth": 0,
              "ticks": ""
             }
            }
           }
          ],
          "scatterternary": [
           {
            "type": "scatterternary",
            "marker": {
             "colorbar": {
              "outlinewidth": 0,
              "ticks": ""
             }
            }
           }
          ],
          "scattercarpet": [
           {
            "type": "scattercarpet",
            "marker": {
             "colorbar": {
              "outlinewidth": 0,
              "ticks": ""
             }
            }
           }
          ],
          "carpet": [
           {
            "aaxis": {
             "endlinecolor": "#A2B1C6",
             "gridcolor": "#506784",
             "linecolor": "#506784",
             "minorgridcolor": "#506784",
             "startlinecolor": "#A2B1C6"
            },
            "baxis": {
             "endlinecolor": "#A2B1C6",
             "gridcolor": "#506784",
             "linecolor": "#506784",
             "minorgridcolor": "#506784",
             "startlinecolor": "#A2B1C6"
            },
            "type": "carpet"
           }
          ],
          "table": [
           {
            "cells": {
             "fill": {
              "color": "#506784"
             },
             "line": {
              "color": "rgb(17,17,17)"
             }
            },
            "header": {
             "fill": {
              "color": "#2a3f5f"
             },
             "line": {
              "color": "rgb(17,17,17)"
             }
            },
            "type": "table"
           }
          ],
          "barpolar": [
           {
            "marker": {
             "line": {
              "color": "rgb(17,17,17)",
              "width": 0.5
             },
             "pattern": {
              "fillmode": "overlay",
              "size": 10,
              "solidity": 0.2
             }
            },
            "type": "barpolar"
           }
          ],
          "pie": [
           {
            "automargin": true,
            "type": "pie"
           }
          ]
         },
         "layout": {
          "autotypenumbers": "strict",
          "colorway": [
           "#636efa",
           "#EF553B",
           "#00cc96",
           "#ab63fa",
           "#FFA15A",
           "#19d3f3",
           "#FF6692",
           "#B6E880",
           "#FF97FF",
           "#FECB52"
          ],
          "font": {
           "color": "#f2f5fa"
          },
          "hovermode": "closest",
          "hoverlabel": {
           "align": "left"
          },
          "paper_bgcolor": "rgb(17,17,17)",
          "plot_bgcolor": "rgb(17,17,17)",
          "polar": {
           "bgcolor": "rgb(17,17,17)",
           "angularaxis": {
            "gridcolor": "#506784",
            "linecolor": "#506784",
            "ticks": ""
           },
           "radialaxis": {
            "gridcolor": "#506784",
            "linecolor": "#506784",
            "ticks": ""
           }
          },
          "ternary": {
           "bgcolor": "rgb(17,17,17)",
           "aaxis": {
            "gridcolor": "#506784",
            "linecolor": "#506784",
            "ticks": ""
           },
           "baxis": {
            "gridcolor": "#506784",
            "linecolor": "#506784",
            "ticks": ""
           },
           "caxis": {
            "gridcolor": "#506784",
            "linecolor": "#506784",
            "ticks": ""
           }
          },
          "coloraxis": {
           "colorbar": {
            "outlinewidth": 0,
            "ticks": ""
           }
          },
          "colorscale": {
           "sequential": [
            [
             0.0,
             "#0d0887"
            ],
            [
             0.1111111111111111,
             "#46039f"
            ],
            [
             0.2222222222222222,
             "#7201a8"
            ],
            [
             0.3333333333333333,
             "#9c179e"
            ],
            [
             0.4444444444444444,
             "#bd3786"
            ],
            [
             0.5555555555555556,
             "#d8576b"
            ],
            [
             0.6666666666666666,
             "#ed7953"
            ],
            [
             0.7777777777777778,
             "#fb9f3a"
            ],
            [
             0.8888888888888888,
             "#fdca26"
            ],
            [
             1.0,
             "#f0f921"
            ]
           ],
           "sequentialminus": [
            [
             0.0,
             "#0d0887"
            ],
            [
             0.1111111111111111,
             "#46039f"
            ],
            [
             0.2222222222222222,
             "#7201a8"
            ],
            [
             0.3333333333333333,
             "#9c179e"
            ],
            [
             0.4444444444444444,
             "#bd3786"
            ],
            [
             0.5555555555555556,
             "#d8576b"
            ],
            [
             0.6666666666666666,
             "#ed7953"
            ],
            [
             0.7777777777777778,
             "#fb9f3a"
            ],
            [
             0.8888888888888888,
             "#fdca26"
            ],
            [
             1.0,
             "#f0f921"
            ]
           ],
           "diverging": [
            [
             0,
             "#8e0152"
            ],
            [
             0.1,
             "#c51b7d"
            ],
            [
             0.2,
             "#de77ae"
            ],
            [
             0.3,
             "#f1b6da"
            ],
            [
             0.4,
             "#fde0ef"
            ],
            [
             0.5,
             "#f7f7f7"
            ],
            [
             0.6,
             "#e6f5d0"
            ],
            [
             0.7,
             "#b8e186"
            ],
            [
             0.8,
             "#7fbc41"
            ],
            [
             0.9,
             "#4d9221"
            ],
            [
             1,
             "#276419"
            ]
           ]
          },
          "xaxis": {
           "gridcolor": "#283442",
           "linecolor": "#506784",
           "ticks": "",
           "title": {
            "standoff": 15
           },
           "zerolinecolor": "#283442",
           "automargin": true,
           "zerolinewidth": 2
          },
          "yaxis": {
           "gridcolor": "#283442",
           "linecolor": "#506784",
           "ticks": "",
           "title": {
            "standoff": 15
           },
           "zerolinecolor": "#283442",
           "automargin": true,
           "zerolinewidth": 2
          },
          "scene": {
           "xaxis": {
            "backgroundcolor": "rgb(17,17,17)",
            "gridcolor": "#506784",
            "linecolor": "#506784",
            "showbackground": true,
            "ticks": "",
            "zerolinecolor": "#C8D4E3",
            "gridwidth": 2
           },
           "yaxis": {
            "backgroundcolor": "rgb(17,17,17)",
            "gridcolor": "#506784",
            "linecolor": "#506784",
            "showbackground": true,
            "ticks": "",
            "zerolinecolor": "#C8D4E3",
            "gridwidth": 2
           },
           "zaxis": {
            "backgroundcolor": "rgb(17,17,17)",
            "gridcolor": "#506784",
            "linecolor": "#506784",
            "showbackground": true,
            "ticks": "",
            "zerolinecolor": "#C8D4E3",
            "gridwidth": 2
           }
          },
          "shapedefaults": {
           "line": {
            "color": "#f2f5fa"
           }
          },
          "annotationdefaults": {
           "arrowcolor": "#f2f5fa",
           "arrowhead": 0,
           "arrowwidth": 1
          },
          "geo": {
           "bgcolor": "rgb(17,17,17)",
           "landcolor": "rgb(17,17,17)",
           "subunitcolor": "#506784",
           "showland": true,
           "showlakes": true,
           "lakecolor": "rgb(17,17,17)"
          },
          "title": {
           "x": 0.05
          },
          "updatemenudefaults": {
           "bgcolor": "#506784",
           "borderwidth": 0
          },
          "sliderdefaults": {
           "bgcolor": "#C8D4E3",
           "borderwidth": 1,
           "bordercolor": "rgb(17,17,17)",
           "tickwidth": 0
          },
          "mapbox": {
           "style": "dark"
          }
         }
        },
        "scene": {
         "domain": {
          "x": [
           0.0,
           1.0
          ],
          "y": [
           0.0,
           1.0
          ]
         },
         "xaxis": {
          "title": {
           "text": "X1"
          }
         },
         "yaxis": {
          "title": {
           "text": "X2"
          }
         },
         "zaxis": {
          "title": {
           "text": "Y"
          }
         }
        },
        "legend": {
         "tracegroupgap": 0
        },
        "margin": {
         "t": 60
        }
       },
       "config": {
        "plotlyServerURL": "https://plot.ly"
       }
      }
     },
     "metadata": {},
     "output_type": "display_data"
    }
   ],
   "execution_count": 60
  },
  {
   "metadata": {
    "ExecuteTime": {
     "end_time": "2025-09-04T14:09:19.973673Z",
     "start_time": "2025-09-04T14:09:19.963119Z"
    }
   },
   "cell_type": "code",
   "source": [
    "print(x.shape)\n",
    "x1 = x1.reshape((x.shape[0], 1))\n",
    "x2 = x2.reshape((x.shape[0], 1))\n",
    "y = y.reshape((x.shape[0], 1))\n",
    "print(y.shape)"
   ],
   "id": "6c214df54d9eff2d",
   "outputs": [
    {
     "name": "stdout",
     "output_type": "stream",
     "text": [
      "(100, 2)\n",
      "(100, 1)\n"
     ]
    }
   ],
   "execution_count": 61
  },
  {
   "metadata": {
    "ExecuteTime": {
     "end_time": "2025-09-04T14:09:20.092847Z",
     "start_time": "2025-09-04T14:09:20.053040Z"
    }
   },
   "cell_type": "code",
   "source": [
    "class LinearRegression:\n",
    "    def __init__(self, x_):\n",
    "        \"\"\"\n",
    "        Initialisation du poids θ\n",
    "        :param x_: Matrice des variables\n",
    "        \"\"\"\n",
    "        _, n = x_.shape\n",
    "        self.theta_ = np.random.randn(n+1, 1)\n",
    "\n",
    "    def predict(self, x_):\n",
    "        \"\"\"\n",
    "        Calcul du Modèle linéaire f(X) = X.θ\n",
    "        :param x_: Matrice des variables\n",
    "        \"\"\"\n",
    "        m, _ = x_.shape\n",
    "        X_ = np.hstack(( x_, np.ones((m, 1)) ))\n",
    "        return X_ @ self.theta_\n",
    "\n",
    "    @staticmethod\n",
    "    def cost_function(fx_, y_):\n",
    "        \"\"\"\n",
    "        Fonction de coût J(θ) = 1/2m * ∑(X.θ - Y)²\n",
    "        :param fx_: Matrice des valeurs prédites par le modèle\n",
    "        :param y_: Matrice de la Target\n",
    "        \"\"\"\n",
    "        m, _ = y_.shape\n",
    "        return 1/(2*m) * np.sum( (fx_ - y_)**2 )\n",
    "\n",
    "    def fit(self, x_, y_, learning_rate:float=0.01, n_iterations:int=1000):\n",
    "        \"\"\"\n",
    "        Ajustement du modèle avec la méthode de la descente de gradient\n",
    "        :param x_: Matrice des variables\n",
    "        :param y_: Matrice de la Target\n",
    "        :param learning_rate: Taux d'apprentissage\n",
    "        :param n_iterations: Nombre d'itérations du gradient descent\n",
    "        :return: Poids θ final\n",
    "        \"\"\"\n",
    "        m, n = x_.shape\n",
    "        X_ = np.hstack( (x_, np.ones((m, 1))) )\n",
    "        cost_history = np.zeros(n_iterations)\n",
    "\n",
    "        for i in range(0, n_iterations):\n",
    "            self.theta_ = self.theta_ - learning_rate * (1/m * (X_.transpose().dot(self.predict(x_) - y_)))\n",
    "            cost_history[i] = self.cost_function(self.predict(x_), y_)\n",
    "\n",
    "        return cost_history\n",
    "\n",
    "    @staticmethod\n",
    "    def r_sqrt_performance(fx_, y_):\n",
    "        \"\"\"\n",
    "        Coéfficient de Détermination R² = 1 - (∑(Y — f(x))² / ∑(Y - Ȳ)²)\n",
    "        :param fx_: Matrice des valeurs prédites par le modèle\n",
    "        :param y_: Matrice de la Target\n",
    "        :return: R²\n",
    "        \"\"\"\n",
    "        u = np.sum((y_ - fx_)**2)\n",
    "        v = np.sum((y_ - y_.mean())**2)\n",
    "        return 1 - u/v\n"
   ],
   "id": "7081f0f1330453f3",
   "outputs": [],
   "execution_count": 62
  },
  {
   "metadata": {
    "ExecuteTime": {
     "end_time": "2025-09-04T14:09:20.222758Z",
     "start_time": "2025-09-04T14:09:20.154656Z"
    }
   },
   "cell_type": "code",
   "source": [
    "multiple_linear_reg = LinearRegression(x)\n",
    "J_history = multiple_linear_reg.fit(x, y)"
   ],
   "id": "e78ae1871073cc91",
   "outputs": [],
   "execution_count": 63
  },
  {
   "metadata": {
    "ExecuteTime": {
     "end_time": "2025-09-04T14:09:20.544054Z",
     "start_time": "2025-09-04T14:09:20.281825Z"
    }
   },
   "cell_type": "code",
   "source": [
    "plt.plot(J_history)\n",
    "plt.show()"
   ],
   "id": "6515e98cc21f590c",
   "outputs": [
    {
     "data": {
      "text/plain": [
       "<Figure size 640x480 with 1 Axes>"
      ],
      "image/png": "[encoded data removed]"
     },
     "metadata": {},
     "output_type": "display_data"
    }
   ],
   "execution_count": 64
  },
  {
   "metadata": {
    "ExecuteTime": {
     "end_time": "2025-09-04T14:09:20.685867Z",
     "start_time": "2025-09-04T14:09:20.676067Z"
    }
   },
   "cell_type": "code",
   "source": "y_pred = multiple_linear_reg.predict(x)",
   "id": "b87a4dc9b9d32aff",
   "outputs": [],
   "execution_count": 65
  },
  {
   "metadata": {
    "ExecuteTime": {
     "end_time": "2025-09-04T14:09:20.871431Z",
     "start_time": "2025-09-04T14:09:20.864699Z"
    }
   },
   "cell_type": "code",
   "source": "print(multiple_linear_reg.r_sqrt_performance(y_pred, y))",
   "id": "a22f2493f5e349d2",
   "outputs": [
    {
     "name": "stdout",
     "output_type": "stream",
     "text": [
      "0.9803327476304342\n"
     ]
    }
   ],
   "execution_count": 66
  },
  {
   "metadata": {
    "ExecuteTime": {
     "end_time": "2025-09-04T14:09:20.934426Z",
     "start_time": "2025-09-04T14:09:20.927897Z"
    }
   },
   "cell_type": "code",
   "source": "a, b, c = multiple_linear_reg.theta_",
   "id": "32f88823ba449a42",
   "outputs": [],
   "execution_count": 67
  },
  {
   "metadata": {
    "ExecuteTime": {
     "end_time": "2025-09-04T14:19:00.767725Z",
     "start_time": "2025-09-04T14:19:00.720094Z"
    }
   },
   "cell_type": "code",
   "source": [
    "import plotly.graph_objects as go\n",
    "\n",
    "x1_line = np.linspace(x1.min(), x1.max(), 20)\n",
    "x2_line = np.linspace(x2.min(), x2.max(), 20)\n",
    "x1_line, x2_line = np.meshgrid(x1_line, x2_line)\n",
    "\n",
    "y_pred_line = a * x1_line + b * x2_line + c\n",
    "\n",
    "# Data Viz\n",
    "fig = go.Figure()\n",
    "\n",
    "fig.add_trace(go.Scatter3d(\n",
    "    x=x1.ravel(),\n",
    "    y=x2.ravel(),\n",
    "    z=y.ravel(),\n",
    "    mode='markers',\n",
    "    marker=dict(size=5, color='blue', opacity=0.9, showscale=False),\n",
    "    name=\"Données\"\n",
    "))\n",
    "\n",
    "fig.add_trace(\n",
    "    go.Surface(\n",
    "        x=x1_line, y=x2_line, z=y_pred_line,\n",
    "        colorscale=\"Reds\", opacity=0.5,\n",
    "        name=\"Plan de régression\"\n",
    "    )\n",
    ")\n",
    "\n",
    "fig.update_layout(\n",
    "    scene=dict(\n",
    "        xaxis_title=\"X1\",\n",
    "        yaxis_title=\"X2\",\n",
    "        zaxis_title=\"Y\"\n",
    "    ),\n",
    "    title=\"Régression linéaire multiple en 3D\"\n",
    ")\n",
    "\n",
    "fig.show()\n"
   ],
   "id": "96c7aaea03b72579",
   "outputs": [
    {
     "data": {
      "application/vnd.plotly.v1+json": {
       "data": [
        {
         "marker": {
          "color": "blue",
          "opacity": 0.9,
          "showscale": false,
          "size": 5
         },
         "mode": "markers",
         "name": "Données",
         "x": {
          "dtype": "f8",
          "bdata": "lG243iNv2j9f/pLfzaHwP15UxFLb0vi/FswTJJHtAMDbRXe+o0Ppv1jQEHXrd4u/Dei87bVz0r/t4NleMkjnP5tqrjtWZfS/z5ZX5DvLsz+MwboE42LqvxFXP3dgENW/hX7y/8Yk9T+Psa7l9mrgP2Eua/MDGt8/3XfbTzKmrb8s40tv3DHXv5CzBSPrEr0/H4m1+X+99L9Xi1OBSNnzv+esdkCOReA/Yf8SchxQ3r/TTfBIP3m8v7MVLWTCuvA/RIjwG2gW8T9u3GkvfEnrv+V5eyM7j/u/+tsJQclsyj/LuYAYxIrkP2Hw+Hiwjs4/SSj1Mbgp/T98q1V+3YnpP6Jyp1VW1NW/yX4i3Hwi1T83D9v+SsjmPzDHaVx+XPQ/aJ3Q3x159T/r5F4dYAHaPxqnoHEgB++/SE5a7p9P37+nUMwiosnkP9Ad2+85HfO/LHn6cCAC+79ZKoy6r+n+v7DwcAEtAfi/9ZZID/+O9L9S//2XwR4AQD+3Ac1+ZN0/9hI5t7Tr1b8j88Wo3tcEQJs/rxkT1tu/vWwpSKgM3z+0FfoUUSKHP8hI+doRfuY/as7s8B8F2z/E4BpdosvaP2Pe10vxn8w/ZEZl1gs2/z8DDCwwnrjQv9gpVKdyquE/VKCWYtl44r82q6/GH4COvyfEAS1ERLQ/IYMO2QUYv7/KjoTTh37jP5MNOV6EIvQ/ttmI0BEX3L9offW5H9Lhv3RXGZPYr8U/AqXWkg5+4z+5tuZEE+30v0AX4UJ8S7G/M7kwQGzj5T/LyLvXSiLtv9fF/7bimvY/qYH83RGu7b8hhUoKRMjmP0ryydPkWuA/bTfAHv/U3j/DjXAQnOalv/MuRLAo7vE/G8nRxum01r/zRL5N51vxvw0oFhA/N/M/+0fBMuDmzb/5BITT0cPxP/orJiJuieo/MlAkvjVo5j8jn1iFtjzzv0qRSor0nuc/hPMZNUxU1r9hPdQGYxzTvwhBL5BUge+/TRP0Szno4L/s8znnV9LmP0kzlqKmt6w/SwGrbGGa3r9pZJTwoTviv3jOWZg+9uq/rbeaufLg1b8="
         },
         "y": {
          "dtype": "f8",
          "bdata": "B6mqa89fvr9mXjeVzAz7P34StN5n+uY/Q0NVCYbx878cd6pYTtrtv7AA995kdu2/EW2USziQ4b/V/8LLznviP4okw5CoirU/fJNrVM40zb+T+CIyuMfpvwToEWkXQN+/CZR1jaul0T9NrVH8awz+P6FFMAh7dOu/Dli3v1Pw9j8fMfjU7L3Ev62xUUEO4PW/bf3NI2L097+h/zzsLgXuP7ac02cZ5t6/N2pFZUNzhD/mekyTvRTyP98jUs582+s/8P9AMgLO6z/qlQ6T1DHeP6oxU6SvvOs/iaZp5APH4T/IJvM2uinLv/xXDPl03dM/JaHcpnvw2798181Y5iYAwBF0hhZj2/e/tKQbtkg/8L+inOaF3SPTv/KcvpL6lgTASIfV1fnE7z+a4VRDfMLxP/AAJn0eYJE/SeHGbxAi+j+tV+epKSsDQHqotaqtyKs/zw+jxhfcyj/+Fw+uVCLtvwgA/rzdv+y/yiZA/Nr5z78xR32K24j8P0IDpwS3Gd0/NQkLxRQH+r+0CexZ9OyqP8YKoCvISfg/BhAlJjjqtb8J8lP6cJn3vxXHSKOHP9M/z+QgfobU5r+6XmQpvbzmv3/93RZnPvC/ykiYwH978b+9PIXWfJLAP+v08lGFotC/kQKrQtWR479nGx7HibPVP/1Sn88FmdO/VY0dJk11979R9gTgizj0vzcB25OgMeE/P04hZqbZqL/SPqMEZg7Mv7NA67XcZu+/nqtYZfbq5j/5cXSb8xTQv6RHf7cCT9I/EaovROKIp7+b01bs3dzNP3GbdLyLcPU/OsTu5xWM2L+gKvsBnVrqvy1N4zj3Ed+/s9SBRJd15r/IjBoQx/X3v3hRjnDtjPy/fZGcl3ONA0AYfiXQiGrvP8Hkd611YOM/r1as76zv5D+fqqtp08wGQPmXAAw4kPS/NkbwXZRwqL/IxXsbyzzzv3Kxcjrzz96/ik0CRW9xz7/UVmM429PPP2BWkjaYoP4/b4wLo4NG8r+OmcWdWtDkv0h94PE/88Q/Bn7IOE5r2D/Y5flC6Cb+v8JEB3t2FvM/GJfVfs20w78="
         },
         "z": {
          "dtype": "f8",
          "bdata": "iHQv38+N+r+NbbA3B+1gQL3aVmSgOzDAfeGl8sJAY8CD4fCgXSNWwK7Y9ezq8EvAuYcvmLLBPsAkMv+5UqFPQBevnI/iejXAuOEt/S7HFcBMRgpqp5tTwNZDEMYTgjnA7BwcB47TTkAY6K8EzbZgQFSr2pOivEDA/QBt4LkyVkAoLkL3z8k0wGt6iqhkN0/A8CrIVKpfYcCkzMJO7NgFQIAl9oDKhee/Gn5JuJFGNcCTweZMpbJTQOBH45VZRFJAGl9DYYAwVUAQEV932YTnvxg0uuK7FTDA4oyPchHPRkChK7MZKcY4QO65DtAjlS9AiKRb+2GNS0AqfUxrqW1bwIHR3OJD4lnAWGv3XTuKRsAKFhCjwGgMQEr/bs2QalzAlYGMo31BWkDCiGLMtW5QQB6NYJBMYUTAQz92uk1oVEDUTfwJ6AxkQPSrKMRnMkDAUdsw0LD2QsAC4qeN7rlgwJwp9oK+bFnA/zdswg6vS8BQ3ldyvuJoQKa/bCA5+EpAExhIlkrZXsCsicG2GvVbQAa0IGtwrVlAVNhLeo+cKEDBnVyoPoFRwOokkl7nf0FAFrZLf2BLP8CwnvFiCgokwA4GDn3MDUvAC662lToNMEBQRa/gNC0pQHHHGlri4RdA26OS9OHuUsBg8tJKeGr8P4xWP2qwPCjA9jxMUoruVMCepFEEbVM9wJCjVv+9k1JAuB8lw8dzLsCcVi443Ng8wC4INAVX91DAlZms8/nUUkCIOHTMUepSwJXh+lMTrTlAwsJ/aRMJOUDBL6NEgtw5wMbuZNLbSF5AL9cJKZbgS8BjPuBa22IzwOFiLPgEOCBAjJb9yn4qR8D96NObiRlXwNqo1DCwKlDAjvEB4IiZYECsJjzlkZ0WQMZfRrNfuVVAXoJE1iGLRUAbamIJHmhqQM/iiEcWxkrAbPBIGdY5OUA6b38lK7VfwDIa3oCuaRPAGmX8sFUtMcAca7xD0ZbyPy46BTSTolBA9JWj/Y74UcCoATFEEoMwwPlG2U/3Qh1ACt+4vntYL0DT5nj++FZcwDPR1F5SzEBAS8bzX26uNsA="
         },
         "type": "scatter3d"
        },
        {
         "colorscale": [
          [
           0.0,
           "rgb(255,245,240)"
          ],
          [
           0.125,
           "rgb(254,224,210)"
          ],
          [
           0.25,
           "rgb(252,187,161)"
          ],
          [
           0.375,
           "rgb(252,146,114)"
          ],
          [
           0.5,
           "rgb(251,106,74)"
          ],
          [
           0.625,
           "rgb(239,59,44)"
          ],
          [
           0.75,
           "rgb(203,24,29)"
          ],
          [
           0.875,
           "rgb(165,15,21)"
          ],
          [
           1.0,
           "rgb(103,0,13)"
          ]
         ],
         "name": "Plan de régression",
         "opacity": 0.5,
         "x": {
          "dtype": "f8",
          "bdata": "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",
          "shape": "20, 20"
         },
         "y": {
          "dtype": "f8",
          "bdata": "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",
          "shape": "20, 20"
         },
         "z": {
          "dtype": "f8",
          "bdata": "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",
          "shape": "20, 20"
         },
         "type": "surface"
        }
       ],
       "layout": {
        "template": {
         "data": {
          "histogram2dcontour": [
           {
            "type": "histogram2dcontour",
            "colorbar": {
             "outlinewidth": 0,
             "ticks": ""
            },
            "colorscale": [
             [
              0.0,
              "#0d0887"
             ],
             [
              0.1111111111111111,
              "#46039f"
             ],
             [
              0.2222222222222222,
              "#7201a8"
             ],
             [
              0.3333333333333333,
              "#9c179e"
             ],
             [
              0.4444444444444444,
              "#bd3786"
             ],
             [
              0.5555555555555556,
              "#d8576b"
             ],
             [
              0.6666666666666666,
              "#ed7953"
             ],
             [
              0.7777777777777778,
              "#fb9f3a"
             ],
             [
              0.8888888888888888,
              "#fdca26"
             ],
             [
              1.0,
              "#f0f921"
             ]
            ]
           }
          ],
          "choropleth": [
           {
            "type": "choropleth",
            "colorbar": {
             "outlinewidth": 0,
             "ticks": ""
            }
           }
          ],
          "histogram2d": [
           {
            "type": "histogram2d",
            "colorbar": {
             "outlinewidth": 0,
             "ticks": ""
            },
            "colorscale": [
             [
              0.0,
              "#0d0887"
             ],
             [
              0.1111111111111111,
              "#46039f"
             ],
             [
              0.2222222222222222,
              "#7201a8"
             ],
             [
              0.3333333333333333,
              "#9c179e"
             ],
             [
              0.4444444444444444,
              "#bd3786"
             ],
             [
              0.5555555555555556,
              "#d8576b"
             ],
             [
              0.6666666666666666,
              "#ed7953"
             ],
             [
              0.7777777777777778,
              "#fb9f3a"
             ],
             [
              0.8888888888888888,
              "#fdca26"
             ],
             [
              1.0,
              "#f0f921"
             ]
            ]
           }
          ],
          "heatmap": [
           {
            "type": "heatmap",
            "colorbar": {
             "outlinewidth": 0,
             "ticks": ""
            },
            "colorscale": [
             [
              0.0,
              "#0d0887"
             ],
             [
              0.1111111111111111,
              "#46039f"
             ],
             [
              0.2222222222222222,
              "#7201a8"
             ],
             [
              0.3333333333333333,
              "#9c179e"
             ],
             [
              0.4444444444444444,
              "#bd3786"
             ],
             [
              0.5555555555555556,
              "#d8576b"
             ],
             [
              0.6666666666666666,
              "#ed7953"
             ],
             [
              0.7777777777777778,
              "#fb9f3a"
             ],
             [
              0.8888888888888888,
              "#fdca26"
             ],
             [
              1.0,
              "#f0f921"
             ]
            ]
           }
          ],
          "contourcarpet": [
           {
            "type": "contourcarpet",
            "colorbar": {
             "outlinewidth": 0,
             "ticks": ""
            }
           }
          ],
          "contour": [
           {
            "type": "contour",
            "colorbar": {
             "outlinewidth": 0,
             "ticks": ""
            },
            "colorscale": [
             [
              0.0,
              "#0d0887"
             ],
             [
              0.1111111111111111,
              "#46039f"
             ],
             [
              0.2222222222222222,
              "#7201a8"
             ],
             [
              0.3333333333333333,
              "#9c179e"
             ],
             [
              0.4444444444444444,
              "#bd3786"
             ],
             [
              0.5555555555555556,
              "#d8576b"
             ],
             [
              0.6666666666666666,
              "#ed7953"
             ],
             [
              0.7777777777777778,
              "#fb9f3a"
             ],
             [
              0.8888888888888888,
              "#fdca26"
             ],
             [
              1.0,
              "#f0f921"
             ]
            ]
           }
          ],
          "surface": [
           {
            "type": "surface",
            "colorbar": {
             "outlinewidth": 0,
             "ticks": ""
            },
            "colorscale": [
             [
              0.0,
              "#0d0887"
             ],
             [
              0.1111111111111111,
              "#46039f"
             ],
             [
              0.2222222222222222,
              "#7201a8"
             ],
             [
              0.3333333333333333,
              "#9c179e"
             ],
             [
              0.4444444444444444,
              "#bd3786"
             ],
             [
              0.5555555555555556,
              "#d8576b"
             ],
             [
              0.6666666666666666,
              "#ed7953"
             ],
             [
              0.7777777777777778,
              "#fb9f3a"
             ],
             [
              0.8888888888888888,
              "#fdca26"
             ],
             [
              1.0,
              "#f0f921"
             ]
            ]
           }
          ],
          "mesh3d": [
           {
            "type": "mesh3d",
            "colorbar": {
             "outlinewidth": 0,
             "ticks": ""
            }
           }
          ],
          "scatter": [
           {
            "marker": {
             "line": {
              "color": "#283442"
             }
            },
            "type": "scatter"
           }
          ],
          "parcoords": [
           {
            "type": "parcoords",
            "line": {
             "colorbar": {
              "outlinewidth": 0,
              "ticks": ""
             }
            }
           }
          ],
          "scatterpolargl": [
           {
            "type": "scatterpolargl",
            "marker": {
             "colorbar": {
              "outlinewidth": 0,
              "ticks": ""
             }
            }
           }
          ],
          "bar": [
           {
            "error_x": {
             "color": "#f2f5fa"
            },
            "error_y": {
             "color": "#f2f5fa"
            },
            "marker": {
             "line": {
              "color": "rgb(17,17,17)",
              "width": 0.5
             },
             "pattern": {
              "fillmode": "overlay",
              "size": 10,
              "solidity": 0.2
             }
            },
            "type": "bar"
           }
          ],
          "scattergeo": [
           {
            "type": "scattergeo",
            "marker": {
             "colorbar": {
              "outlinewidth": 0,
              "ticks": ""
             }
            }
           }
          ],
          "scatterpolar": [
           {
            "type": "scatterpolar",
            "marker": {
             "colorbar": {
              "outlinewidth": 0,
              "ticks": ""
             }
            }
           }
          ],
          "histogram": [
           {
            "marker": {
             "pattern": {
              "fillmode": "overlay",
              "size": 10,
              "solidity": 0.2
             }
            },
            "type": "histogram"
           }
          ],
          "scattergl": [
           {
            "marker": {
             "line": {
              "color": "#283442"
             }
            },
            "type": "scattergl"
           }
          ],
          "scatter3d": [
           {
            "type": "scatter3d",
            "line": {
             "colorbar": {
              "outlinewidth": 0,
              "ticks": ""
             }
            },
            "marker": {
             "colorbar": {
              "outlinewidth": 0,
              "ticks": ""
             }
            }
           }
          ],
          "scattermap": [
           {
            "type": "scattermap",
            "marker": {
             "colorbar": {
              "outlinewidth": 0,
              "ticks": ""
             }
            }
           }
          ],
          "scattermapbox": [
           {
            "type": "scattermapbox",
            "marker": {
             "colorbar": {
              "outlinewidth": 0,
              "ticks": ""
             }
            }
           }
          ],
          "scatterternary": [
           {
            "type": "scatterternary",
            "marker": {
             "colorbar": {
              "outlinewidth": 0,
              "ticks": ""
             }
            }
           }
          ],
          "scattercarpet": [
           {
            "type": "scattercarpet",
            "marker": {
             "colorbar": {
              "outlinewidth": 0,
              "ticks": ""
             }
            }
           }
          ],
          "carpet": [
           {
            "aaxis": {
             "endlinecolor": "#A2B1C6",
             "gridcolor": "#506784",
             "linecolor": "#506784",
             "minorgridcolor": "#506784",
             "startlinecolor": "#A2B1C6"
            },
            "baxis": {
             "endlinecolor": "#A2B1C6",
             "gridcolor": "#506784",
             "linecolor": "#506784",
             "minorgridcolor": "#506784",
             "startlinecolor": "#A2B1C6"
            },
            "type": "carpet"
           }
          ],
          "table": [
           {
            "cells": {
             "fill": {
              "color": "#506784"
             },
             "line": {
              "color": "rgb(17,17,17)"
             }
            },
            "header": {
             "fill": {
              "color": "#2a3f5f"
             },
             "line": {
              "color": "rgb(17,17,17)"
             }
            },
            "type": "table"
           }
          ],
          "barpolar": [
           {
            "marker": {
             "line": {
              "color": "rgb(17,17,17)",
              "width": 0.5
             },
             "pattern": {
              "fillmode": "overlay",
              "size": 10,
              "solidity": 0.2
             }
            },
            "type": "barpolar"
           }
          ],
          "pie": [
           {
            "automargin": true,
            "type": "pie"
           }
          ]
         },
         "layout": {
          "autotypenumbers": "strict",
          "colorway": [
           "#636efa",
           "#EF553B",
           "#00cc96",
           "#ab63fa",
           "#FFA15A",
           "#19d3f3",
           "#FF6692",
           "#B6E880",
           "#FF97FF",
           "#FECB52"
          ],
          "font": {
           "color": "#f2f5fa"
          },
          "hovermode": "closest",
          "hoverlabel": {
           "align": "left"
          },
          "paper_bgcolor": "rgb(17,17,17)",
          "plot_bgcolor": "rgb(17,17,17)",
          "polar": {
           "bgcolor": "rgb(17,17,17)",
           "angularaxis": {
            "gridcolor": "#506784",
            "linecolor": "#506784",
            "ticks": ""
           },
           "radialaxis": {
            "gridcolor": "#506784",
            "linecolor": "#506784",
            "ticks": ""
           }
          },
          "ternary": {
           "bgcolor": "rgb(17,17,17)",
           "aaxis": {
            "gridcolor": "#506784",
            "linecolor": "#506784",
            "ticks": ""
           },
           "baxis": {
            "gridcolor": "#506784",
            "linecolor": "#506784",
            "ticks": ""
           },
           "caxis": {
            "gridcolor": "#506784",
            "linecolor": "#506784",
            "ticks": ""
           }
          },
          "coloraxis": {
           "colorbar": {
            "outlinewidth": 0,
            "ticks": ""
           }
          },
          "colorscale": {
           "sequential": [
            [
             0.0,
             "#0d0887"
            ],
            [
             0.1111111111111111,
             "#46039f"
            ],
            [
             0.2222222222222222,
             "#7201a8"
            ],
            [
             0.3333333333333333,
             "#9c179e"
            ],
            [
             0.4444444444444444,
             "#bd3786"
            ],
            [
             0.5555555555555556,
             "#d8576b"
            ],
            [
             0.6666666666666666,
             "#ed7953"
            ],
            [
             0.7777777777777778,
             "#fb9f3a"
            ],
            [
             0.8888888888888888,
             "#fdca26"
            ],
            [
             1.0,
             "#f0f921"
            ]
           ],
           "sequentialminus": [
            [
             0.0,
             "#0d0887"
            ],
            [
             0.1111111111111111,
             "#46039f"
            ],
            [
             0.2222222222222222,
             "#7201a8"
            ],
            [
             0.3333333333333333,
             "#9c179e"
            ],
            [
             0.4444444444444444,
             "#bd3786"
            ],
            [
             0.5555555555555556,
             "#d8576b"
            ],
            [
             0.6666666666666666,
             "#ed7953"
            ],
            [
             0.7777777777777778,
             "#fb9f3a"
            ],
            [
             0.8888888888888888,
             "#fdca26"
            ],
            [
             1.0,
             "#f0f921"
            ]
           ],
           "diverging": [
            [
             0,
             "#8e0152"
            ],
            [
             0.1,
             "#c51b7d"
            ],
            [
             0.2,
             "#de77ae"
            ],
            [
             0.3,
             "#f1b6da"
            ],
            [
             0.4,
             "#fde0ef"
            ],
            [
             0.5,
             "#f7f7f7"
            ],
            [
             0.6,
             "#e6f5d0"
            ],
            [
             0.7,
             "#b8e186"
            ],
            [
             0.8,
             "#7fbc41"
            ],
            [
             0.9,
             "#4d9221"
            ],
            [
             1,
             "#276419"
            ]
           ]
          },
          "xaxis": {
           "gridcolor": "#283442",
           "linecolor": "#506784",
           "ticks": "",
           "title": {
            "standoff": 15
           },
           "zerolinecolor": "#283442",
           "automargin": true,
           "zerolinewidth": 2
          },
          "yaxis": {
           "gridcolor": "#283442",
           "linecolor": "#506784",
           "ticks": "",
           "title": {
            "standoff": 15
           },
           "zerolinecolor": "#283442",
           "automargin": true,
           "zerolinewidth": 2
          },
          "scene": {
           "xaxis": {
            "backgroundcolor": "rgb(17,17,17)",
            "gridcolor": "#506784",
            "linecolor": "#506784",
            "showbackground": true,
            "ticks": "",
            "zerolinecolor": "#C8D4E3",
            "gridwidth": 2
           },
           "yaxis": {
            "backgroundcolor": "rgb(17,17,17)",
            "gridcolor": "#506784",
            "linecolor": "#506784",
            "showbackground": true,
            "ticks": "",
            "zerolinecolor": "#C8D4E3",
            "gridwidth": 2
           },
           "zaxis": {
            "backgroundcolor": "rgb(17,17,17)",
            "gridcolor": "#506784",
            "linecolor": "#506784",
            "showbackground": true,
            "ticks": "",
            "zerolinecolor": "#C8D4E3",
            "gridwidth": 2
           }
          },
          "shapedefaults": {
           "line": {
            "color": "#f2f5fa"
           }
          },
          "annotationdefaults": {
           "arrowcolor": "#f2f5fa",
           "arrowhead": 0,
           "arrowwidth": 1
          },
          "geo": {
           "bgcolor": "rgb(17,17,17)",
           "landcolor": "rgb(17,17,17)",
           "subunitcolor": "#506784",
           "showland": true,
           "showlakes": true,
           "lakecolor": "rgb(17,17,17)"
          },
          "title": {
           "x": 0.05
          },
          "updatemenudefaults": {
           "bgcolor": "#506784",
           "borderwidth": 0
          },
          "sliderdefaults": {
           "bgcolor": "#C8D4E3",
           "borderwidth": 1,
           "bordercolor": "rgb(17,17,17)",
           "tickwidth": 0
          },
          "mapbox": {
           "style": "dark"
          }
         }
        },
        "scene": {
         "xaxis": {
          "title": {
           "text": "X1"
          }
         },
         "yaxis": {
          "title": {
           "text": "X2"
          }
         },
         "zaxis": {
          "title": {
           "text": "Y"
          }
         }
        },
        "title": {
         "text": "Régression linéaire multiple en 3D"
        }
       },
       "config": {
        "plotlyServerURL": "https://plot.ly"
       }
      }
     },
     "metadata": {},
     "output_type": "display_data"
    }
   ],
   "execution_count": 74
  }
 ],
 "metadata": {
  "kernelspec": {
   "display_name": "Python 3",
   "language": "python",
   "name": "python3"
  },
  "language_info": {
   "codemirror_mode": {
    "name": "ipython",
    "version": 2
   },
   "file_extension": ".py",
   "mimetype": "text/x-python",
   "name": "python",
   "nbconvert_exporter": "python",
   "pygments_lexer": "ipython2",
   "version": "2.7.6"
  }
 },
 "nbformat": 4,
 "nbformat_minor": 5
}

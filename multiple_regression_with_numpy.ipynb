{
 "cells": [
  {
   "metadata": {
    "ExecuteTime": {
     "end_time": "2025-08-26T22:06:17.807767Z",
     "start_time": "2025-08-26T22:06:17.591909Z"
    }
   },
   "cell_type": "code",
   "source": [
    "import numpy as np\n",
    "from sklearn.datasets import make_regression\n",
    "import matplotlib.pyplot as plt\n",
    "import seaborn as sns"
   ],
   "id": "1cb8aeb4792b227",
   "outputs": [],
   "execution_count": 2
  },
  {
   "metadata": {},
   "cell_type": "markdown",
   "source": "# Dataset",
   "id": "5febc7ee6e688ca2"
  },
  {
   "metadata": {
    "ExecuteTime": {
     "end_time": "2025-08-26T22:16:06.965924Z",
     "start_time": "2025-08-26T22:16:06.952297Z"
    }
   },
   "cell_type": "code",
   "source": [
    "x, y = make_regression(n_samples=100, n_features=2, noise=10)\n",
    "x1 = x[:, 0]\n",
    "x2 = x[:, 1]"
   ],
   "id": "c2e937074d270948",
   "outputs": [],
   "execution_count": 18
  },
  {
   "metadata": {
    "ExecuteTime": {
     "end_time": "2025-08-26T22:16:39.781962Z",
     "start_time": "2025-08-26T22:16:39.700709Z"
    }
   },
   "cell_type": "code",
   "source": [
    "import plotly.express as px\n",
    "fig = px.scatter_3d(x=x1, y=x2, z=y)\n",
    "fig.show()"
   ],
   "id": "5687bc9b944e7c36",
   "outputs": [
    {
     "data": {
      "application/vnd.plotly.v1+json": {
       "data": [
        {
         "hovertemplate": "x=%{x}<br>y=%{y}<br>z=%{z}<extra></extra>",
         "legendgroup": "",
         "marker": {
          "color": "#636efa",
          "symbol": "circle"
         },
         "mode": "markers",
         "name": "",
         "scene": "scene",
         "showlegend": false,
         "x": {
          "dtype": "f8",
          "bdata": "GbL4ysfw9j9sbgsYgpC+v1FqTMXTivs/IbYfJWLu+r9yuVfujX/CP5HGHuZLBaI/NlzpKfGeyj/X7461dD7gvwy3odUfn5U/zvlbiEjf8r9y2AXyka2wv2r/lJfI/uk/Jt3kxTGz6j+83opw3DbEv4RNi93FzeQ/u4Ba7IxO8D+fN7Zb6Qj2P+x+zfOmttK/caJkJ2ir7795usZs0yqEP1cF1JYcHty/m/074Bhe8T9s5IuYtqv2P1bnDzPvNfI/kJkCQ1AQ2z9LPglZAv3WvyiiyE+vbvc/dN7SGGxk7z8txqHZjMX3PxOYDTuxMPA/iymU5pI9tr8ROrNSoGO5Pwnfh7vCvuE/3qSBNaHg5j9lVurBlYLnP02YSzLi1eK/XQ7E4q+H0z+PJy6XDCEAQEXRz79oeNi/egHuHFBq4z+jthsLbR/7v2EttOE3Aeq/anrjwYyl5D+4oxyhkh7iv9Dwu8UNqOw/q3DKNjLL7j/ChdAMsUXoP66sya6Qprs/zURiYSpa/b/Hi/yiVmPEv//kiIAYi/C/xm6uRxfi6T9HMFu1c23Yv84HsMZjPO6/ftyYBFmC7z9AiqnaCuXYvzGMQDCdiuG/TWFCFgPN6r9163Vn+Crfv3L2af6587s/BdvWerIm4b/YWe/GSWXhv7ye3IxnINA/BwvvfZ13BkAcJ1p42Y3mP6AuvAxTqN+/HU0M3m3o0r8hzN+GV//iPw0njc4Tfek/wG7z56m45b+7LzgZ2HnwP930V9q7SeK/2fIZZkYJ8D96TbMX27PEP/lJ0m+sxeQ/xxqyJW0K+z89uCz5v+XuvyzUAB0DHMM/9HCrsajB2L9S8GUaZgDnPxl68pwr9O0/HnPrmA0s5T8slp85xGfpPzjOdz/0kOg/2694ijcF+D8AIHLcqhTYv4S4KFHLFt6/c0OHpO3D17/05K2UaDjCP1/eEf9VLO+/PoymAehK1j8FKA7p/xTCP+wFM/U97Pm/OjHeWFWUvr+q0vTCJxv/P47y9Ee1G+G/pJH1PxYPwL8YnqIzTAHQP6+cNOcGP84/YPjvv5Ah7r8="
         },
         "y": {
          "dtype": "f8",
          "bdata": "RSxluMdP+j9Ecdo/yTvoP7pm+nYyvJI/64+bkej8AsA2poNHKyXyP4IV/b+c8Z6/PsB19u8FvD/rRWqwVJjIP6q4BU+ksPk/RwiczI0b5z+FgNxDoyTUv1Xw0Hp2Bvu/yoJJvsuz+D/S/ecusk3iP/UHFUiL38g/UY/16/hY8D850LNy5sTqP2zPiKNgRgRA5Rds0mKM97/u561CbaTCP4E0sPRJn/A/ch0NuDTYoL+buGwztyGyv/+fKb0PUua/o4LWuvbQ1j8/AkRPpF7tPzfnvPvxoO+/CX5rnnOA2r/LCDozb8byP7U5qF/Ub9a/GjiS4FDf8z9Og5NFWsHGv86v1wcq7vK/L8tiUlWf7b+FmL0KnpjuP8cYxJrnUu0/ktmzk1SS5j9dyWrNK2jhvx9ZoWISdt2/ExhMqbbS/78HmW7mn4/uv+EdXJk8RO6/SgBTj3Jg378mX4vKdIvfP80KuYJDQQHA1Dl8++XpBUAuzLkQbcjlvzcr9lJG1t4/6ovWrEks1b9X5BA3xkzhP9WDsz8Mv+u/fFJCyYXO8T+K7yGHQ2rsv3+C3y1q8gDAVhJBhxdN+79jyME3DxbVv54/6eUsdvU/IXBupiV38T8cryh1/dzuP4/i/PKzgsW/4aGtEsup4T9HcHMP+AEDQO+SP2/IBADAFMRT9QiH6j8nWkJWGPTWP+GjJhbMXvA/s7957BEHwD9L3AZuc1TFv+dE96m+qP8/3xXXD56c+L+7pswJNYzlvxCuqS3hM+u/fq6H+s/L77/hAooEN1rdP/iUg26vgt0/BQjI2goH+7/WBr8rcwb7v8Y0r2BCFfE/C5VsCR3C6L+bZxaTh13xP5dL4CsHy+W/z3HVZkcK/L+eeoxkueH4v+cQ4TIMGtc/h/2dYOq26D9Cd1n3tYzmP5kdPzRx2Ni/FFgTwU2fCcDgSBqmCAvOv4PJpXMR5u4/wQc6XstQ+r9NOvkiWgz0v2ZkpzHAlOQ/nwVn/HLgBEAAelElPzHcP9wzTWBYPP+/J4MBiyWiw7+G9pCM7ZTAP8/nRP9k+Ni/432EsYHc4b8="
         },
         "z": {
          "dtype": "f8",
          "bdata": "7RQe0fmBYkAjbsyR0S9MQNSHkFeQV0RAeSAmSRB5ZsBKzL3tENtMQLwUbTbDvidAMA4R3U4XCcBQ9DuxauM7QND8XhQm+FxAocbHo7ZQPkA7/meW15I3wNF1+xeR6lfAzq0+VCNeXUDZND0qh6E+QKyYIPLlpkBALOK8z2GuUkB58URfnP5RQDGwx2FQ92VAE74NJGcFW8A3ithx0SA0QJPi+652E1FAxXzsanR8MkASAEycVMgoQOsLPxGpZTzAhW4TVaOcQUCG0EZ9sc9LQGH++bZYxz/Avdkq4tVbJMBAgoiu815bQMyEurDJ7TLAKKzHRKxpUkA29NNbTsU0wPo8BeVv31LACbhP/L6dR8DvEXPUtItSQOwVeHfuEk9AFpNwW9wjTUD7zbNrG4nyP0QANjRM0kHAMDjrzBBWXMAyxRpMlb9YwHThHM+sqU/ApoYQO0YfNMCEiM6Q2pZDQN/753O+l1/AAy0/wVK1Z0Dkr28uwQlIwFLJNBvDyDZAANO/r6SlQsA6UExKUlc/QFzupfyxy1DAWyOYbfCpVkBMQDJyQcdQwKzwktwWzWDAC7UrOqPoWMCIXUgtx88wwDZYjqOooEtANMVJ3WdUT0AoA0fx5PNMQN8fd7QSLiDA43Z53K03QkCEh+VeqIhiQHx6Zvw3N1/ARn9F2kjlVUA2iY5n2m9AQKXjYiRCN0RA70PMzHPbGsD43JmYRgIqwFHAd7vGpWJAM07CsTODXMBe0wy5O/JEwCtuHLvPKVDAFkVPwNlMO8BzcgXW34c/QIzZx8oh7UJAY9rU92UGUcAufRFac5NewIH5YRce4U9Ac9SqJ6/KT8DpTdfa3EFSQGemaZqxTznAey65HI5+WcCtcguXwOJZwNaUZYuQN0JAKVuXUVUSU0C68lKchlE+QLDxWmedfETAmIan7uT5a8BYdrT+AboWQFI8KpvU6UlAQexb5et1XcC0gT+/roFWwH6FN3RoUydAk7JjAcCoY0AUKqF3s3FOQFq23DMGo2DACu7IgyNtHsDHrpUYGDQhQNg7S9f6dTzAkmLKR2fJScA="
         },
         "type": "scatter3d"
        }
       ],
       "layout": {
        "template": {
         "data": {
          "histogram2dcontour": [
           {
            "type": "histogram2dcontour",
            "colorbar": {
             "outlinewidth": 0,
             "ticks": ""
            },
            "colorscale": [
             [
              0.0,
              "#0d0887"
             ],
             [
              0.1111111111111111,
              "#46039f"
             ],
             [
              0.2222222222222222,
              "#7201a8"
             ],
             [
              0.3333333333333333,
              "#9c179e"
             ],
             [
              0.4444444444444444,
              "#bd3786"
             ],
             [
              0.5555555555555556,
              "#d8576b"
             ],
             [
              0.6666666666666666,
              "#ed7953"
             ],
             [
              0.7777777777777778,
              "#fb9f3a"
             ],
             [
              0.8888888888888888,
              "#fdca26"
             ],
             [
              1.0,
              "#f0f921"
             ]
            ]
           }
          ],
          "choropleth": [
           {
            "type": "choropleth",
            "colorbar": {
             "outlinewidth": 0,
             "ticks": ""
            }
           }
          ],
          "histogram2d": [
           {
            "type": "histogram2d",
            "colorbar": {
             "outlinewidth": 0,
             "ticks": ""
            },
            "colorscale": [
             [
              0.0,
              "#0d0887"
             ],
             [
              0.1111111111111111,
              "#46039f"
             ],
             [
              0.2222222222222222,
              "#7201a8"
             ],
             [
              0.3333333333333333,
              "#9c179e"
             ],
             [
              0.4444444444444444,
              "#bd3786"
             ],
             [
              0.5555555555555556,
              "#d8576b"
             ],
             [
              0.6666666666666666,
              "#ed7953"
             ],
             [
              0.7777777777777778,
              "#fb9f3a"
             ],
             [
              0.8888888888888888,
              "#fdca26"
             ],
             [
              1.0,
              "#f0f921"
             ]
            ]
           }
          ],
          "heatmap": [
           {
            "type": "heatmap",
            "colorbar": {
             "outlinewidth": 0,
             "ticks": ""
            },
            "colorscale": [
             [
              0.0,
              "#0d0887"
             ],
             [
              0.1111111111111111,
              "#46039f"
             ],
             [
              0.2222222222222222,
              "#7201a8"
             ],
             [
              0.3333333333333333,
              "#9c179e"
             ],
             [
              0.4444444444444444,
              "#bd3786"
             ],
             [
              0.5555555555555556,
              "#d8576b"
             ],
             [
              0.6666666666666666,
              "#ed7953"
             ],
             [
              0.7777777777777778,
              "#fb9f3a"
             ],
             [
              0.8888888888888888,
              "#fdca26"
             ],
             [
              1.0,
              "#f0f921"
             ]
            ]
           }
          ],
          "contourcarpet": [
           {
            "type": "contourcarpet",
            "colorbar": {
             "outlinewidth": 0,
             "ticks": ""
            }
           }
          ],
          "contour": [
           {
            "type": "contour",
            "colorbar": {
             "outlinewidth": 0,
             "ticks": ""
            },
            "colorscale": [
             [
              0.0,
              "#0d0887"
             ],
             [
              0.1111111111111111,
              "#46039f"
             ],
             [
              0.2222222222222222,
              "#7201a8"
             ],
             [
              0.3333333333333333,
              "#9c179e"
             ],
             [
              0.4444444444444444,
              "#bd3786"
             ],
             [
              0.5555555555555556,
              "#d8576b"
             ],
             [
              0.6666666666666666,
              "#ed7953"
             ],
             [
              0.7777777777777778,
              "#fb9f3a"
             ],
             [
              0.8888888888888888,
              "#fdca26"
             ],
             [
              1.0,
              "#f0f921"
             ]
            ]
           }
          ],
          "surface": [
           {
            "type": "surface",
            "colorbar": {
             "outlinewidth": 0,
             "ticks": ""
            },
            "colorscale": [
             [
              0.0,
              "#0d0887"
             ],
             [
              0.1111111111111111,
              "#46039f"
             ],
             [
              0.2222222222222222,
              "#7201a8"
             ],
             [
              0.3333333333333333,
              "#9c179e"
             ],
             [
              0.4444444444444444,
              "#bd3786"
             ],
             [
              0.5555555555555556,
              "#d8576b"
             ],
             [
              0.6666666666666666,
              "#ed7953"
             ],
             [
              0.7777777777777778,
              "#fb9f3a"
             ],
             [
              0.8888888888888888,
              "#fdca26"
             ],
             [
              1.0,
              "#f0f921"
             ]
            ]
           }
          ],
          "mesh3d": [
           {
            "type": "mesh3d",
            "colorbar": {
             "outlinewidth": 0,
             "ticks": ""
            }
           }
          ],
          "scatter": [
           {
            "fillpattern": {
             "fillmode": "overlay",
             "size": 10,
             "solidity": 0.2
            },
            "type": "scatter"
           }
          ],
          "parcoords": [
           {
            "type": "parcoords",
            "line": {
             "colorbar": {
              "outlinewidth": 0,
              "ticks": ""
             }
            }
           }
          ],
          "scatterpolargl": [
           {
            "type": "scatterpolargl",
            "marker": {
             "colorbar": {
              "outlinewidth": 0,
              "ticks": ""
             }
            }
           }
          ],
          "bar": [
           {
            "error_x": {
             "color": "#2a3f5f"
            },
            "error_y": {
             "color": "#2a3f5f"
            },
            "marker": {
             "line": {
              "color": "#E5ECF6",
              "width": 0.5
             },
             "pattern": {
              "fillmode": "overlay",
              "size": 10,
              "solidity": 0.2
             }
            },
            "type": "bar"
           }
          ],
          "scattergeo": [
           {
            "type": "scattergeo",
            "marker": {
             "colorbar": {
              "outlinewidth": 0,
              "ticks": ""
             }
            }
           }
          ],
          "scatterpolar": [
           {
            "type": "scatterpolar",
            "marker": {
             "colorbar": {
              "outlinewidth": 0,
              "ticks": ""
             }
            }
           }
          ],
          "histogram": [
           {
            "marker": {
             "pattern": {
              "fillmode": "overlay",
              "size": 10,
              "solidity": 0.2
             }
            },
            "type": "histogram"
           }
          ],
          "scattergl": [
           {
            "type": "scattergl",
            "marker": {
             "colorbar": {
              "outlinewidth": 0,
              "ticks": ""
             }
            }
           }
          ],
          "scatter3d": [
           {
            "type": "scatter3d",
            "line": {
             "colorbar": {
              "outlinewidth": 0,
              "ticks": ""
             }
            },
            "marker": {
             "colorbar": {
              "outlinewidth": 0,
              "ticks": ""
             }
            }
           }
          ],
          "scattermap": [
           {
            "type": "scattermap",
            "marker": {
             "colorbar": {
              "outlinewidth": 0,
              "ticks": ""
             }
            }
           }
          ],
          "scattermapbox": [
           {
            "type": "scattermapbox",
            "marker": {
             "colorbar": {
              "outlinewidth": 0,
              "ticks": ""
             }
            }
           }
          ],
          "scatterternary": [
           {
            "type": "scatterternary",
            "marker": {
             "colorbar": {
              "outlinewidth": 0,
              "ticks": ""
             }
            }
           }
          ],
          "scattercarpet": [
           {
            "type": "scattercarpet",
            "marker": {
             "colorbar": {
              "outlinewidth": 0,
              "ticks": ""
             }
            }
           }
          ],
          "carpet": [
           {
            "aaxis": {
             "endlinecolor": "#2a3f5f",
             "gridcolor": "white",
             "linecolor": "white",
             "minorgridcolor": "white",
             "startlinecolor": "#2a3f5f"
            },
            "baxis": {
             "endlinecolor": "#2a3f5f",
             "gridcolor": "white",
             "linecolor": "white",
             "minorgridcolor": "white",
             "startlinecolor": "#2a3f5f"
            },
            "type": "carpet"
           }
          ],
          "table": [
           {
            "cells": {
             "fill": {
              "color": "#EBF0F8"
             },
             "line": {
              "color": "white"
             }
            },
            "header": {
             "fill": {
              "color": "#C8D4E3"
             },
             "line": {
              "color": "white"
             }
            },
            "type": "table"
           }
          ],
          "barpolar": [
           {
            "marker": {
             "line": {
              "color": "#E5ECF6",
              "width": 0.5
             },
             "pattern": {
              "fillmode": "overlay",
              "size": 10,
              "solidity": 0.2
             }
            },
            "type": "barpolar"
           }
          ],
          "pie": [
           {
            "automargin": true,
            "type": "pie"
           }
          ]
         },
         "layout": {
          "autotypenumbers": "strict",
          "colorway": [
           "#636efa",
           "#EF553B",
           "#00cc96",
           "#ab63fa",
           "#FFA15A",
           "#19d3f3",
           "#FF6692",
           "#B6E880",
           "#FF97FF",
           "#FECB52"
          ],
          "font": {
           "color": "#2a3f5f"
          },
          "hovermode": "closest",
          "hoverlabel": {
           "align": "left"
          },
          "paper_bgcolor": "white",
          "plot_bgcolor": "#E5ECF6",
          "polar": {
           "bgcolor": "#E5ECF6",
           "angularaxis": {
            "gridcolor": "white",
            "linecolor": "white",
            "ticks": ""
           },
           "radialaxis": {
            "gridcolor": "white",
            "linecolor": "white",
            "ticks": ""
           }
          },
          "ternary": {
           "bgcolor": "#E5ECF6",
           "aaxis": {
            "gridcolor": "white",
            "linecolor": "white",
            "ticks": ""
           },
           "baxis": {
            "gridcolor": "white",
            "linecolor": "white",
            "ticks": ""
           },
           "caxis": {
            "gridcolor": "white",
            "linecolor": "white",
            "ticks": ""
           }
          },
          "coloraxis": {
           "colorbar": {
            "outlinewidth": 0,
            "ticks": ""
           }
          },
          "colorscale": {
           "sequential": [
            [
             0.0,
             "#0d0887"
            ],
            [
             0.1111111111111111,
             "#46039f"
            ],
            [
             0.2222222222222222,
             "#7201a8"
            ],
            [
             0.3333333333333333,
             "#9c179e"
            ],
            [
             0.4444444444444444,
             "#bd3786"
            ],
            [
             0.5555555555555556,
             "#d8576b"
            ],
            [
             0.6666666666666666,
             "#ed7953"
            ],
            [
             0.7777777777777778,
             "#fb9f3a"
            ],
            [
             0.8888888888888888,
             "#fdca26"
            ],
            [
             1.0,
             "#f0f921"
            ]
           ],
           "sequentialminus": [
            [
             0.0,
             "#0d0887"
            ],
            [
             0.1111111111111111,
             "#46039f"
            ],
            [
             0.2222222222222222,
             "#7201a8"
            ],
            [
             0.3333333333333333,
             "#9c179e"
            ],
            [
             0.4444444444444444,
             "#bd3786"
            ],
            [
             0.5555555555555556,
             "#d8576b"
            ],
            [
             0.6666666666666666,
             "#ed7953"
            ],
            [
             0.7777777777777778,
             "#fb9f3a"
            ],
            [
             0.8888888888888888,
             "#fdca26"
            ],
            [
             1.0,
             "#f0f921"
            ]
           ],
           "diverging": [
            [
             0,
             "#8e0152"
            ],
            [
             0.1,
             "#c51b7d"
            ],
            [
             0.2,
             "#de77ae"
            ],
            [
             0.3,
             "#f1b6da"
            ],
            [
             0.4,
             "#fde0ef"
            ],
            [
             0.5,
             "#f7f7f7"
            ],
            [
             0.6,
             "#e6f5d0"
            ],
            [
             0.7,
             "#b8e186"
            ],
            [
             0.8,
             "#7fbc41"
            ],
            [
             0.9,
             "#4d9221"
            ],
            [
             1,
             "#276419"
            ]
           ]
          },
          "xaxis": {
           "gridcolor": "white",
           "linecolor": "white",
           "ticks": "",
           "title": {
            "standoff": 15
           },
           "zerolinecolor": "white",
           "automargin": true,
           "zerolinewidth": 2
          },
          "yaxis": {
           "gridcolor": "white",
           "linecolor": "white",
           "ticks": "",
           "title": {
            "standoff": 15
           },
           "zerolinecolor": "white",
           "automargin": true,
           "zerolinewidth": 2
          },
          "scene": {
           "xaxis": {
            "backgroundcolor": "#E5ECF6",
            "gridcolor": "white",
            "linecolor": "white",
            "showbackground": true,
            "ticks": "",
            "zerolinecolor": "white",
            "gridwidth": 2
           },
           "yaxis": {
            "backgroundcolor": "#E5ECF6",
            "gridcolor": "white",
            "linecolor": "white",
            "showbackground": true,
            "ticks": "",
            "zerolinecolor": "white",
            "gridwidth": 2
           },
           "zaxis": {
            "backgroundcolor": "#E5ECF6",
            "gridcolor": "white",
            "linecolor": "white",
            "showbackground": true,
            "ticks": "",
            "zerolinecolor": "white",
            "gridwidth": 2
           }
          },
          "shapedefaults": {
           "line": {
            "color": "#2a3f5f"
           }
          },
          "annotationdefaults": {
           "arrowcolor": "#2a3f5f",
           "arrowhead": 0,
           "arrowwidth": 1
          },
          "geo": {
           "bgcolor": "white",
           "landcolor": "#E5ECF6",
           "subunitcolor": "white",
           "showland": true,
           "showlakes": true,
           "lakecolor": "white"
          },
          "title": {
           "x": 0.05
          },
          "mapbox": {
           "style": "light"
          }
         }
        },
        "scene": {
         "domain": {
          "x": [
           0.0,
           1.0
          ],
          "y": [
           0.0,
           1.0
          ]
         },
         "xaxis": {
          "title": {
           "text": "x"
          }
         },
         "yaxis": {
          "title": {
           "text": "y"
          }
         },
         "zaxis": {
          "title": {
           "text": "z"
          }
         }
        },
        "legend": {
         "tracegroupgap": 0
        },
        "margin": {
         "t": 60
        }
       },
       "config": {
        "plotlyServerURL": "https://plot.ly"
       }
      }
     },
     "metadata": {},
     "output_type": "display_data"
    }
   ],
   "execution_count": 21
  },
  {
   "metadata": {
    "ExecuteTime": {
     "end_time": "2025-08-26T22:25:28.446595Z",
     "start_time": "2025-08-26T22:25:28.431298Z"
    }
   },
   "cell_type": "code",
   "source": [
    "print(x.shape)\n",
    "y = y.reshape((x.shape[0], 1))\n",
    "print(y.shape)"
   ],
   "id": "6c214df54d9eff2d",
   "outputs": [
    {
     "name": "stdout",
     "output_type": "stream",
     "text": [
      "(100, 2)\n",
      "(100, 1)\n"
     ]
    }
   ],
   "execution_count": 27
  },
  {
   "metadata": {
    "ExecuteTime": {
     "end_time": "2025-08-26T22:25:30.593160Z",
     "start_time": "2025-08-26T22:25:30.579550Z"
    }
   },
   "cell_type": "code",
   "source": [
    "X = np.hstack((x, np.ones((x.shape[0], 1))))\n",
    "X[:5]"
   ],
   "id": "701dcf69dca43802",
   "outputs": [
    {
     "data": {
      "text/plain": [
       "array([[ 1.43378429,  1.64447758,  1.        ],\n",
       "       [-0.11939252,  0.75729811,  1.        ],\n",
       "       [ 1.72139337,  0.01829604,  1.        ],\n",
       "       [-1.68319907, -2.37349046,  1.        ],\n",
       "       [ 0.14451765,  1.13407448,  1.        ]])"
      ]
     },
     "execution_count": 28,
     "metadata": {},
     "output_type": "execute_result"
    }
   ],
   "execution_count": 28
  },
  {
   "metadata": {
    "ExecuteTime": {
     "end_time": "2025-08-26T22:25:33.215090Z",
     "start_time": "2025-08-26T22:25:33.200408Z"
    }
   },
   "cell_type": "code",
   "source": [
    "theta = np.random.randn(3, 1)\n",
    "print(theta)"
   ],
   "id": "fd5d2176e2e5c430",
   "outputs": [
    {
     "name": "stdout",
     "output_type": "stream",
     "text": [
      "[[-0.67674458]\n",
      " [ 0.44531896]\n",
      " [ 1.38995332]]\n"
     ]
    }
   ],
   "execution_count": 29
  },
  {
   "metadata": {},
   "cell_type": "markdown",
   "source": "# Modèle",
   "id": "54139fe73b5c401b"
  },
  {
   "metadata": {
    "ExecuteTime": {
     "end_time": "2025-08-26T22:25:36.218449Z",
     "start_time": "2025-08-26T22:25:36.211472Z"
    }
   },
   "cell_type": "code",
   "source": [
    "def model(X_, theta_):\n",
    "    return X_.dot(theta_)"
   ],
   "id": "41319ec02b1e931e",
   "outputs": [],
   "execution_count": 30
  },
  {
   "metadata": {
    "ExecuteTime": {
     "end_time": "2025-08-26T22:25:36.728372Z",
     "start_time": "2025-08-26T22:25:36.716373Z"
    }
   },
   "cell_type": "code",
   "source": "model(X, theta)[:5]",
   "id": "b27510386c932784",
   "outputs": [
    {
     "data": {
      "text/plain": [
       "array([[1.1519646 ],\n",
       "       [1.80799076],\n",
       "       [0.23315725],\n",
       "       [1.47208887],\n",
       "       [1.79717664]])"
      ]
     },
     "execution_count": 31,
     "metadata": {},
     "output_type": "execute_result"
    }
   ],
   "execution_count": 31
  },
  {
   "metadata": {
    "ExecuteTime": {
     "end_time": "2025-08-26T22:29:35.431467Z",
     "start_time": "2025-08-26T22:29:35.213508Z"
    }
   },
   "cell_type": "code",
   "source": [
    "plt.scatter(x2, y)\n",
    "sns.lineplot(x=x2, y=model(X, theta)[:, 0], color=\"red\")\n",
    "plt.tight_layout()\n",
    "plt.show()"
   ],
   "id": "6b7ca26138ffee2e",
   "outputs": [
    {
     "data": {
      "text/plain": [
       "<Figure size 640x480 with 1 Axes>"
      ],
      "image/png": "[encoded data removed]"
     },
     "metadata": {},
     "output_type": "display_data"
    }
   ],
   "execution_count": 45
  },
  {
   "metadata": {},
   "cell_type": "markdown",
   "source": "# Fonction coût",
   "id": "cd00c102d0112a41"
  },
  {
   "metadata": {
    "ExecuteTime": {
     "end_time": "2025-08-26T22:29:38.579304Z",
     "start_time": "2025-08-26T22:29:38.569589Z"
    }
   },
   "cell_type": "code",
   "source": [
    "def cost_function(X_, y_, theta_):\n",
    "    m = len(y_)\n",
    "    return 1/2*m + np.sum((model(X_, theta_) - y_)**2)"
   ],
   "id": "ae8263b5e41ea1d7",
   "outputs": [],
   "execution_count": 46
  },
  {
   "metadata": {
    "ExecuteTime": {
     "end_time": "2025-08-26T22:29:39.298158Z",
     "start_time": "2025-08-26T22:29:39.290437Z"
    }
   },
   "cell_type": "code",
   "source": "cost_function(X, y, theta)",
   "id": "e055c6a567ee2f31",
   "outputs": [
    {
     "data": {
      "text/plain": [
       "np.float64(627359.7452902962)"
      ]
     },
     "execution_count": 47,
     "metadata": {},
     "output_type": "execute_result"
    }
   ],
   "execution_count": 47
  },
  {
   "metadata": {},
   "cell_type": "markdown",
   "source": "# Gradient",
   "id": "2bfcb66394c622ad"
  },
  {
   "metadata": {
    "ExecuteTime": {
     "end_time": "2025-08-26T22:29:42.435125Z",
     "start_time": "2025-08-26T22:29:42.427057Z"
    }
   },
   "cell_type": "code",
   "source": [
    "def grad(X_, y_, theta_):\n",
    "    m = len(y_)\n",
    "    return 1/m * X_.transpose().dot(model(X_, theta_) - y_)"
   ],
   "id": "a32b111f1eed2f5b",
   "outputs": [],
   "execution_count": 48
  },
  {
   "metadata": {},
   "cell_type": "markdown",
   "source": "# Descente de gradient",
   "id": "71b83eec557d35ea"
  },
  {
   "metadata": {
    "ExecuteTime": {
     "end_time": "2025-08-26T22:29:44.663585Z",
     "start_time": "2025-08-26T22:29:44.656726Z"
    }
   },
   "cell_type": "code",
   "source": [
    "def descent_grad(X_, y_, theta_, leaning_rate, n_iteration):\n",
    "    cost_history_ = np.zeros(n_iteration)\n",
    "    for i in range(0, n_iteration):\n",
    "        theta_ = theta_ - leaning_rate * grad(X_, y_, theta_)\n",
    "        cost_history_[i] = cost_function(X_, y_, theta_)\n",
    "    return theta_, cost_history_"
   ],
   "id": "9be0e161fcf063e6",
   "outputs": [],
   "execution_count": 49
  },
  {
   "metadata": {},
   "cell_type": "markdown",
   "source": "# Entraînement du modèle",
   "id": "6d29840aa3b8fc4a"
  },
  {
   "metadata": {
    "ExecuteTime": {
     "end_time": "2025-08-26T22:29:46.806305Z",
     "start_time": "2025-08-26T22:29:46.781859Z"
    }
   },
   "cell_type": "code",
   "source": [
    "theta_final, cost_history = descent_grad(X, y, theta, leaning_rate=0.01, n_iteration=500)\n",
    "theta_final"
   ],
   "id": "1e8f9f2879dd8382",
   "outputs": [
    {
     "data": {
      "text/plain": [
       "array([[15.18937038],\n",
       "       [65.24286687],\n",
       "       [ 0.59255936]])"
      ]
     },
     "execution_count": 50,
     "metadata": {},
     "output_type": "execute_result"
    }
   ],
   "execution_count": 50
  },
  {
   "metadata": {
    "ExecuteTime": {
     "end_time": "2025-08-26T22:33:18.852045Z",
     "start_time": "2025-08-26T22:33:18.846487Z"
    }
   },
   "cell_type": "code",
   "source": "predictions = model(X, theta_final)",
   "id": "9713d4c16c31d5f7",
   "outputs": [],
   "execution_count": 58
  },
  {
   "metadata": {
    "ExecuteTime": {
     "end_time": "2025-08-26T22:33:19.766118Z",
     "start_time": "2025-08-26T22:33:19.375305Z"
    }
   },
   "cell_type": "code",
   "source": [
    "plt.scatter(x2, y)\n",
    "sns.lineplot(x=x2, y=predictions[:, 0], color=\"red\")\n",
    "plt.tight_layout()\n",
    "plt.show()"
   ],
   "id": "c72fb06349968499",
   "outputs": [
    {
     "data": {
      "text/plain": [
       "<Figure size 640x480 with 1 Axes>"
      ],
      "image/png": "[encoded data removed]"
     },
     "metadata": {},
     "output_type": "display_data"
    }
   ],
   "execution_count": 59
  },
  {
   "metadata": {
    "ExecuteTime": {
     "end_time": "2025-08-26T22:33:20.856223Z",
     "start_time": "2025-08-26T22:33:20.313902Z"
    }
   },
   "cell_type": "code",
   "source": "plt.plot(range(500), cost_history)",
   "id": "62ca1e151f7eba6e",
   "outputs": [
    {
     "data": {
      "text/plain": [
       "[<matplotlib.lines.Line2D at 0x7fd0873efc50>]"
      ]
     },
     "execution_count": 60,
     "metadata": {},
     "output_type": "execute_result"
    },
    {
     "data": {
      "text/plain": [
       "<Figure size 640x480 with 1 Axes>"
      ],
      "image/png": "[encoded data removed]"
     },
     "metadata": {},
     "output_type": "display_data"
    }
   ],
   "execution_count": 60
  },
  {
   "metadata": {},
   "cell_type": "markdown",
   "source": "# Coéfficient de détermination R²",
   "id": "6772173acdf2aa2"
  },
  {
   "metadata": {
    "ExecuteTime": {
     "end_time": "2025-08-26T22:33:21.397370Z",
     "start_time": "2025-08-26T22:33:21.388405Z"
    }
   },
   "cell_type": "code",
   "source": [
    "def coef_determination(y_, pred):\n",
    "    u = np.sum((y_ - pred)**2)\n",
    "    v = np.sum((y_ - y_.mean())**2)\n",
    "    return 1 - u/v"
   ],
   "id": "4ca605057c411abf",
   "outputs": [],
   "execution_count": 61
  },
  {
   "metadata": {
    "ExecuteTime": {
     "end_time": "2025-08-26T22:33:22.256658Z",
     "start_time": "2025-08-26T22:33:22.229951Z"
    }
   },
   "cell_type": "code",
   "source": "coef_determination(y, predictions)",
   "id": "83347d9e40e828f7",
   "outputs": [
    {
     "data": {
      "text/plain": [
       "np.float64(0.9857706477600967)"
      ]
     },
     "execution_count": 62,
     "metadata": {},
     "output_type": "execute_result"
    }
   ],
   "execution_count": 62
  }
 ],
 "metadata": {
  "kernelspec": {
   "display_name": "Python 3",
   "language": "python",
   "name": "python3"
  },
  "language_info": {
   "codemirror_mode": {
    "name": "ipython",
    "version": 2
   },
   "file_extension": ".py",
   "mimetype": "text/x-python",
   "name": "python",
   "nbconvert_exporter": "python",
   "pygments_lexer": "ipython2",
   "version": "2.7.6"
  }
 },
 "nbformat": 4,
 "nbformat_minor": 5
}

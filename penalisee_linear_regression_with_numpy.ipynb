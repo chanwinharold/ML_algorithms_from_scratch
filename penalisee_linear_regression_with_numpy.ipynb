{
 "cells": [
  {
   "metadata": {
    "ExecuteTime": {
     "end_time": "2025-08-27T13:37:12.311481Z",
     "start_time": "2025-08-27T13:37:12.308443Z"
    }
   },
   "cell_type": "code",
   "source": [
    "import numpy as np\n",
    "import matplotlib.pyplot as plt"
   ],
   "id": "5036cba23aa72e91",
   "outputs": [],
   "execution_count": 134
  },
  {
   "metadata": {
    "ExecuteTime": {
     "end_time": "2025-08-27T13:37:12.366512Z",
     "start_time": "2025-08-27T13:37:12.360913Z"
    }
   },
   "cell_type": "code",
   "source": [
    "data = np.genfromtxt(\"./datasets/multivariate_regression.txt\", delimiter=\",\")\n",
    "data[:5, ]"
   ],
   "id": "aae47492c592f5e9",
   "outputs": [
    {
     "data": {
      "text/plain": [
       "array([[2.104e+03, 3.000e+00, 3.999e+05],\n",
       "       [1.600e+03, 3.000e+00, 3.299e+05],\n",
       "       [2.400e+03, 3.000e+00, 3.690e+05],\n",
       "       [1.416e+03, 2.000e+00, 2.320e+05],\n",
       "       [3.000e+03, 4.000e+00, 5.399e+05]])"
      ]
     },
     "execution_count": 135,
     "metadata": {},
     "output_type": "execute_result"
    }
   ],
   "execution_count": 135
  },
  {
   "metadata": {
    "ExecuteTime": {
     "end_time": "2025-08-27T13:37:12.445658Z",
     "start_time": "2025-08-27T13:37:12.443820Z"
    }
   },
   "cell_type": "code",
   "source": [
    "x = data[:, :2]\n",
    "y = data[:, 2]"
   ],
   "id": "890dec956b89d4ef",
   "outputs": [],
   "execution_count": 136
  },
  {
   "metadata": {},
   "cell_type": "markdown",
   "source": "# Normalisation des données",
   "id": "1066605e1dc08f2f"
  },
  {
   "metadata": {
    "ExecuteTime": {
     "end_time": "2025-08-27T13:37:12.495102Z",
     "start_time": "2025-08-27T13:37:12.490916Z"
    }
   },
   "cell_type": "code",
   "source": [
    "def normalize(array):\n",
    "    return (array - np.mean(array)) / np.std(array)"
   ],
   "id": "645bd3957320ad12",
   "outputs": [],
   "execution_count": 137
  },
  {
   "metadata": {
    "ExecuteTime": {
     "end_time": "2025-08-27T13:37:12.543212Z",
     "start_time": "2025-08-27T13:37:12.540411Z"
    }
   },
   "cell_type": "code",
   "source": [
    "x = normalize(x)\n",
    "x[:5, :]"
   ],
   "id": "bee6cb284df8401b",
   "outputs": [
    {
     "data": {
      "text/plain": [
       "array([[ 0.96415008, -0.87391021],\n",
       "       [ 0.52322557, -0.87391021],\n",
       "       [ 1.22310574, -0.87391021],\n",
       "       [ 0.36225314, -0.87478506],\n",
       "       [ 1.74801587, -0.87303536]])"
      ]
     },
     "execution_count": 138,
     "metadata": {},
     "output_type": "execute_result"
    }
   ],
   "execution_count": 138
  },
  {
   "metadata": {
    "ExecuteTime": {
     "end_time": "2025-08-27T13:37:12.622569Z",
     "start_time": "2025-08-27T13:37:12.620640Z"
    }
   },
   "cell_type": "code",
   "source": [
    "x1 = x[:, 0]\n",
    "x2 = x[:, 1]"
   ],
   "id": "adae260d85af72c0",
   "outputs": [],
   "execution_count": 139
  },
  {
   "metadata": {
    "ExecuteTime": {
     "end_time": "2025-08-27T13:37:12.737399Z",
     "start_time": "2025-08-27T13:37:12.709212Z"
    }
   },
   "cell_type": "code",
   "source": [
    "# Visualisation\n",
    "from plotly import express as px\n",
    "fig = px.scatter_3d(x=x1, y=x2, z=y)\n",
    "fig.show()"
   ],
   "id": "c26398cac8a14a48",
   "outputs": [
    {
     "data": {
      "application/vnd.plotly.v1+json": {
       "data": [
        {
         "hovertemplate": "x=%{x}<br>y=%{y}<br>z=%{z}<extra></extra>",
         "legendgroup": "",
         "marker": {
          "color": "#636efa",
          "symbol": "circle"
         },
         "mode": "markers",
         "name": "",
         "scene": "scene",
         "showlegend": false,
         "x": {
          "dtype": "f8",
          "bdata": "uTvGRFHa7j/mCCePQ77gP/I2qFPXkfM/8fxjxicv1z/SvLd83/f7P4HBx7J4hes/iUceh4PK3T9RSUEK08zXP0AaBNElK9U/b72zBCyN2z/T02t590LqP2a7Oxv58Os/gz3px6Dc6D+p8rcgD1QIQIuVs8eUy80/oqAlooAr8j8aS2SNIs/RP/seCfc7Nso/vWED1sR+9j8uYfw99Wb8P5VvZW8da+U/qZOmZEvO6D+bXKxV7trgPzMgSb2i4Oo/gC4UIYs2BEA1TmkABfe1P7/aUw8qidk/TR1cCllV9T9SCqPwKcXwP7UG1owa4/Y/RlLFZB9v5z+lsgXwhZlbv3IAcdykD+0/RfZiBMzi/T9WCCD3c6bmP9jr2+ooXNg/GRqZSjyMyj+phWuy/KLvP8JiiAHYfAZAubypwf488D8uRHz374jiP+xXnB9VTfE/SmrHQ0To9T+aWUkMOC7GP7xv9NDtycC/UKL2aUrM5z+4VNlfOITGPw=="
         },
         "y": {
          "dtype": "f8",
          "bdata": "UcJHjBL3679RwkeMEvfrv1HCR4wS9+u/PhfpPT3+679kbaba5+/rv2Rtptrn7+u/UcJHjBL3679RwkeMEvfrv1HCR4wS9+u/UcJHjBL3679kbaba5+/rv1HCR4wS9+u/UcJHjBL36793GAUpvejrv1HCR4wS9+u/ZG2m2ufv678+F+k9Pf7rv1HCR4wS9+u/ZG2m2ufv679kbaba5+/rv1HCR4wS9+u/PhfpPT3+679RwkeMEvfrv2Rtptrn7+u/UcJHjBL3679RwkeMEvfrv1HCR4wS9+u/UcJHjBL3679RwkeMEvfrv1HCR4wS9+u/PhfpPT3+678rbIrvZwXsv2Rtptrn7+u/UcJHjBL3679kbaba5+/rv1HCR4wS9+u/UcJHjBL3679kbaba5+/rv2Rtptrn7+u/ZG2m2ufv678+F+k9Pf7rv1HCR4wS9+u/ZG2m2ufv679RwkeMEvfrvz4X6T09/uu/ZG2m2ufv679RwkeMEvfrvw=="
         },
         "z": {
          "dtype": "f8",
          "bdata": "AAAAAHBoGEEAAAAAsCIUQQAAAACghRZBAAAAAABSDEEAAAAA+HkgQQAAAADwTRJBAAAAAFA4E0EAAAAAuEoIQQAAAAAA4QlBAAAAACCaDUEAAAAA+EsNQQAAAADgLRVBAAAAADwkFEEAAAAA+FslQQAAAADguQ9BAAAAALB1G0EAAAAA8E0SQQAAAADgZghBAAAAAHiEHkEAAAAAsEciQQAAAAAg3w5BAAAAAMAgD0EAAAAAoKYNQQAAAADguQ9BAAAAAJiDIUEAAAAAYIEOQQAAAADQWRxBAAAAACCgHEEAAAAA4P0cQQAAAADwTRJBAAAAADBbFUEAAAAAYL0EQQAAAABQOBNBAAAAAHiyIUEAAAAAMHMRQQAAAABggQ5BAAAAAGAQDEEAAAAAoA4VQQAAAAAQwSBBAAAAAGCEEUEAAAAA0H0WQQAAAACwIhRBAAAAAEAqE0EAAAAA4D8SQQAAAADg9QVBAAAAAPBNEkEAAAAAYDwNQQ=="
         },
         "type": "scatter3d"
        }
       ],
       "layout": {
        "template": {
         "data": {
          "histogram2dcontour": [
           {
            "type": "histogram2dcontour",
            "colorbar": {
             "outlinewidth": 0,
             "ticks": ""
            },
            "colorscale": [
             [
              0.0,
              "#0d0887"
             ],
             [
              0.1111111111111111,
              "#46039f"
             ],
             [
              0.2222222222222222,
              "#7201a8"
             ],
             [
              0.3333333333333333,
              "#9c179e"
             ],
             [
              0.4444444444444444,
              "#bd3786"
             ],
             [
              0.5555555555555556,
              "#d8576b"
             ],
             [
              0.6666666666666666,
              "#ed7953"
             ],
             [
              0.7777777777777778,
              "#fb9f3a"
             ],
             [
              0.8888888888888888,
              "#fdca26"
             ],
             [
              1.0,
              "#f0f921"
             ]
            ]
           }
          ],
          "choropleth": [
           {
            "type": "choropleth",
            "colorbar": {
             "outlinewidth": 0,
             "ticks": ""
            }
           }
          ],
          "histogram2d": [
           {
            "type": "histogram2d",
            "colorbar": {
             "outlinewidth": 0,
             "ticks": ""
            },
            "colorscale": [
             [
              0.0,
              "#0d0887"
             ],
             [
              0.1111111111111111,
              "#46039f"
             ],
             [
              0.2222222222222222,
              "#7201a8"
             ],
             [
              0.3333333333333333,
              "#9c179e"
             ],
             [
              0.4444444444444444,
              "#bd3786"
             ],
             [
              0.5555555555555556,
              "#d8576b"
             ],
             [
              0.6666666666666666,
              "#ed7953"
             ],
             [
              0.7777777777777778,
              "#fb9f3a"
             ],
             [
              0.8888888888888888,
              "#fdca26"
             ],
             [
              1.0,
              "#f0f921"
             ]
            ]
           }
          ],
          "heatmap": [
           {
            "type": "heatmap",
            "colorbar": {
             "outlinewidth": 0,
             "ticks": ""
            },
            "colorscale": [
             [
              0.0,
              "#0d0887"
             ],
             [
              0.1111111111111111,
              "#46039f"
             ],
             [
              0.2222222222222222,
              "#7201a8"
             ],
             [
              0.3333333333333333,
              "#9c179e"
             ],
             [
              0.4444444444444444,
              "#bd3786"
             ],
             [
              0.5555555555555556,
              "#d8576b"
             ],
             [
              0.6666666666666666,
              "#ed7953"
             ],
             [
              0.7777777777777778,
              "#fb9f3a"
             ],
             [
              0.8888888888888888,
              "#fdca26"
             ],
             [
              1.0,
              "#f0f921"
             ]
            ]
           }
          ],
          "contourcarpet": [
           {
            "type": "contourcarpet",
            "colorbar": {
             "outlinewidth": 0,
             "ticks": ""
            }
           }
          ],
          "contour": [
           {
            "type": "contour",
            "colorbar": {
             "outlinewidth": 0,
             "ticks": ""
            },
            "colorscale": [
             [
              0.0,
              "#0d0887"
             ],
             [
              0.1111111111111111,
              "#46039f"
             ],
             [
              0.2222222222222222,
              "#7201a8"
             ],
             [
              0.3333333333333333,
              "#9c179e"
             ],
             [
              0.4444444444444444,
              "#bd3786"
             ],
             [
              0.5555555555555556,
              "#d8576b"
             ],
             [
              0.6666666666666666,
              "#ed7953"
             ],
             [
              0.7777777777777778,
              "#fb9f3a"
             ],
             [
              0.8888888888888888,
              "#fdca26"
             ],
             [
              1.0,
              "#f0f921"
             ]
            ]
           }
          ],
          "surface": [
           {
            "type": "surface",
            "colorbar": {
             "outlinewidth": 0,
             "ticks": ""
            },
            "colorscale": [
             [
              0.0,
              "#0d0887"
             ],
             [
              0.1111111111111111,
              "#46039f"
             ],
             [
              0.2222222222222222,
              "#7201a8"
             ],
             [
              0.3333333333333333,
              "#9c179e"
             ],
             [
              0.4444444444444444,
              "#bd3786"
             ],
             [
              0.5555555555555556,
              "#d8576b"
             ],
             [
              0.6666666666666666,
              "#ed7953"
             ],
             [
              0.7777777777777778,
              "#fb9f3a"
             ],
             [
              0.8888888888888888,
              "#fdca26"
             ],
             [
              1.0,
              "#f0f921"
             ]
            ]
           }
          ],
          "mesh3d": [
           {
            "type": "mesh3d",
            "colorbar": {
             "outlinewidth": 0,
             "ticks": ""
            }
           }
          ],
          "scatter": [
           {
            "fillpattern": {
             "fillmode": "overlay",
             "size": 10,
             "solidity": 0.2
            },
            "type": "scatter"
           }
          ],
          "parcoords": [
           {
            "type": "parcoords",
            "line": {
             "colorbar": {
              "outlinewidth": 0,
              "ticks": ""
             }
            }
           }
          ],
          "scatterpolargl": [
           {
            "type": "scatterpolargl",
            "marker": {
             "colorbar": {
              "outlinewidth": 0,
              "ticks": ""
             }
            }
           }
          ],
          "bar": [
           {
            "error_x": {
             "color": "#2a3f5f"
            },
            "error_y": {
             "color": "#2a3f5f"
            },
            "marker": {
             "line": {
              "color": "#E5ECF6",
              "width": 0.5
             },
             "pattern": {
              "fillmode": "overlay",
              "size": 10,
              "solidity": 0.2
             }
            },
            "type": "bar"
           }
          ],
          "scattergeo": [
           {
            "type": "scattergeo",
            "marker": {
             "colorbar": {
              "outlinewidth": 0,
              "ticks": ""
             }
            }
           }
          ],
          "scatterpolar": [
           {
            "type": "scatterpolar",
            "marker": {
             "colorbar": {
              "outlinewidth": 0,
              "ticks": ""
             }
            }
           }
          ],
          "histogram": [
           {
            "marker": {
             "pattern": {
              "fillmode": "overlay",
              "size": 10,
              "solidity": 0.2
             }
            },
            "type": "histogram"
           }
          ],
          "scattergl": [
           {
            "type": "scattergl",
            "marker": {
             "colorbar": {
              "outlinewidth": 0,
              "ticks": ""
             }
            }
           }
          ],
          "scatter3d": [
           {
            "type": "scatter3d",
            "line": {
             "colorbar": {
              "outlinewidth": 0,
              "ticks": ""
             }
            },
            "marker": {
             "colorbar": {
              "outlinewidth": 0,
              "ticks": ""
             }
            }
           }
          ],
          "scattermap": [
           {
            "type": "scattermap",
            "marker": {
             "colorbar": {
              "outlinewidth": 0,
              "ticks": ""
             }
            }
           }
          ],
          "scattermapbox": [
           {
            "type": "scattermapbox",
            "marker": {
             "colorbar": {
              "outlinewidth": 0,
              "ticks": ""
             }
            }
           }
          ],
          "scatterternary": [
           {
            "type": "scatterternary",
            "marker": {
             "colorbar": {
              "outlinewidth": 0,
              "ticks": ""
             }
            }
           }
          ],
          "scattercarpet": [
           {
            "type": "scattercarpet",
            "marker": {
             "colorbar": {
              "outlinewidth": 0,
              "ticks": ""
             }
            }
           }
          ],
          "carpet": [
           {
            "aaxis": {
             "endlinecolor": "#2a3f5f",
             "gridcolor": "white",
             "linecolor": "white",
             "minorgridcolor": "white",
             "startlinecolor": "#2a3f5f"
            },
            "baxis": {
             "endlinecolor": "#2a3f5f",
             "gridcolor": "white",
             "linecolor": "white",
             "minorgridcolor": "white",
             "startlinecolor": "#2a3f5f"
            },
            "type": "carpet"
           }
          ],
          "table": [
           {
            "cells": {
             "fill": {
              "color": "#EBF0F8"
             },
             "line": {
              "color": "white"
             }
            },
            "header": {
             "fill": {
              "color": "#C8D4E3"
             },
             "line": {
              "color": "white"
             }
            },
            "type": "table"
           }
          ],
          "barpolar": [
           {
            "marker": {
             "line": {
              "color": "#E5ECF6",
              "width": 0.5
             },
             "pattern": {
              "fillmode": "overlay",
              "size": 10,
              "solidity": 0.2
             }
            },
            "type": "barpolar"
           }
          ],
          "pie": [
           {
            "automargin": true,
            "type": "pie"
           }
          ]
         },
         "layout": {
          "autotypenumbers": "strict",
          "colorway": [
           "#636efa",
           "#EF553B",
           "#00cc96",
           "#ab63fa",
           "#FFA15A",
           "#19d3f3",
           "#FF6692",
           "#B6E880",
           "#FF97FF",
           "#FECB52"
          ],
          "font": {
           "color": "#2a3f5f"
          },
          "hovermode": "closest",
          "hoverlabel": {
           "align": "left"
          },
          "paper_bgcolor": "white",
          "plot_bgcolor": "#E5ECF6",
          "polar": {
           "bgcolor": "#E5ECF6",
           "angularaxis": {
            "gridcolor": "white",
            "linecolor": "white",
            "ticks": ""
           },
           "radialaxis": {
            "gridcolor": "white",
            "linecolor": "white",
            "ticks": ""
           }
          },
          "ternary": {
           "bgcolor": "#E5ECF6",
           "aaxis": {
            "gridcolor": "white",
            "linecolor": "white",
            "ticks": ""
           },
           "baxis": {
            "gridcolor": "white",
            "linecolor": "white",
            "ticks": ""
           },
           "caxis": {
            "gridcolor": "white",
            "linecolor": "white",
            "ticks": ""
           }
          },
          "coloraxis": {
           "colorbar": {
            "outlinewidth": 0,
            "ticks": ""
           }
          },
          "colorscale": {
           "sequential": [
            [
             0.0,
             "#0d0887"
            ],
            [
             0.1111111111111111,
             "#46039f"
            ],
            [
             0.2222222222222222,
             "#7201a8"
            ],
            [
             0.3333333333333333,
             "#9c179e"
            ],
            [
             0.4444444444444444,
             "#bd3786"
            ],
            [
             0.5555555555555556,
             "#d8576b"
            ],
            [
             0.6666666666666666,
             "#ed7953"
            ],
            [
             0.7777777777777778,
             "#fb9f3a"
            ],
            [
             0.8888888888888888,
             "#fdca26"
            ],
            [
             1.0,
             "#f0f921"
            ]
           ],
           "sequentialminus": [
            [
             0.0,
             "#0d0887"
            ],
            [
             0.1111111111111111,
             "#46039f"
            ],
            [
             0.2222222222222222,
             "#7201a8"
            ],
            [
             0.3333333333333333,
             "#9c179e"
            ],
            [
             0.4444444444444444,
             "#bd3786"
            ],
            [
             0.5555555555555556,
             "#d8576b"
            ],
            [
             0.6666666666666666,
             "#ed7953"
            ],
            [
             0.7777777777777778,
             "#fb9f3a"
            ],
            [
             0.8888888888888888,
             "#fdca26"
            ],
            [
             1.0,
             "#f0f921"
            ]
           ],
           "diverging": [
            [
             0,
             "#8e0152"
            ],
            [
             0.1,
             "#c51b7d"
            ],
            [
             0.2,
             "#de77ae"
            ],
            [
             0.3,
             "#f1b6da"
            ],
            [
             0.4,
             "#fde0ef"
            ],
            [
             0.5,
             "#f7f7f7"
            ],
            [
             0.6,
             "#e6f5d0"
            ],
            [
             0.7,
             "#b8e186"
            ],
            [
             0.8,
             "#7fbc41"
            ],
            [
             0.9,
             "#4d9221"
            ],
            [
             1,
             "#276419"
            ]
           ]
          },
          "xaxis": {
           "gridcolor": "white",
           "linecolor": "white",
           "ticks": "",
           "title": {
            "standoff": 15
           },
           "zerolinecolor": "white",
           "automargin": true,
           "zerolinewidth": 2
          },
          "yaxis": {
           "gridcolor": "white",
           "linecolor": "white",
           "ticks": "",
           "title": {
            "standoff": 15
           },
           "zerolinecolor": "white",
           "automargin": true,
           "zerolinewidth": 2
          },
          "scene": {
           "xaxis": {
            "backgroundcolor": "#E5ECF6",
            "gridcolor": "white",
            "linecolor": "white",
            "showbackground": true,
            "ticks": "",
            "zerolinecolor": "white",
            "gridwidth": 2
           },
           "yaxis": {
            "backgroundcolor": "#E5ECF6",
            "gridcolor": "white",
            "linecolor": "white",
            "showbackground": true,
            "ticks": "",
            "zerolinecolor": "white",
            "gridwidth": 2
           },
           "zaxis": {
            "backgroundcolor": "#E5ECF6",
            "gridcolor": "white",
            "linecolor": "white",
            "showbackground": true,
            "ticks": "",
            "zerolinecolor": "white",
            "gridwidth": 2
           }
          },
          "shapedefaults": {
           "line": {
            "color": "#2a3f5f"
           }
          },
          "annotationdefaults": {
           "arrowcolor": "#2a3f5f",
           "arrowhead": 0,
           "arrowwidth": 1
          },
          "geo": {
           "bgcolor": "white",
           "landcolor": "#E5ECF6",
           "subunitcolor": "white",
           "showland": true,
           "showlakes": true,
           "lakecolor": "white"
          },
          "title": {
           "x": 0.05
          },
          "mapbox": {
           "style": "light"
          }
         }
        },
        "scene": {
         "domain": {
          "x": [
           0.0,
           1.0
          ],
          "y": [
           0.0,
           1.0
          ]
         },
         "xaxis": {
          "title": {
           "text": "x"
          }
         },
         "yaxis": {
          "title": {
           "text": "y"
          }
         },
         "zaxis": {
          "title": {
           "text": "z"
          }
         }
        },
        "legend": {
         "tracegroupgap": 0
        },
        "margin": {
         "t": 60
        }
       },
       "config": {
        "plotlyServerURL": "https://plot.ly"
       }
      }
     },
     "metadata": {},
     "output_type": "display_data"
    }
   ],
   "execution_count": 140
  },
  {
   "metadata": {
    "ExecuteTime": {
     "end_time": "2025-08-27T13:37:12.793793Z",
     "start_time": "2025-08-27T13:37:12.788990Z"
    }
   },
   "cell_type": "code",
   "source": [
    "x1 = x1.reshape((x.shape[0], 1))\n",
    "x2 = x2.reshape((x.shape[0], 1))\n",
    "y = y.reshape((x.shape[0], 1))\n",
    "print(x1.shape)\n",
    "print(x2.shape)\n",
    "print(y.shape)"
   ],
   "id": "d35ef6460419a458",
   "outputs": [
    {
     "name": "stdout",
     "output_type": "stream",
     "text": [
      "(47, 1)\n",
      "(47, 1)\n",
      "(47, 1)\n"
     ]
    }
   ],
   "execution_count": 141
  },
  {
   "metadata": {},
   "cell_type": "markdown",
   "source": "# Régression pénalisée",
   "id": "3d611e9a2b0f79d5"
  },
  {
   "metadata": {
    "ExecuteTime": {
     "end_time": "2025-08-27T13:37:12.862896Z",
     "start_time": "2025-08-27T13:37:12.857208Z"
    }
   },
   "cell_type": "code",
   "source": [
    "X = np.hstack((x1, x2, np.ones((x.shape[0], 1)) ))\n",
    "X[:5, ]"
   ],
   "id": "94cde40dffa15c72",
   "outputs": [
    {
     "data": {
      "text/plain": [
       "array([[ 0.96415008, -0.87391021,  1.        ],\n",
       "       [ 0.52322557, -0.87391021,  1.        ],\n",
       "       [ 1.22310574, -0.87391021,  1.        ],\n",
       "       [ 0.36225314, -0.87478506,  1.        ],\n",
       "       [ 1.74801587, -0.87303536,  1.        ]])"
      ]
     },
     "execution_count": 142,
     "metadata": {},
     "output_type": "execute_result"
    }
   ],
   "execution_count": 142
  },
  {
   "metadata": {
    "ExecuteTime": {
     "end_time": "2025-08-27T13:37:12.948727Z",
     "start_time": "2025-08-27T13:37:12.945563Z"
    }
   },
   "cell_type": "code",
   "source": [
    "theta = np.random.randn(3, 1)\n",
    "print(theta)"
   ],
   "id": "6e88055961abf613",
   "outputs": [
    {
     "name": "stdout",
     "output_type": "stream",
     "text": [
      "[[ 0.64347524]\n",
      " [ 0.79863352]\n",
      " [-0.44546951]]\n"
     ]
    }
   ],
   "execution_count": 143
  },
  {
   "metadata": {},
   "cell_type": "markdown",
   "source": "# Modèle",
   "id": "38f00a9dd62f588b"
  },
  {
   "metadata": {
    "ExecuteTime": {
     "end_time": "2025-08-27T13:37:12.996284Z",
     "start_time": "2025-08-27T13:37:12.992201Z"
    }
   },
   "cell_type": "code",
   "source": [
    "def model(X_, theta_):\n",
    "    return X_.dot(theta_)"
   ],
   "id": "389a8b24122d2afa",
   "outputs": [],
   "execution_count": 144
  },
  {
   "metadata": {
    "ExecuteTime": {
     "end_time": "2025-08-27T13:37:13.070928Z",
     "start_time": "2025-08-27T13:37:13.064739Z"
    }
   },
   "cell_type": "code",
   "source": "model(X, theta)[:5, ]",
   "id": "db66844031aabef5",
   "outputs": [
    {
     "data": {
      "text/plain": [
       "array([[-0.52299679],\n",
       "       [-0.80672079],\n",
       "       [-0.35636523],\n",
       "       [-0.91100126],\n",
       "       [-0.01789988]])"
      ]
     },
     "execution_count": 145,
     "metadata": {},
     "output_type": "execute_result"
    }
   ],
   "execution_count": 145
  },
  {
   "metadata": {},
   "cell_type": "markdown",
   "source": "# Fonction coût",
   "id": "7b6eaa34ff73c106"
  },
  {
   "metadata": {
    "ExecuteTime": {
     "end_time": "2025-08-27T13:37:13.124263Z",
     "start_time": "2025-08-27T13:37:13.120392Z"
    }
   },
   "cell_type": "code",
   "source": [
    "def cost_function(X_, theta_, y_, regulation_rate, penalty=None, alpha_=0.5):\n",
    "    m = len(y_)\n",
    "    if penalty==\"l1\" or penalty is None:\n",
    "        return (1/2*m) * (np.sum((model(X_, theta_) - y_)**2) + regulation_rate * np.sum(abs(theta_)))\n",
    "    if penalty==\"l2\":\n",
    "        return (1/2*m) * (np.sum((model(X_, theta_) - y_)**2) + regulation_rate * np.sum(theta_**2))\n",
    "    if penalty==\"elasticnet\":\n",
    "        return (1/2*m) * (np.sum((model(X_, theta_) - y_)**2) + regulation_rate * (alpha_*np.sum(abs(theta_)) + (1-alpha_/2)*np.sum(theta_**2)))"
   ],
   "id": "cbb6b6b7dd0294ba",
   "outputs": [],
   "execution_count": 146
  },
  {
   "metadata": {},
   "cell_type": "markdown",
   "source": "# Gradient & Descente de Gradient",
   "id": "3d8d6b1683d36ea6"
  },
  {
   "metadata": {
    "ExecuteTime": {
     "end_time": "2025-08-27T13:37:13.175354Z",
     "start_time": "2025-08-27T13:37:13.171934Z"
    }
   },
   "cell_type": "code",
   "source": [
    "def grad(X_, theta_, y_):\n",
    "    m = len(y_)\n",
    "    return 1/m * X_.transpose().dot(model(X_, theta_) - y_)"
   ],
   "id": "c7a8b7f4ac99d69c",
   "outputs": [],
   "execution_count": 147
  },
  {
   "metadata": {
    "ExecuteTime": {
     "end_time": "2025-08-27T13:37:13.216388Z",
     "start_time": "2025-08-27T13:37:13.212914Z"
    }
   },
   "cell_type": "code",
   "source": [
    "def descent_grad(\n",
    "        X_,\n",
    "        theta_,\n",
    "        y_,\n",
    "        learning_rate_,\n",
    "        n_iterations_,\n",
    "        regulation_rate_,\n",
    "        penalty_=None,\n",
    "        alpha_=0.5\n",
    "):\n",
    "\n",
    "    cost_history_ = np.zeros(n_iterations_)\n",
    "    for i in range(0, n_iterations_):\n",
    "        theta_ = theta_ - (learning_rate_ * grad(X_, theta_, y_))\n",
    "        cost_history_[i] = cost_function(X_, theta_, y_, regulation_rate=regulation_rate_, penalty=penalty_, alpha_=alpha_)\n",
    "    return theta_, cost_history_"
   ],
   "id": "f10cc109d8415ff",
   "outputs": [],
   "execution_count": 148
  },
  {
   "metadata": {},
   "cell_type": "markdown",
   "source": "# Entraînement du modèle",
   "id": "72a66bcbbdd84611"
  },
  {
   "metadata": {
    "ExecuteTime": {
     "end_time": "2025-08-27T13:41:51.838794Z",
     "start_time": "2025-08-27T13:41:51.835142Z"
    }
   },
   "cell_type": "code",
   "source": [
    "regulation_param = 0.8\n",
    "norm = \"l2\"\n",
    "cost_function(X, theta, y, regulation_param, norm)"
   ],
   "id": "dcd1e4b5c7167478",
   "outputs": [
    {
     "data": {
      "text/plain": [
       "np.float64(144892063227131.2)"
      ]
     },
     "execution_count": 172,
     "metadata": {},
     "output_type": "execute_result"
    }
   ],
   "execution_count": 172
  },
  {
   "metadata": {
    "ExecuteTime": {
     "end_time": "2025-08-27T13:41:52.033227Z",
     "start_time": "2025-08-27T13:41:52.008651Z"
    }
   },
   "cell_type": "code",
   "source": [
    "learning_rate = 0.01\n",
    "n_iterations = 1000\n",
    "theta_final, cost_history = descent_grad(X, theta, y, learning_rate, n_iterations, regulation_param, norm)\n",
    "theta_final"
   ],
   "id": "101fafba8e783ab6",
   "outputs": [
    {
     "data": {
      "text/plain": [
       "array([[ 153003.65032729],\n",
       "       [-102505.30717297],\n",
       "       [ 117312.76480806]])"
      ]
     },
     "execution_count": 173,
     "metadata": {},
     "output_type": "execute_result"
    }
   ],
   "execution_count": 173
  },
  {
   "metadata": {
    "ExecuteTime": {
     "end_time": "2025-08-27T13:41:52.362390Z",
     "start_time": "2025-08-27T13:41:52.356720Z"
    }
   },
   "cell_type": "code",
   "source": [
    "pred = model(X, theta_final)\n",
    "pred[:5, ]"
   ],
   "id": "b91bd4a90646c540",
   "outputs": [
    {
     "data": {
      "text/plain": [
       "array([[354411.68119348],\n",
       "       [286948.62226741],\n",
       "       [394032.84278498],\n",
       "       [262408.92833789],\n",
       "       [474256.33138364]])"
      ]
     },
     "execution_count": 174,
     "metadata": {},
     "output_type": "execute_result"
    }
   ],
   "execution_count": 174
  },
  {
   "metadata": {},
   "cell_type": "markdown",
   "source": "# Évaluation du modèle",
   "id": "5f19412a0109507e"
  },
  {
   "metadata": {
    "ExecuteTime": {
     "end_time": "2025-08-27T13:41:53.104514Z",
     "start_time": "2025-08-27T13:41:53.048953Z"
    }
   },
   "cell_type": "code",
   "source": [
    "plt.plot(range(n_iterations), cost_history)\n",
    "plt.show()"
   ],
   "id": "9ec98ea4e8c0704e",
   "outputs": [
    {
     "data": {
      "text/plain": [
       "<Figure size 640x480 with 1 Axes>"
      ],
      "image/png": "[encoded data removed]"
     },
     "metadata": {},
     "output_type": "display_data"
    }
   ],
   "execution_count": 175
  },
  {
   "metadata": {
    "ExecuteTime": {
     "end_time": "2025-08-27T13:41:53.565771Z",
     "start_time": "2025-08-27T13:41:53.494532Z"
    }
   },
   "cell_type": "code",
   "source": [
    "plt.scatter(x1, y)\n",
    "plt.plot(x1, pred)\n",
    "plt.show()"
   ],
   "id": "ea8c4b2178ef9b2b",
   "outputs": [
    {
     "data": {
      "text/plain": [
       "<Figure size 640x480 with 1 Axes>"
      ],
      "image/png": "[encoded data removed]"
     },
     "metadata": {},
     "output_type": "display_data"
    }
   ],
   "execution_count": 176
  },
  {
   "metadata": {},
   "cell_type": "markdown",
   "source": "# Coéfficient de détermination R²",
   "id": "60e866e38dc35077"
  },
  {
   "metadata": {
    "ExecuteTime": {
     "end_time": "2025-08-27T13:41:54.982546Z",
     "start_time": "2025-08-27T13:41:54.979439Z"
    }
   },
   "cell_type": "code",
   "source": [
    "def coef_determination(y_, pred_):\n",
    "    u = np.sum((y_ - pred_) ** 2)\n",
    "    v = np.sum((y_ - y_.mean()) ** 2)\n",
    "    return 1 - u / v"
   ],
   "id": "a9aa324940d28303",
   "outputs": [],
   "execution_count": 177
  },
  {
   "metadata": {
    "ExecuteTime": {
     "end_time": "2025-08-27T13:41:55.588218Z",
     "start_time": "2025-08-27T13:41:55.584373Z"
    }
   },
   "cell_type": "code",
   "source": "coef_determination(y, pred)",
   "id": "572960e79ce13363",
   "outputs": [
    {
     "data": {
      "text/plain": [
       "np.float64(0.7310210464254953)"
      ]
     },
     "execution_count": 178,
     "metadata": {},
     "output_type": "execute_result"
    }
   ],
   "execution_count": 178
  },
  {
   "metadata": {},
   "cell_type": "code",
   "outputs": [],
   "execution_count": null,
   "source": "",
   "id": "e89e87aed499e92f"
  }
 ],
 "metadata": {
  "kernelspec": {
   "display_name": "Python 3",
   "language": "python",
   "name": "python3"
  },
  "language_info": {
   "codemirror_mode": {
    "name": "ipython",
    "version": 2
   },
   "file_extension": ".py",
   "mimetype": "text/x-python",
   "name": "python",
   "nbconvert_exporter": "python",
   "pygments_lexer": "ipython2",
   "version": "2.7.6"
  }
 },
 "nbformat": 4,
 "nbformat_minor": 5
}

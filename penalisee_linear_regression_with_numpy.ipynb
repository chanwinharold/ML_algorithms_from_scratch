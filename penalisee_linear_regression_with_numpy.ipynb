{
 "cells": [
  {
   "metadata": {
    "ExecuteTime": {
     "end_time": "2025-09-04T18:26:35.098179Z",
     "start_time": "2025-09-04T18:26:35.091367Z"
    }
   },
   "cell_type": "code",
   "source": [
    "import numpy as np\n",
    "import matplotlib.pyplot as plt\n",
    "from sklearn.datasets import make_regression\n",
    "from sklearn.preprocessing import StandardScaler"
   ],
   "id": "5036cba23aa72e91",
   "outputs": [],
   "execution_count": 123
  },
  {
   "metadata": {
    "ExecuteTime": {
     "end_time": "2025-09-04T18:26:35.153884Z",
     "start_time": "2025-09-04T18:26:35.147104Z"
    }
   },
   "cell_type": "code",
   "source": [
    "x, y = make_regression(n_samples=100, n_features=2, noise=10)\n",
    "y = y + abs(y**2/0.15)"
   ],
   "id": "890dec956b89d4ef",
   "outputs": [],
   "execution_count": 124
  },
  {
   "metadata": {
    "ExecuteTime": {
     "end_time": "2025-09-04T18:26:35.211432Z",
     "start_time": "2025-09-04T18:26:35.205133Z"
    }
   },
   "cell_type": "code",
   "source": [
    "print(x.shape)\n",
    "y = y.reshape((x.shape[0], 1))\n",
    "print(y.shape)"
   ],
   "id": "57a1a85343be46bf",
   "outputs": [
    {
     "name": "stdout",
     "output_type": "stream",
     "text": [
      "(100, 2)\n",
      "(100, 1)\n"
     ]
    }
   ],
   "execution_count": 125
  },
  {
   "metadata": {},
   "cell_type": "markdown",
   "source": "# Normalisation des données",
   "id": "1066605e1dc08f2f"
  },
  {
   "metadata": {
    "ExecuteTime": {
     "end_time": "2025-09-04T18:26:35.291766Z",
     "start_time": "2025-09-04T18:26:35.283268Z"
    }
   },
   "cell_type": "code",
   "source": [
    "norm = StandardScaler()\n",
    "x = norm.fit_transform(x)"
   ],
   "id": "645bd3957320ad12",
   "outputs": [],
   "execution_count": 126
  },
  {
   "metadata": {
    "ExecuteTime": {
     "end_time": "2025-09-04T18:26:35.345723Z",
     "start_time": "2025-09-04T18:26:35.334838Z"
    }
   },
   "cell_type": "code",
   "source": [
    "x1 = x[:, 0]\n",
    "x2 = x[:, 1]\n",
    "x1 = x1.reshape((x.shape[0], 1))\n",
    "x2 = x2.reshape((x.shape[0], 1))"
   ],
   "id": "adae260d85af72c0",
   "outputs": [],
   "execution_count": 127
  },
  {
   "metadata": {
    "ExecuteTime": {
     "end_time": "2025-09-04T18:26:35.459035Z",
     "start_time": "2025-09-04T18:26:35.424522Z"
    }
   },
   "cell_type": "code",
   "source": [
    "# Visualisation\n",
    "import plotly.graph_objects as go\n",
    "\n",
    "fig = go.Figure()\n",
    "\n",
    "fig.add_trace(\n",
    "    go.Scatter3d(\n",
    "        x=x1.ravel(), y=x2.ravel(), z=y.ravel(),\n",
    "        mode='markers',\n",
    "        marker=dict(size=4, color='orange')\n",
    "    )\n",
    ")\n",
    "\n",
    "fig.update_layout(\n",
    "    scene={\n",
    "        \"xaxis_title\":\"X1\",\n",
    "        \"yaxis_title\":\"X2\",\n",
    "        \"zaxis_title\":\"Y\"\n",
    "    }\n",
    ")\n",
    "\n",
    "fig.show()"
   ],
   "id": "c26398cac8a14a48",
   "outputs": [
    {
     "data": {
      "application/vnd.plotly.v1+json": {
       "data": [
        {
         "marker": {
          "color": "orange",
          "size": 4
         },
         "mode": "markers",
         "x": {
          "dtype": "f8",
          "bdata": "vHX0q1X58j8AjTwTbljFP8V0jCzzuOe/43f1P5FA+T9MLJqksCjpPxHu2s+AlsW/Ja6VLVgI67+JsFcWVwDxvwvt0DHFN9o/yUN9ggbSzD8ojIWNuRv6v44Sf+W2WuQ/9dV8EHxu6D8oo7hjgUz1vza31P5oJPk/1pU6tabm3r/u+YvIernnv2fGLFEtav0/Yu7rC27pxr+0hpMTZiSlv72MPtE+XPO/+Niy8jQ79T+OfdUSJQ3Uv15B36NlCOY/0stZ7Uv+rj/duLeVosftP2YRbMvEMJU/9AWB1kTk1z/gT78BUNzcP8s3YcGzWuc/8StDzxmLuj8i7CE6DCCpv1zzq7rLj/K/PV8Hkic41r+D3eoL69jkv8TSdH022dU/he623map87/WBYqC87nqv903expq7NO/nhelZlep478xYLFZLXjoP7m1MsUU1sY/hN9VZx+Sxz9FNx+Hmm75P8czBJiIo++/foUCOxny9z+8VNwpXQnuP+BWpe/fgvo/UzoOONJo8D9bzcTIW+L2P59ztuKVmuQ/d8++EWII0L/VNXPWtsL6P0wR11Sv+Pw/L+9LrHk+679Uyg6eWTPnv6wfGveMuf4/OSzyNBuP+b+F4Z+bmUvZvyg7CaM33fA/Idib0y/60b+giKMOqjnSPy3XcFxe8+i/La3cSN+g1z/ya7E3HIGcP5LHzLR+GvM/OW0DJbM8sz867gku1t0CQP4k6Vvr6dK/kPdCuTIV5L+mBew/FnwCwLeAJ1Eo5Og/OiJILNyg1z8hE1OjoqneP7YGcRaX1uG/+alGzP3977/VHauENwfnP0/inRP46eE/+1S9MaFA87/NcK+M1+O4PzyelLnfXeK/dpRnh/Yt6L99Yi9O6M/Sv+pNFS8A/tq/w6eGGw/I1j9A9Cp5dr98Pw3mZYlsmwLA9Wvsek622j8263vp3ALWv5yJ76ExIOQ/pM9JqfyqsL9agpG7+fbav3ltFIhbQNw/ONjItvObzT8wloII1Er9v7p/dGj3XPC/JHDYyL+pBsDMnb7Dmbnxv8RJrw3aifG/dzi2sD3C8L8="
         },
         "y": {
          "dtype": "f8",
          "bdata": "8Sy/6XbB8b9+119fLdDkPw69AC4q/9g/xcu2HQPY2L9gAkx3cI/7P/bnt53KldS/znETLx9J4L+HxOaoRObxv8AkABs3i9Q/TCPPz+gu6z9np75Zsk72P+JssV/OrfC/1ZSukDNDCkD/b+CggCS9v4G60EDx1fQ/2qlzp0kwzD+ocWnm/3jNPy/oX/NWQfQ/1Kks67nT5z+Gapu2hOHhv1SN5ZzQ/+2/ra56GxtX7r+gUISTy3f0vxgU25Wt0dI/Bz80BTS22j8unWMFjUPiv0JoTZjZuua/vfErjCbr27+y04b3IjDrv6p4+bW77fA/jqGssHb49T/3AvSMx5XwP9itL3YRgus/p/legvnj9r+fhY/NMnLcv+7eQaAnzta/XGFMZ6tj4L8zqH4UcLrWP3LGyp7o4QTAyZipiTqv+L/x9JYMMYDUP0JRtUxH4oA/oO1cQurSw7/6V0G0qofzv2EoFwR//OK/M7X/MFlb079Ahp7UTcnxv947T/+hbuI/530U2TnnrL/vSe/fgBbxv6DmizGSnfE/YTQr/J4osL+yyWrf+JbsP7QMZf2YAPC/rAuEhi1c3D9b7J6UhrSTvxPJbmgQwfw/yKsmGNVrpL+2/hL0N1H7v8EtOeUByOU/J7GSSA+b3r/zB9GFPlHZvxR+Dra5jzC/Ya9g5hPf/D9xs59zAP7wv0QCj/3bZfC/PcItgjxMqz9mjaqxnJJtv4V1iOi3kuu/Uc2e+6eX5z9mWsC7yioCQEmbYYL2W+e/nAP0nhcU7D+nkNPsXqb9vwdLk9oXNcQ/IZSrXu2yAMD/nUHPKKz3P7+BLlz5kdK/phJv9zQB+j8zjCvFnXTUP5LGm6bBO+A/qpj2arOP7D+AjKMaEvPlvyzqEw+u9to/WluLgSVX1b+X7+aEsd2yvxK1BjGu/LO/vP1Rev2B7r/G8j3Vj2viP/A3Ng658/U/8s1AIQIl5T9mdiFOB2Lrv80kwM368vW/tvHNJTElzj+HrV0p6Wvxv9E9DINIjNw/mzGdsbwG7j+pmfcuyTrrPyIlsshx7OG/C1g/TdT5uT8="
         },
         "z": {
          "dtype": "f8",
          "bdata": "XIK4A2w2ukBCLKWYLPmzQAsE53NRTcRA7oR7o0DO60Csd0owsE37QOhVtUrAksFATBX87cYc5UDKrkETjy0CQWEQrk+DTNBAPNd8tkx+z0C55622wA/eQCs4PlDHUHJApoNfTvLmDEFgpnAivNLxQK+liMZ7PgJBHYqW/yvIvUD5I/BwYSDTQIZeUOnMDwtBwgyPCDXldkBrhAmsGpnHQIBqjlG9Jf1AXIkbpWiq3kCtzXEqBATlQEajNIGGY9ZAH+OTbE/bdUA8UDxEpTnQQA+Eb/llEL5ADH3idgU2XUCwABxpsHSrQMhlr+rqeuxA6C4uvg4OwkCmjpN4eQCcQE41d9uWVNJAOK9RQQYr80Dw5n7KErLaQHwWT9J0oldAtWiBTdMf+UDCzMARTC7SQGG97BTr9PxAMh42K2aC90Dtzf+Y+NXRQB/Ht1wvrY9Ajmp7+vcbokAGZcCxd5PJQAIjco2B4PBAB4Rn2T/r6EAE5qB2UYajQFV6Bz8w7ABBEw7zs9Uz5kCbId1MhbLPQNys5TDuje9ANmjOzBkrxECGuvW9iN0BQRQaVRn1O+BA2flDwWew0EBpzBUVwLXSQCgNi31zYBBB8ezoVscG+0D+T68uQTP1QHSnetvyg+NArIMdcUib0kA3kTGmUyGkQHuBJRs359hASO1+fwUL50CmUUuX277dQDVRskO5rs9AofWdjY2OjEDM0b6JPYIEQXMxssGHidhAeeIMd7CepEDAKWQHcXXiQLXDFlkDtpJAITn3rcoC0UC8GfcuwC3YQMlyKFgiSsBAMYKx1+HbBkF8trWz7mLyQN4DZuTGQatAf3saaR4nr0BvHFFmA9iGQNuZ+n0y3NRAHiL0235ltkCuW6K1jQ/YQFYdKQ51NsBAHKaA99XBlkBpUo51t6exQPehi/3m+g1B/jD6vBmxDEBdllDRRBeTQIlKpjCX3/FAvqjryPmus0BtddbsLmLnQPl+OK/MebdA5ArUZSQogkBHst6YWw8OQSdiH5/nVdRAXV+plAokDkH4ei5iqALSQFT/0OV+cvpAQ6b9T1NS7UA="
         },
         "type": "scatter3d"
        }
       ],
       "layout": {
        "template": {
         "data": {
          "histogram2dcontour": [
           {
            "type": "histogram2dcontour",
            "colorbar": {
             "outlinewidth": 0,
             "ticks": ""
            },
            "colorscale": [
             [
              0.0,
              "#0d0887"
             ],
             [
              0.1111111111111111,
              "#46039f"
             ],
             [
              0.2222222222222222,
              "#7201a8"
             ],
             [
              0.3333333333333333,
              "#9c179e"
             ],
             [
              0.4444444444444444,
              "#bd3786"
             ],
             [
              0.5555555555555556,
              "#d8576b"
             ],
             [
              0.6666666666666666,
              "#ed7953"
             ],
             [
              0.7777777777777778,
              "#fb9f3a"
             ],
             [
              0.8888888888888888,
              "#fdca26"
             ],
             [
              1.0,
              "#f0f921"
             ]
            ]
           }
          ],
          "choropleth": [
           {
            "type": "choropleth",
            "colorbar": {
             "outlinewidth": 0,
             "ticks": ""
            }
           }
          ],
          "histogram2d": [
           {
            "type": "histogram2d",
            "colorbar": {
             "outlinewidth": 0,
             "ticks": ""
            },
            "colorscale": [
             [
              0.0,
              "#0d0887"
             ],
             [
              0.1111111111111111,
              "#46039f"
             ],
             [
              0.2222222222222222,
              "#7201a8"
             ],
             [
              0.3333333333333333,
              "#9c179e"
             ],
             [
              0.4444444444444444,
              "#bd3786"
             ],
             [
              0.5555555555555556,
              "#d8576b"
             ],
             [
              0.6666666666666666,
              "#ed7953"
             ],
             [
              0.7777777777777778,
              "#fb9f3a"
             ],
             [
              0.8888888888888888,
              "#fdca26"
             ],
             [
              1.0,
              "#f0f921"
             ]
            ]
           }
          ],
          "heatmap": [
           {
            "type": "heatmap",
            "colorbar": {
             "outlinewidth": 0,
             "ticks": ""
            },
            "colorscale": [
             [
              0.0,
              "#0d0887"
             ],
             [
              0.1111111111111111,
              "#46039f"
             ],
             [
              0.2222222222222222,
              "#7201a8"
             ],
             [
              0.3333333333333333,
              "#9c179e"
             ],
             [
              0.4444444444444444,
              "#bd3786"
             ],
             [
              0.5555555555555556,
              "#d8576b"
             ],
             [
              0.6666666666666666,
              "#ed7953"
             ],
             [
              0.7777777777777778,
              "#fb9f3a"
             ],
             [
              0.8888888888888888,
              "#fdca26"
             ],
             [
              1.0,
              "#f0f921"
             ]
            ]
           }
          ],
          "contourcarpet": [
           {
            "type": "contourcarpet",
            "colorbar": {
             "outlinewidth": 0,
             "ticks": ""
            }
           }
          ],
          "contour": [
           {
            "type": "contour",
            "colorbar": {
             "outlinewidth": 0,
             "ticks": ""
            },
            "colorscale": [
             [
              0.0,
              "#0d0887"
             ],
             [
              0.1111111111111111,
              "#46039f"
             ],
             [
              0.2222222222222222,
              "#7201a8"
             ],
             [
              0.3333333333333333,
              "#9c179e"
             ],
             [
              0.4444444444444444,
              "#bd3786"
             ],
             [
              0.5555555555555556,
              "#d8576b"
             ],
             [
              0.6666666666666666,
              "#ed7953"
             ],
             [
              0.7777777777777778,
              "#fb9f3a"
             ],
             [
              0.8888888888888888,
              "#fdca26"
             ],
             [
              1.0,
              "#f0f921"
             ]
            ]
           }
          ],
          "surface": [
           {
            "type": "surface",
            "colorbar": {
             "outlinewidth": 0,
             "ticks": ""
            },
            "colorscale": [
             [
              0.0,
              "#0d0887"
             ],
             [
              0.1111111111111111,
              "#46039f"
             ],
             [
              0.2222222222222222,
              "#7201a8"
             ],
             [
              0.3333333333333333,
              "#9c179e"
             ],
             [
              0.4444444444444444,
              "#bd3786"
             ],
             [
              0.5555555555555556,
              "#d8576b"
             ],
             [
              0.6666666666666666,
              "#ed7953"
             ],
             [
              0.7777777777777778,
              "#fb9f3a"
             ],
             [
              0.8888888888888888,
              "#fdca26"
             ],
             [
              1.0,
              "#f0f921"
             ]
            ]
           }
          ],
          "mesh3d": [
           {
            "type": "mesh3d",
            "colorbar": {
             "outlinewidth": 0,
             "ticks": ""
            }
           }
          ],
          "scatter": [
           {
            "marker": {
             "line": {
              "color": "#283442"
             }
            },
            "type": "scatter"
           }
          ],
          "parcoords": [
           {
            "type": "parcoords",
            "line": {
             "colorbar": {
              "outlinewidth": 0,
              "ticks": ""
             }
            }
           }
          ],
          "scatterpolargl": [
           {
            "type": "scatterpolargl",
            "marker": {
             "colorbar": {
              "outlinewidth": 0,
              "ticks": ""
             }
            }
           }
          ],
          "bar": [
           {
            "error_x": {
             "color": "#f2f5fa"
            },
            "error_y": {
             "color": "#f2f5fa"
            },
            "marker": {
             "line": {
              "color": "rgb(17,17,17)",
              "width": 0.5
             },
             "pattern": {
              "fillmode": "overlay",
              "size": 10,
              "solidity": 0.2
             }
            },
            "type": "bar"
           }
          ],
          "scattergeo": [
           {
            "type": "scattergeo",
            "marker": {
             "colorbar": {
              "outlinewidth": 0,
              "ticks": ""
             }
            }
           }
          ],
          "scatterpolar": [
           {
            "type": "scatterpolar",
            "marker": {
             "colorbar": {
              "outlinewidth": 0,
              "ticks": ""
             }
            }
           }
          ],
          "histogram": [
           {
            "marker": {
             "pattern": {
              "fillmode": "overlay",
              "size": 10,
              "solidity": 0.2
             }
            },
            "type": "histogram"
           }
          ],
          "scattergl": [
           {
            "marker": {
             "line": {
              "color": "#283442"
             }
            },
            "type": "scattergl"
           }
          ],
          "scatter3d": [
           {
            "type": "scatter3d",
            "line": {
             "colorbar": {
              "outlinewidth": 0,
              "ticks": ""
             }
            },
            "marker": {
             "colorbar": {
              "outlinewidth": 0,
              "ticks": ""
             }
            }
           }
          ],
          "scattermap": [
           {
            "type": "scattermap",
            "marker": {
             "colorbar": {
              "outlinewidth": 0,
              "ticks": ""
             }
            }
           }
          ],
          "scattermapbox": [
           {
            "type": "scattermapbox",
            "marker": {
             "colorbar": {
              "outlinewidth": 0,
              "ticks": ""
             }
            }
           }
          ],
          "scatterternary": [
           {
            "type": "scatterternary",
            "marker": {
             "colorbar": {
              "outlinewidth": 0,
              "ticks": ""
             }
            }
           }
          ],
          "scattercarpet": [
           {
            "type": "scattercarpet",
            "marker": {
             "colorbar": {
              "outlinewidth": 0,
              "ticks": ""
             }
            }
           }
          ],
          "carpet": [
           {
            "aaxis": {
             "endlinecolor": "#A2B1C6",
             "gridcolor": "#506784",
             "linecolor": "#506784",
             "minorgridcolor": "#506784",
             "startlinecolor": "#A2B1C6"
            },
            "baxis": {
             "endlinecolor": "#A2B1C6",
             "gridcolor": "#506784",
             "linecolor": "#506784",
             "minorgridcolor": "#506784",
             "startlinecolor": "#A2B1C6"
            },
            "type": "carpet"
           }
          ],
          "table": [
           {
            "cells": {
             "fill": {
              "color": "#506784"
             },
             "line": {
              "color": "rgb(17,17,17)"
             }
            },
            "header": {
             "fill": {
              "color": "#2a3f5f"
             },
             "line": {
              "color": "rgb(17,17,17)"
             }
            },
            "type": "table"
           }
          ],
          "barpolar": [
           {
            "marker": {
             "line": {
              "color": "rgb(17,17,17)",
              "width": 0.5
             },
             "pattern": {
              "fillmode": "overlay",
              "size": 10,
              "solidity": 0.2
             }
            },
            "type": "barpolar"
           }
          ],
          "pie": [
           {
            "automargin": true,
            "type": "pie"
           }
          ]
         },
         "layout": {
          "autotypenumbers": "strict",
          "colorway": [
           "#636efa",
           "#EF553B",
           "#00cc96",
           "#ab63fa",
           "#FFA15A",
           "#19d3f3",
           "#FF6692",
           "#B6E880",
           "#FF97FF",
           "#FECB52"
          ],
          "font": {
           "color": "#f2f5fa"
          },
          "hovermode": "closest",
          "hoverlabel": {
           "align": "left"
          },
          "paper_bgcolor": "rgb(17,17,17)",
          "plot_bgcolor": "rgb(17,17,17)",
          "polar": {
           "bgcolor": "rgb(17,17,17)",
           "angularaxis": {
            "gridcolor": "#506784",
            "linecolor": "#506784",
            "ticks": ""
           },
           "radialaxis": {
            "gridcolor": "#506784",
            "linecolor": "#506784",
            "ticks": ""
           }
          },
          "ternary": {
           "bgcolor": "rgb(17,17,17)",
           "aaxis": {
            "gridcolor": "#506784",
            "linecolor": "#506784",
            "ticks": ""
           },
           "baxis": {
            "gridcolor": "#506784",
            "linecolor": "#506784",
            "ticks": ""
           },
           "caxis": {
            "gridcolor": "#506784",
            "linecolor": "#506784",
            "ticks": ""
           }
          },
          "coloraxis": {
           "colorbar": {
            "outlinewidth": 0,
            "ticks": ""
           }
          },
          "colorscale": {
           "sequential": [
            [
             0.0,
             "#0d0887"
            ],
            [
             0.1111111111111111,
             "#46039f"
            ],
            [
             0.2222222222222222,
             "#7201a8"
            ],
            [
             0.3333333333333333,
             "#9c179e"
            ],
            [
             0.4444444444444444,
             "#bd3786"
            ],
            [
             0.5555555555555556,
             "#d8576b"
            ],
            [
             0.6666666666666666,
             "#ed7953"
            ],
            [
             0.7777777777777778,
             "#fb9f3a"
            ],
            [
             0.8888888888888888,
             "#fdca26"
            ],
            [
             1.0,
             "#f0f921"
            ]
           ],
           "sequentialminus": [
            [
             0.0,
             "#0d0887"
            ],
            [
             0.1111111111111111,
             "#46039f"
            ],
            [
             0.2222222222222222,
             "#7201a8"
            ],
            [
             0.3333333333333333,
             "#9c179e"
            ],
            [
             0.4444444444444444,
             "#bd3786"
            ],
            [
             0.5555555555555556,
             "#d8576b"
            ],
            [
             0.6666666666666666,
             "#ed7953"
            ],
            [
             0.7777777777777778,
             "#fb9f3a"
            ],
            [
             0.8888888888888888,
             "#fdca26"
            ],
            [
             1.0,
             "#f0f921"
            ]
           ],
           "diverging": [
            [
             0,
             "#8e0152"
            ],
            [
             0.1,
             "#c51b7d"
            ],
            [
             0.2,
             "#de77ae"
            ],
            [
             0.3,
             "#f1b6da"
            ],
            [
             0.4,
             "#fde0ef"
            ],
            [
             0.5,
             "#f7f7f7"
            ],
            [
             0.6,
             "#e6f5d0"
            ],
            [
             0.7,
             "#b8e186"
            ],
            [
             0.8,
             "#7fbc41"
            ],
            [
             0.9,
             "#4d9221"
            ],
            [
             1,
             "#276419"
            ]
           ]
          },
          "xaxis": {
           "gridcolor": "#283442",
           "linecolor": "#506784",
           "ticks": "",
           "title": {
            "standoff": 15
           },
           "zerolinecolor": "#283442",
           "automargin": true,
           "zerolinewidth": 2
          },
          "yaxis": {
           "gridcolor": "#283442",
           "linecolor": "#506784",
           "ticks": "",
           "title": {
            "standoff": 15
           },
           "zerolinecolor": "#283442",
           "automargin": true,
           "zerolinewidth": 2
          },
          "scene": {
           "xaxis": {
            "backgroundcolor": "rgb(17,17,17)",
            "gridcolor": "#506784",
            "linecolor": "#506784",
            "showbackground": true,
            "ticks": "",
            "zerolinecolor": "#C8D4E3",
            "gridwidth": 2
           },
           "yaxis": {
            "backgroundcolor": "rgb(17,17,17)",
            "gridcolor": "#506784",
            "linecolor": "#506784",
            "showbackground": true,
            "ticks": "",
            "zerolinecolor": "#C8D4E3",
            "gridwidth": 2
           },
           "zaxis": {
            "backgroundcolor": "rgb(17,17,17)",
            "gridcolor": "#506784",
            "linecolor": "#506784",
            "showbackground": true,
            "ticks": "",
            "zerolinecolor": "#C8D4E3",
            "gridwidth": 2
           }
          },
          "shapedefaults": {
           "line": {
            "color": "#f2f5fa"
           }
          },
          "annotationdefaults": {
           "arrowcolor": "#f2f5fa",
           "arrowhead": 0,
           "arrowwidth": 1
          },
          "geo": {
           "bgcolor": "rgb(17,17,17)",
           "landcolor": "rgb(17,17,17)",
           "subunitcolor": "#506784",
           "showland": true,
           "showlakes": true,
           "lakecolor": "rgb(17,17,17)"
          },
          "title": {
           "x": 0.05
          },
          "updatemenudefaults": {
           "bgcolor": "#506784",
           "borderwidth": 0
          },
          "sliderdefaults": {
           "bgcolor": "#C8D4E3",
           "borderwidth": 1,
           "bordercolor": "rgb(17,17,17)",
           "tickwidth": 0
          },
          "mapbox": {
           "style": "dark"
          }
         }
        },
        "scene": {
         "xaxis": {
          "title": {
           "text": "X1"
          }
         },
         "yaxis": {
          "title": {
           "text": "X2"
          }
         },
         "zaxis": {
          "title": {
           "text": "Y"
          }
         }
        }
       },
       "config": {
        "plotlyServerURL": "https://plot.ly"
       }
      }
     },
     "metadata": {},
     "output_type": "display_data"
    }
   ],
   "execution_count": 128
  },
  {
   "metadata": {
    "ExecuteTime": {
     "end_time": "2025-09-04T18:26:35.601586Z",
     "start_time": "2025-09-04T18:26:35.592874Z"
    }
   },
   "cell_type": "code",
   "source": [
    "x1 = x1.reshape((x.shape[0], 1))\n",
    "x2 = x2.reshape((x.shape[0], 1))\n",
    "y = y.reshape((x.shape[0], 1))\n",
    "print(x1.shape)\n",
    "print(x2.shape)\n",
    "print(y.shape)"
   ],
   "id": "d35ef6460419a458",
   "outputs": [
    {
     "name": "stdout",
     "output_type": "stream",
     "text": [
      "(100, 1)\n",
      "(100, 1)\n",
      "(100, 1)\n"
     ]
    }
   ],
   "execution_count": 129
  },
  {
   "metadata": {
    "ExecuteTime": {
     "end_time": "2025-09-04T18:26:35.668074Z",
     "start_time": "2025-09-04T18:26:35.644034Z"
    }
   },
   "cell_type": "code",
   "source": [
    "class LinearRegularRegression:\n",
    "    def __init__(self, x_, regular_param=1, norm_type=\"ridge\", alpha=0.5):\n",
    "        _, n = x_.shape\n",
    "        self.theta_ = np.random.rand(n+1, 1)\n",
    "        self.regular_param = regular_param\n",
    "        self.norm_type = norm_type\n",
    "        self.alpha = alpha\n",
    "\n",
    "    def predict(self, x_):\n",
    "        m, _ = x_.shape\n",
    "        X_ = np.hstack(( x_, np.ones((m, 1)) ))\n",
    "        return X_ @ self.theta_\n",
    "\n",
    "    def cost_function(self, fx_, y_):\n",
    "        m, _ = y_.shape\n",
    "        if self.norm_type==\"ridge\":\n",
    "            return 1/(2*m) * (np.sum( (fx_ - y_)**2 ) + self.regular_param * np.sum(abs(self.theta_)))\n",
    "        if self.norm_type==\"lasso\":\n",
    "            return 1/(2*m) * (np.sum( (fx_ - y_)**2 ) + self.regular_param * np.sum(self.theta_ ** 2))\n",
    "        if self.norm_type==\"elasticnet\":\n",
    "            return 1/(2*m) * (np.sum( (fx_ - y_)**2 ) + self.regular_param * (self.alpha * np.sum(abs(self.theta_)) + ((1-self.alpha)/2) * np.sum(self.theta_**2) ))\n",
    "\n",
    "    def fit(self, x_, y_, learning_rate=0.01, n_iterations=1000):\n",
    "        m, _ = x_.shape\n",
    "        X_ = np.hstack((x_, np.ones((m, 1))))\n",
    "        cost_history = np.zeros(n_iterations)\n",
    "\n",
    "        for i in range(0, n_iterations):\n",
    "            self.theta_ = self.theta_ - learning_rate * ((1/m) * X_.transpose() @ (self.predict(x_) - y_))\n",
    "            cost_history[i] = self.cost_function(self.predict(x_), y_)\n",
    "        return cost_history\n",
    "\n"
   ],
   "id": "208fb0e0e13c6a38",
   "outputs": [],
   "execution_count": 130
  },
  {
   "metadata": {
    "ExecuteTime": {
     "end_time": "2025-09-04T18:45:45.957586Z",
     "start_time": "2025-09-04T18:45:45.854978Z"
    }
   },
   "cell_type": "code",
   "source": [
    "regular_linear_reg = LinearRegularRegression(x, norm_type=\"elasticnet\")\n",
    "J_history = regular_linear_reg.fit(x, y)"
   ],
   "id": "5aa7e21afb5434c2",
   "outputs": [],
   "execution_count": 151
  },
  {
   "metadata": {
    "ExecuteTime": {
     "end_time": "2025-09-04T18:45:47.943724Z",
     "start_time": "2025-09-04T18:45:47.390330Z"
    }
   },
   "cell_type": "code",
   "source": [
    "plt.plot(J_history)\n",
    "plt.show()"
   ],
   "id": "ada27753e1d5a61c",
   "outputs": [
    {
     "data": {
      "text/plain": [
       "<Figure size 640x480 with 1 Axes>"
      ],
      "image/png": "[encoded data removed]"
     },
     "metadata": {},
     "output_type": "display_data"
    }
   ],
   "execution_count": 152
  },
  {
   "metadata": {
    "ExecuteTime": {
     "end_time": "2025-09-04T18:45:50.927879Z",
     "start_time": "2025-09-04T18:45:50.915818Z"
    }
   },
   "cell_type": "code",
   "source": "y_pred = regular_linear_reg.predict(x)",
   "id": "ed158b7dc6657fdb",
   "outputs": [],
   "execution_count": 153
  },
  {
   "metadata": {
    "ExecuteTime": {
     "end_time": "2025-09-04T18:45:51.611543Z",
     "start_time": "2025-09-04T18:45:51.601748Z"
    }
   },
   "cell_type": "code",
   "source": "a, b, c = regular_linear_reg.theta_",
   "id": "c96044d170e3a9b8",
   "outputs": [],
   "execution_count": 154
  },
  {
   "metadata": {},
   "cell_type": "markdown",
   "source": "f(x) = ax² + bx + c",
   "id": "a48ddcaa7514335b"
  },
  {
   "metadata": {
    "ExecuteTime": {
     "end_time": "2025-09-04T18:45:53.479270Z",
     "start_time": "2025-09-04T18:45:53.432339Z"
    }
   },
   "cell_type": "code",
   "source": [
    "# Visualisation\n",
    "import plotly.graph_objects as go\n",
    "\n",
    "fig = go.Figure()\n",
    "\n",
    "x1_list = np.linspace(x1.min(), x1.max(), 20)\n",
    "x2_list = np.linspace(x2.min(), x2.max(), 20)\n",
    "x1_list, x2_list = np.meshgrid(x1_list, x2_list)\n",
    "\n",
    "y_pred_list = a * x1_list**2 + b * x2_list + c\n",
    "\n",
    "fig.add_trace(\n",
    "    go.Scatter3d(\n",
    "        x=x1.ravel(), y=x2.ravel(), z=y.ravel(),\n",
    "        mode='markers',\n",
    "        marker=dict(size=4, color='yellow')\n",
    "    ))\n",
    "\n",
    "fig.add_trace(\n",
    "    go.Surface(\n",
    "        x=x1_list, y=x2_list, z=y_pred_list,\n",
    "        colorscale=\"Reds\", opacity=0.5\n",
    "    ))\n",
    "\n",
    "fig.update_layout(\n",
    "    scene={\n",
    "        \"xaxis_title\":\"X1\",\n",
    "        \"yaxis_title\":\"X2\",\n",
    "        \"zaxis_title\":\"Y\"\n",
    "    }\n",
    ")\n",
    "\n",
    "fig.show()"
   ],
   "id": "def1f4960edc183",
   "outputs": [
    {
     "data": {
      "application/vnd.plotly.v1+json": {
       "data": [
        {
         "marker": {
          "color": "yellow",
          "size": 4
         },
         "mode": "markers",
         "x": {
          "dtype": "f8",
          "bdata": "vHX0q1X58j8AjTwTbljFP8V0jCzzuOe/43f1P5FA+T9MLJqksCjpPxHu2s+AlsW/Ja6VLVgI67+JsFcWVwDxvwvt0DHFN9o/yUN9ggbSzD8ojIWNuRv6v44Sf+W2WuQ/9dV8EHxu6D8oo7hjgUz1vza31P5oJPk/1pU6tabm3r/u+YvIernnv2fGLFEtav0/Yu7rC27pxr+0hpMTZiSlv72MPtE+XPO/+Niy8jQ79T+OfdUSJQ3Uv15B36NlCOY/0stZ7Uv+rj/duLeVosftP2YRbMvEMJU/9AWB1kTk1z/gT78BUNzcP8s3YcGzWuc/8StDzxmLuj8i7CE6DCCpv1zzq7rLj/K/PV8Hkic41r+D3eoL69jkv8TSdH022dU/he623map87/WBYqC87nqv903expq7NO/nhelZlep478xYLFZLXjoP7m1MsUU1sY/hN9VZx+Sxz9FNx+Hmm75P8czBJiIo++/foUCOxny9z+8VNwpXQnuP+BWpe/fgvo/UzoOONJo8D9bzcTIW+L2P59ztuKVmuQ/d8++EWII0L/VNXPWtsL6P0wR11Sv+Pw/L+9LrHk+679Uyg6eWTPnv6wfGveMuf4/OSzyNBuP+b+F4Z+bmUvZvyg7CaM33fA/Idib0y/60b+giKMOqjnSPy3XcFxe8+i/La3cSN+g1z/ya7E3HIGcP5LHzLR+GvM/OW0DJbM8sz867gku1t0CQP4k6Vvr6dK/kPdCuTIV5L+mBew/FnwCwLeAJ1Eo5Og/OiJILNyg1z8hE1OjoqneP7YGcRaX1uG/+alGzP3977/VHauENwfnP0/inRP46eE/+1S9MaFA87/NcK+M1+O4PzyelLnfXeK/dpRnh/Yt6L99Yi9O6M/Sv+pNFS8A/tq/w6eGGw/I1j9A9Cp5dr98Pw3mZYlsmwLA9Wvsek622j8263vp3ALWv5yJ76ExIOQ/pM9JqfyqsL9agpG7+fbav3ltFIhbQNw/ONjItvObzT8wloII1Er9v7p/dGj3XPC/JHDYyL+pBsDMnb7Dmbnxv8RJrw3aifG/dzi2sD3C8L8="
         },
         "y": {
          "dtype": "f8",
          "bdata": "8Sy/6XbB8b9+119fLdDkPw69AC4q/9g/xcu2HQPY2L9gAkx3cI/7P/bnt53KldS/znETLx9J4L+HxOaoRObxv8AkABs3i9Q/TCPPz+gu6z9np75Zsk72P+JssV/OrfC/1ZSukDNDCkD/b+CggCS9v4G60EDx1fQ/2qlzp0kwzD+ocWnm/3jNPy/oX/NWQfQ/1Kks67nT5z+Gapu2hOHhv1SN5ZzQ/+2/ra56GxtX7r+gUISTy3f0vxgU25Wt0dI/Bz80BTS22j8unWMFjUPiv0JoTZjZuua/vfErjCbr27+y04b3IjDrv6p4+bW77fA/jqGssHb49T/3AvSMx5XwP9itL3YRgus/p/legvnj9r+fhY/NMnLcv+7eQaAnzta/XGFMZ6tj4L8zqH4UcLrWP3LGyp7o4QTAyZipiTqv+L/x9JYMMYDUP0JRtUxH4oA/oO1cQurSw7/6V0G0qofzv2EoFwR//OK/M7X/MFlb079Ahp7UTcnxv947T/+hbuI/530U2TnnrL/vSe/fgBbxv6DmizGSnfE/YTQr/J4osL+yyWrf+JbsP7QMZf2YAPC/rAuEhi1c3D9b7J6UhrSTvxPJbmgQwfw/yKsmGNVrpL+2/hL0N1H7v8EtOeUByOU/J7GSSA+b3r/zB9GFPlHZvxR+Dra5jzC/Ya9g5hPf/D9xs59zAP7wv0QCj/3bZfC/PcItgjxMqz9mjaqxnJJtv4V1iOi3kuu/Uc2e+6eX5z9mWsC7yioCQEmbYYL2W+e/nAP0nhcU7D+nkNPsXqb9vwdLk9oXNcQ/IZSrXu2yAMD/nUHPKKz3P7+BLlz5kdK/phJv9zQB+j8zjCvFnXTUP5LGm6bBO+A/qpj2arOP7D+AjKMaEvPlvyzqEw+u9to/WluLgSVX1b+X7+aEsd2yvxK1BjGu/LO/vP1Rev2B7r/G8j3Vj2viP/A3Ng658/U/8s1AIQIl5T9mdiFOB2Lrv80kwM368vW/tvHNJTElzj+HrV0p6Wvxv9E9DINIjNw/mzGdsbwG7j+pmfcuyTrrPyIlsshx7OG/C1g/TdT5uT8="
         },
         "z": {
          "dtype": "f8",
          "bdata": "XIK4A2w2ukBCLKWYLPmzQAsE53NRTcRA7oR7o0DO60Csd0owsE37QOhVtUrAksFATBX87cYc5UDKrkETjy0CQWEQrk+DTNBAPNd8tkx+z0C55622wA/eQCs4PlDHUHJApoNfTvLmDEFgpnAivNLxQK+liMZ7PgJBHYqW/yvIvUD5I/BwYSDTQIZeUOnMDwtBwgyPCDXldkBrhAmsGpnHQIBqjlG9Jf1AXIkbpWiq3kCtzXEqBATlQEajNIGGY9ZAH+OTbE/bdUA8UDxEpTnQQA+Eb/llEL5ADH3idgU2XUCwABxpsHSrQMhlr+rqeuxA6C4uvg4OwkCmjpN4eQCcQE41d9uWVNJAOK9RQQYr80Dw5n7KErLaQHwWT9J0oldAtWiBTdMf+UDCzMARTC7SQGG97BTr9PxAMh42K2aC90Dtzf+Y+NXRQB/Ht1wvrY9Ajmp7+vcbokAGZcCxd5PJQAIjco2B4PBAB4Rn2T/r6EAE5qB2UYajQFV6Bz8w7ABBEw7zs9Uz5kCbId1MhbLPQNys5TDuje9ANmjOzBkrxECGuvW9iN0BQRQaVRn1O+BA2flDwWew0EBpzBUVwLXSQCgNi31zYBBB8ezoVscG+0D+T68uQTP1QHSnetvyg+NArIMdcUib0kA3kTGmUyGkQHuBJRs359hASO1+fwUL50CmUUuX277dQDVRskO5rs9AofWdjY2OjEDM0b6JPYIEQXMxssGHidhAeeIMd7CepEDAKWQHcXXiQLXDFlkDtpJAITn3rcoC0UC8GfcuwC3YQMlyKFgiSsBAMYKx1+HbBkF8trWz7mLyQN4DZuTGQatAf3saaR4nr0BvHFFmA9iGQNuZ+n0y3NRAHiL0235ltkCuW6K1jQ/YQFYdKQ51NsBAHKaA99XBlkBpUo51t6exQPehi/3m+g1B/jD6vBmxDEBdllDRRBeTQIlKpjCX3/FAvqjryPmus0BtddbsLmLnQPl+OK/MebdA5ArUZSQogkBHst6YWw8OQSdiH5/nVdRAXV+plAokDkH4ei5iqALSQFT/0OV+cvpAQ6b9T1NS7UA="
         },
         "type": "scatter3d"
        },
        {
         "colorscale": [
          [
           0.0,
           "rgb(255,245,240)"
          ],
          [
           0.125,
           "rgb(254,224,210)"
          ],
          [
           0.25,
           "rgb(252,187,161)"
          ],
          [
           0.375,
           "rgb(252,146,114)"
          ],
          [
           0.5,
           "rgb(251,106,74)"
          ],
          [
           0.625,
           "rgb(239,59,44)"
          ],
          [
           0.75,
           "rgb(203,24,29)"
          ],
          [
           0.875,
           "rgb(165,15,21)"
          ],
          [
           1.0,
           "rgb(103,0,13)"
          ]
         ],
         "opacity": 0.5,
         "x": {
          "dtype": "f8",
          "bdata": "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",
          "shape": "20, 20"
         },
         "y": {
          "dtype": "f8",
          "bdata": "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",
          "shape": "20, 20"
         },
         "z": {
          "dtype": "f8",
          "bdata": "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",
          "shape": "20, 20"
         },
         "type": "surface"
        }
       ],
       "layout": {
        "template": {
         "data": {
          "histogram2dcontour": [
           {
            "type": "histogram2dcontour",
            "colorbar": {
             "outlinewidth": 0,
             "ticks": ""
            },
            "colorscale": [
             [
              0.0,
              "#0d0887"
             ],
             [
              0.1111111111111111,
              "#46039f"
             ],
             [
              0.2222222222222222,
              "#7201a8"
             ],
             [
              0.3333333333333333,
              "#9c179e"
             ],
             [
              0.4444444444444444,
              "#bd3786"
             ],
             [
              0.5555555555555556,
              "#d8576b"
             ],
             [
              0.6666666666666666,
              "#ed7953"
             ],
             [
              0.7777777777777778,
              "#fb9f3a"
             ],
             [
              0.8888888888888888,
              "#fdca26"
             ],
             [
              1.0,
              "#f0f921"
             ]
            ]
           }
          ],
          "choropleth": [
           {
            "type": "choropleth",
            "colorbar": {
             "outlinewidth": 0,
             "ticks": ""
            }
           }
          ],
          "histogram2d": [
           {
            "type": "histogram2d",
            "colorbar": {
             "outlinewidth": 0,
             "ticks": ""
            },
            "colorscale": [
             [
              0.0,
              "#0d0887"
             ],
             [
              0.1111111111111111,
              "#46039f"
             ],
             [
              0.2222222222222222,
              "#7201a8"
             ],
             [
              0.3333333333333333,
              "#9c179e"
             ],
             [
              0.4444444444444444,
              "#bd3786"
             ],
             [
              0.5555555555555556,
              "#d8576b"
             ],
             [
              0.6666666666666666,
              "#ed7953"
             ],
             [
              0.7777777777777778,
              "#fb9f3a"
             ],
             [
              0.8888888888888888,
              "#fdca26"
             ],
             [
              1.0,
              "#f0f921"
             ]
            ]
           }
          ],
          "heatmap": [
           {
            "type": "heatmap",
            "colorbar": {
             "outlinewidth": 0,
             "ticks": ""
            },
            "colorscale": [
             [
              0.0,
              "#0d0887"
             ],
             [
              0.1111111111111111,
              "#46039f"
             ],
             [
              0.2222222222222222,
              "#7201a8"
             ],
             [
              0.3333333333333333,
              "#9c179e"
             ],
             [
              0.4444444444444444,
              "#bd3786"
             ],
             [
              0.5555555555555556,
              "#d8576b"
             ],
             [
              0.6666666666666666,
              "#ed7953"
             ],
             [
              0.7777777777777778,
              "#fb9f3a"
             ],
             [
              0.8888888888888888,
              "#fdca26"
             ],
             [
              1.0,
              "#f0f921"
             ]
            ]
           }
          ],
          "contourcarpet": [
           {
            "type": "contourcarpet",
            "colorbar": {
             "outlinewidth": 0,
             "ticks": ""
            }
           }
          ],
          "contour": [
           {
            "type": "contour",
            "colorbar": {
             "outlinewidth": 0,
             "ticks": ""
            },
            "colorscale": [
             [
              0.0,
              "#0d0887"
             ],
             [
              0.1111111111111111,
              "#46039f"
             ],
             [
              0.2222222222222222,
              "#7201a8"
             ],
             [
              0.3333333333333333,
              "#9c179e"
             ],
             [
              0.4444444444444444,
              "#bd3786"
             ],
             [
              0.5555555555555556,
              "#d8576b"
             ],
             [
              0.6666666666666666,
              "#ed7953"
             ],
             [
              0.7777777777777778,
              "#fb9f3a"
             ],
             [
              0.8888888888888888,
              "#fdca26"
             ],
             [
              1.0,
              "#f0f921"
             ]
            ]
           }
          ],
          "surface": [
           {
            "type": "surface",
            "colorbar": {
             "outlinewidth": 0,
             "ticks": ""
            },
            "colorscale": [
             [
              0.0,
              "#0d0887"
             ],
             [
              0.1111111111111111,
              "#46039f"
             ],
             [
              0.2222222222222222,
              "#7201a8"
             ],
             [
              0.3333333333333333,
              "#9c179e"
             ],
             [
              0.4444444444444444,
              "#bd3786"
             ],
             [
              0.5555555555555556,
              "#d8576b"
             ],
             [
              0.6666666666666666,
              "#ed7953"
             ],
             [
              0.7777777777777778,
              "#fb9f3a"
             ],
             [
              0.8888888888888888,
              "#fdca26"
             ],
             [
              1.0,
              "#f0f921"
             ]
            ]
           }
          ],
          "mesh3d": [
           {
            "type": "mesh3d",
            "colorbar": {
             "outlinewidth": 0,
             "ticks": ""
            }
           }
          ],
          "scatter": [
           {
            "marker": {
             "line": {
              "color": "#283442"
             }
            },
            "type": "scatter"
           }
          ],
          "parcoords": [
           {
            "type": "parcoords",
            "line": {
             "colorbar": {
              "outlinewidth": 0,
              "ticks": ""
             }
            }
           }
          ],
          "scatterpolargl": [
           {
            "type": "scatterpolargl",
            "marker": {
             "colorbar": {
              "outlinewidth": 0,
              "ticks": ""
             }
            }
           }
          ],
          "bar": [
           {
            "error_x": {
             "color": "#f2f5fa"
            },
            "error_y": {
             "color": "#f2f5fa"
            },
            "marker": {
             "line": {
              "color": "rgb(17,17,17)",
              "width": 0.5
             },
             "pattern": {
              "fillmode": "overlay",
              "size": 10,
              "solidity": 0.2
             }
            },
            "type": "bar"
           }
          ],
          "scattergeo": [
           {
            "type": "scattergeo",
            "marker": {
             "colorbar": {
              "outlinewidth": 0,
              "ticks": ""
             }
            }
           }
          ],
          "scatterpolar": [
           {
            "type": "scatterpolar",
            "marker": {
             "colorbar": {
              "outlinewidth": 0,
              "ticks": ""
             }
            }
           }
          ],
          "histogram": [
           {
            "marker": {
             "pattern": {
              "fillmode": "overlay",
              "size": 10,
              "solidity": 0.2
             }
            },
            "type": "histogram"
           }
          ],
          "scattergl": [
           {
            "marker": {
             "line": {
              "color": "#283442"
             }
            },
            "type": "scattergl"
           }
          ],
          "scatter3d": [
           {
            "type": "scatter3d",
            "line": {
             "colorbar": {
              "outlinewidth": 0,
              "ticks": ""
             }
            },
            "marker": {
             "colorbar": {
              "outlinewidth": 0,
              "ticks": ""
             }
            }
           }
          ],
          "scattermap": [
           {
            "type": "scattermap",
            "marker": {
             "colorbar": {
              "outlinewidth": 0,
              "ticks": ""
             }
            }
           }
          ],
          "scattermapbox": [
           {
            "type": "scattermapbox",
            "marker": {
             "colorbar": {
              "outlinewidth": 0,
              "ticks": ""
             }
            }
           }
          ],
          "scatterternary": [
           {
            "type": "scatterternary",
            "marker": {
             "colorbar": {
              "outlinewidth": 0,
              "ticks": ""
             }
            }
           }
          ],
          "scattercarpet": [
           {
            "type": "scattercarpet",
            "marker": {
             "colorbar": {
              "outlinewidth": 0,
              "ticks": ""
             }
            }
           }
          ],
          "carpet": [
           {
            "aaxis": {
             "endlinecolor": "#A2B1C6",
             "gridcolor": "#506784",
             "linecolor": "#506784",
             "minorgridcolor": "#506784",
             "startlinecolor": "#A2B1C6"
            },
            "baxis": {
             "endlinecolor": "#A2B1C6",
             "gridcolor": "#506784",
             "linecolor": "#506784",
             "minorgridcolor": "#506784",
             "startlinecolor": "#A2B1C6"
            },
            "type": "carpet"
           }
          ],
          "table": [
           {
            "cells": {
             "fill": {
              "color": "#506784"
             },
             "line": {
              "color": "rgb(17,17,17)"
             }
            },
            "header": {
             "fill": {
              "color": "#2a3f5f"
             },
             "line": {
              "color": "rgb(17,17,17)"
             }
            },
            "type": "table"
           }
          ],
          "barpolar": [
           {
            "marker": {
             "line": {
              "color": "rgb(17,17,17)",
              "width": 0.5
             },
             "pattern": {
              "fillmode": "overlay",
              "size": 10,
              "solidity": 0.2
             }
            },
            "type": "barpolar"
           }
          ],
          "pie": [
           {
            "automargin": true,
            "type": "pie"
           }
          ]
         },
         "layout": {
          "autotypenumbers": "strict",
          "colorway": [
           "#636efa",
           "#EF553B",
           "#00cc96",
           "#ab63fa",
           "#FFA15A",
           "#19d3f3",
           "#FF6692",
           "#B6E880",
           "#FF97FF",
           "#FECB52"
          ],
          "font": {
           "color": "#f2f5fa"
          },
          "hovermode": "closest",
          "hoverlabel": {
           "align": "left"
          },
          "paper_bgcolor": "rgb(17,17,17)",
          "plot_bgcolor": "rgb(17,17,17)",
          "polar": {
           "bgcolor": "rgb(17,17,17)",
           "angularaxis": {
            "gridcolor": "#506784",
            "linecolor": "#506784",
            "ticks": ""
           },
           "radialaxis": {
            "gridcolor": "#506784",
            "linecolor": "#506784",
            "ticks": ""
           }
          },
          "ternary": {
           "bgcolor": "rgb(17,17,17)",
           "aaxis": {
            "gridcolor": "#506784",
            "linecolor": "#506784",
            "ticks": ""
           },
           "baxis": {
            "gridcolor": "#506784",
            "linecolor": "#506784",
            "ticks": ""
           },
           "caxis": {
            "gridcolor": "#506784",
            "linecolor": "#506784",
            "ticks": ""
           }
          },
          "coloraxis": {
           "colorbar": {
            "outlinewidth": 0,
            "ticks": ""
           }
          },
          "colorscale": {
           "sequential": [
            [
             0.0,
             "#0d0887"
            ],
            [
             0.1111111111111111,
             "#46039f"
            ],
            [
             0.2222222222222222,
             "#7201a8"
            ],
            [
             0.3333333333333333,
             "#9c179e"
            ],
            [
             0.4444444444444444,
             "#bd3786"
            ],
            [
             0.5555555555555556,
             "#d8576b"
            ],
            [
             0.6666666666666666,
             "#ed7953"
            ],
            [
             0.7777777777777778,
             "#fb9f3a"
            ],
            [
             0.8888888888888888,
             "#fdca26"
            ],
            [
             1.0,
             "#f0f921"
            ]
           ],
           "sequentialminus": [
            [
             0.0,
             "#0d0887"
            ],
            [
             0.1111111111111111,
             "#46039f"
            ],
            [
             0.2222222222222222,
             "#7201a8"
            ],
            [
             0.3333333333333333,
             "#9c179e"
            ],
            [
             0.4444444444444444,
             "#bd3786"
            ],
            [
             0.5555555555555556,
             "#d8576b"
            ],
            [
             0.6666666666666666,
             "#ed7953"
            ],
            [
             0.7777777777777778,
             "#fb9f3a"
            ],
            [
             0.8888888888888888,
             "#fdca26"
            ],
            [
             1.0,
             "#f0f921"
            ]
           ],
           "diverging": [
            [
             0,
             "#8e0152"
            ],
            [
             0.1,
             "#c51b7d"
            ],
            [
             0.2,
             "#de77ae"
            ],
            [
             0.3,
             "#f1b6da"
            ],
            [
             0.4,
             "#fde0ef"
            ],
            [
             0.5,
             "#f7f7f7"
            ],
            [
             0.6,
             "#e6f5d0"
            ],
            [
             0.7,
             "#b8e186"
            ],
            [
             0.8,
             "#7fbc41"
            ],
            [
             0.9,
             "#4d9221"
            ],
            [
             1,
             "#276419"
            ]
           ]
          },
          "xaxis": {
           "gridcolor": "#283442",
           "linecolor": "#506784",
           "ticks": "",
           "title": {
            "standoff": 15
           },
           "zerolinecolor": "#283442",
           "automargin": true,
           "zerolinewidth": 2
          },
          "yaxis": {
           "gridcolor": "#283442",
           "linecolor": "#506784",
           "ticks": "",
           "title": {
            "standoff": 15
           },
           "zerolinecolor": "#283442",
           "automargin": true,
           "zerolinewidth": 2
          },
          "scene": {
           "xaxis": {
            "backgroundcolor": "rgb(17,17,17)",
            "gridcolor": "#506784",
            "linecolor": "#506784",
            "showbackground": true,
            "ticks": "",
            "zerolinecolor": "#C8D4E3",
            "gridwidth": 2
           },
           "yaxis": {
            "backgroundcolor": "rgb(17,17,17)",
            "gridcolor": "#506784",
            "linecolor": "#506784",
            "showbackground": true,
            "ticks": "",
            "zerolinecolor": "#C8D4E3",
            "gridwidth": 2
           },
           "zaxis": {
            "backgroundcolor": "rgb(17,17,17)",
            "gridcolor": "#506784",
            "linecolor": "#506784",
            "showbackground": true,
            "ticks": "",
            "zerolinecolor": "#C8D4E3",
            "gridwidth": 2
           }
          },
          "shapedefaults": {
           "line": {
            "color": "#f2f5fa"
           }
          },
          "annotationdefaults": {
           "arrowcolor": "#f2f5fa",
           "arrowhead": 0,
           "arrowwidth": 1
          },
          "geo": {
           "bgcolor": "rgb(17,17,17)",
           "landcolor": "rgb(17,17,17)",
           "subunitcolor": "#506784",
           "showland": true,
           "showlakes": true,
           "lakecolor": "rgb(17,17,17)"
          },
          "title": {
           "x": 0.05
          },
          "updatemenudefaults": {
           "bgcolor": "#506784",
           "borderwidth": 0
          },
          "sliderdefaults": {
           "bgcolor": "#C8D4E3",
           "borderwidth": 1,
           "bordercolor": "rgb(17,17,17)",
           "tickwidth": 0
          },
          "mapbox": {
           "style": "dark"
          }
         }
        },
        "scene": {
         "xaxis": {
          "title": {
           "text": "X1"
          }
         },
         "yaxis": {
          "title": {
           "text": "X2"
          }
         },
         "zaxis": {
          "title": {
           "text": "Y"
          }
         }
        }
       },
       "config": {
        "plotlyServerURL": "https://plot.ly"
       }
      }
     },
     "metadata": {},
     "output_type": "display_data"
    }
   ],
   "execution_count": 155
  },
  {
   "metadata": {},
   "cell_type": "code",
   "outputs": [],
   "execution_count": null,
   "source": "",
   "id": "3f83b9f71433667d"
  }
 ],
 "metadata": {
  "kernelspec": {
   "display_name": "Python 3",
   "language": "python",
   "name": "python3"
  },
  "language_info": {
   "codemirror_mode": {
    "name": "ipython",
    "version": 2
   },
   "file_extension": ".py",
   "mimetype": "text/x-python",
   "name": "python",
   "nbconvert_exporter": "python",
   "pygments_lexer": "ipython2",
   "version": "2.7.6"
  }
 },
 "nbformat": 4,
 "nbformat_minor": 5
}

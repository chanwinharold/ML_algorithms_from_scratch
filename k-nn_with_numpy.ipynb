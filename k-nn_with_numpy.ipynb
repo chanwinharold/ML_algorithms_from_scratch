{
 "cells": [
  {
   "cell_type": "code",
   "id": "initial_id",
   "metadata": {
    "collapsed": true,
    "ExecuteTime": {
     "end_time": "2025-09-05T12:19:11.426555Z",
     "start_time": "2025-09-05T12:19:09.754492Z"
    }
   },
   "source": [
    "import numpy as np\n",
    "from matplotlib import pyplot as plt\n",
    "\n",
    "from collections import Counter\n",
    "from sklearn.datasets import make_moons"
   ],
   "outputs": [],
   "execution_count": 1
  },
  {
   "metadata": {
    "ExecuteTime": {
     "end_time": "2025-09-05T12:19:11.443672Z",
     "start_time": "2025-09-05T12:19:11.438923Z"
    }
   },
   "cell_type": "code",
   "source": [
    "x_train, y_train = make_moons(100, noise=0.05, random_state=1)\n",
    "x_test, y_test = make_moons(50, noise=0.12, random_state=1)"
   ],
   "id": "decd7c4a5b98eadd",
   "outputs": [],
   "execution_count": 2
  },
  {
   "metadata": {
    "ExecuteTime": {
     "end_time": "2025-09-05T12:19:11.578969Z",
     "start_time": "2025-09-05T12:19:11.575669Z"
    }
   },
   "cell_type": "code",
   "source": [
    "print(x_train.shape)\n",
    "y_train = y_train.reshape((x_train.shape[0], 1))\n",
    "print(y_train.shape)"
   ],
   "id": "c77c883b558c0c86",
   "outputs": [
    {
     "name": "stdout",
     "output_type": "stream",
     "text": [
      "(100, 2)\n",
      "(100, 1)\n"
     ]
    }
   ],
   "execution_count": 3
  },
  {
   "metadata": {
    "ExecuteTime": {
     "end_time": "2025-09-05T12:19:11.796563Z",
     "start_time": "2025-09-05T12:19:11.640726Z"
    }
   },
   "cell_type": "code",
   "source": [
    "plt.scatter(x_train[:, 0], x_train[:, 1], c=\"y\")\n",
    "plt.scatter(x_test[:, 0], x_test[:, 1], c=\"#FFBBAAFF\")\n",
    "\n",
    "plt.show()"
   ],
   "id": "a6971edcf9b0d69b",
   "outputs": [
    {
     "data": {
      "text/plain": [
       "<Figure size 640x480 with 1 Axes>"
      ],
      "image/png": "[encoded data removed]"
     },
     "metadata": {},
     "output_type": "display_data"
    }
   ],
   "execution_count": 4
  },
  {
   "metadata": {
    "ExecuteTime": {
     "end_time": "2025-09-05T12:19:11.822017Z",
     "start_time": "2025-09-05T12:19:11.815028Z"
    }
   },
   "cell_type": "code",
   "source": [
    "class KNNClassifier:\n",
    "\n",
    "    def __init__(self, k: int):\n",
    "        \"\"\" Initialization function \"\"\"\n",
    "        self.explanatory_variable = None\n",
    "        self.target_variable = None\n",
    "        self.k = k\n",
    "\n",
    "    def fit(self, x: np.ndarray, y: np.ndarray):\n",
    "        \"\"\" Training of the model which consist of save the train dataset\"\"\"\n",
    "        self.explanatory_variable = x\n",
    "        self.target_variable = y\n",
    "\n",
    "    @staticmethod\n",
    "    def euclidean_distance(a: np.ndarray, b: np.ndarray):\n",
    "        \"\"\" Compute the Euclidean distance between two vectors \"\"\"\n",
    "        return np.sqrt(np.sum(np.square(a-b)))\n",
    "\n",
    "    def k_nearest_target_value(self, x: np.ndarray) -> np.ndarray :\n",
    "        \"\"\" Find the target value of the k nearest observations of the exemple x\"\"\"\n",
    "        # Keep only the index of the k minimum distance\n",
    "        k_min_index = np.argsort(x)[:self.k]\n",
    "        # Return the target value of the k nearest neighbors\n",
    "        return np.squeeze(self.target_variable[k_min_index])\n",
    "\n",
    "    @staticmethod\n",
    "    def max_class(x: np.ndarray) -> np.ndarray:\n",
    "        \"\"\" Return the most frequent class value in the vector x\"\"\"\n",
    "        count_class = Counter(x)\n",
    "        return max(count_class, key=count_class.get)\n",
    "\n",
    "    def predict_class(self, x: np.ndarray) -> any:\n",
    "        \"\"\"\n",
    "        Predict the average of the k nearest target\n",
    "        :param x:\n",
    "        :return:\n",
    "        \"\"\"\n",
    "        # Compute the distance for every observation of our training dataset\n",
    "        distance_matrix = list(map(lambda var : KNNClassifier.euclidean_distance(x, var), self.explanatory_variable))\n",
    "        # Keep only the target value of the k nearest neighbors\n",
    "        k_target = self.k_nearest_target_value(distance_matrix)\n",
    "        # Return the most frequent target value\n",
    "        return KNNClassifier.max_class(k_target)\n",
    "\n",
    "    def predict(self, x: np.ndarray) -> np.ndarray:\n",
    "        \"\"\"Make predict of all the x dataset\"\"\"\n",
    "        return np.array(list(map(lambda var : self.predict_class(var), x)))"
   ],
   "id": "83ebb704d9054c38",
   "outputs": [],
   "execution_count": 5
  },
  {
   "metadata": {
    "ExecuteTime": {
     "end_time": "2025-09-05T12:19:11.872759Z",
     "start_time": "2025-09-05T12:19:11.868689Z"
    }
   },
   "cell_type": "code",
   "source": [
    "knn = KNNClassifier(5)\n",
    "knn.fit(x_train,y_train)"
   ],
   "id": "d8dd576890a31dab",
   "outputs": [],
   "execution_count": 6
  },
  {
   "metadata": {
    "ExecuteTime": {
     "end_time": "2025-09-05T12:19:11.983982Z",
     "start_time": "2025-09-05T12:19:11.919662Z"
    }
   },
   "cell_type": "code",
   "source": "prediction = knn.predict(x_test)",
   "id": "16062a2e088a99fd",
   "outputs": [],
   "execution_count": 7
  },
  {
   "metadata": {
    "ExecuteTime": {
     "end_time": "2025-09-05T12:19:12.002064Z",
     "start_time": "2025-09-05T12:19:11.996731Z"
    }
   },
   "cell_type": "code",
   "source": "prediction",
   "id": "6972afb7c83cc37d",
   "outputs": [
    {
     "data": {
      "text/plain": [
       "array([1, 1, 1, 1, 0, 0, 1, 1, 1, 1, 1, 1, 0, 1, 0, 1, 1, 1, 0, 0, 1, 0,\n",
       "       1, 0, 0, 0, 1, 0, 1, 0, 1, 1, 1, 0, 0, 1, 0, 0, 1, 0, 0, 0, 0, 0,\n",
       "       0, 0, 0, 0, 1, 1])"
      ]
     },
     "execution_count": 8,
     "metadata": {},
     "output_type": "execute_result"
    }
   ],
   "execution_count": 8
  },
  {
   "metadata": {
    "ExecuteTime": {
     "end_time": "2025-09-05T12:19:12.059334Z",
     "start_time": "2025-09-05T12:19:12.051736Z"
    }
   },
   "cell_type": "code",
   "source": [
    "class KNNRegressor:\n",
    "\n",
    "    def __init__(self, k: int):\n",
    "        \"\"\" Initialization function \"\"\"\n",
    "        self.explanatory_variable = None\n",
    "        self.target_variable = None\n",
    "        self.k = k\n",
    "\n",
    "    def fit(self, x: np.ndarray, y: np.ndarray):\n",
    "        \"\"\" Training of the model which consist of save the train dataset\"\"\"\n",
    "        self.explanatory_variable = x\n",
    "        self.target_variable = y\n",
    "\n",
    "    @staticmethod\n",
    "    def euclidean_distance(a: np.ndarray, b: np.ndarray):\n",
    "        \"\"\" Compute the Euclidean distance between two vectors \"\"\"\n",
    "        return np.sqrt(np.sum(np.square(a-b)))\n",
    "\n",
    "    def k_nearest_target_value(self, x: np.ndarray) -> np.ndarray :\n",
    "        \"\"\" Find the target value of the k nearest observations of the exemple x\"\"\"\n",
    "        # Keep only the index of the k minimum distance\n",
    "        k_min_index = np.argsort(x)[:self.k]\n",
    "        # Return the target value of the k nearest neighbors\n",
    "        return np.squeeze(self.target_variable[k_min_index])\n",
    "\n",
    "    def predict_average(self, x: np.ndarray) -> float:\n",
    "        \"\"\" Predict the average of the k nearest target \"\"\"\n",
    "        # Compute the distance for every observation of our training dataset\n",
    "        distance_matrix = list(map(lambda var : KNNRegressor.euclidean_distance(x, var), self.explanatory_variable))\n",
    "        # Keep only the target value of the k nearest neighbors\n",
    "        k_target = self.k_nearest_target_value(distance_matrix)\n",
    "        # Return the average target value\n",
    "        return np.mean(k_target)\n",
    "\n",
    "\n",
    "    def predict(self, x: np.ndarray) -> np.ndarray:\n",
    "        \"\"\" Make predict of all the x dataset \"\"\"\n",
    "        return np.array(list(map(lambda var : self.predict_average(var), x)))"
   ],
   "id": "eef6fa954b636153",
   "outputs": [],
   "execution_count": 9
  }
 ],
 "metadata": {
  "kernelspec": {
   "display_name": "Python 3",
   "language": "python",
   "name": "python3"
  },
  "language_info": {
   "codemirror_mode": {
    "name": "ipython",
    "version": 2
   },
   "file_extension": ".py",
   "mimetype": "text/x-python",
   "name": "python",
   "nbconvert_exporter": "python",
   "pygments_lexer": "ipython2",
   "version": "2.7.6"
  }
 },
 "nbformat": 4,
 "nbformat_minor": 5
}
